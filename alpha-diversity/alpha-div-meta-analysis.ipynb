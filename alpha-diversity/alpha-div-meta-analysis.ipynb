{
 "cells": [
  {
   "cell_type": "markdown",
   "id": "cd95dee0-e0b4-4905-9dbe-299a9a08b57d",
   "metadata": {},
   "source": [
    "# alpha diversity meta-analysis"
   ]
  },
  {
   "cell_type": "markdown",
   "id": "da08ab15-a48e-4245-b2bc-b57fdf2cb529",
   "metadata": {},
   "source": [
    "+ **目的**：对多个数据集的Shannon做meta-analysis  \n",
    "+ **方法**：随机效应模型    \n",
    "+ **主要步骤**：单个数据集内对Shannon的t.test,可以得到单个数据集的统计结果。用随机效应模型计算综合多个数据集的总效应\n",
    "+ **方法参考**：Meta-analysis reveals reproducible gut microbiome alterations in response to a high-fat diet. 您可以点击[这里](https://www.ncbi.nlm.nih.gov/pmc/articles/PMC6708278/)获取原文。 文章也提供了原代码\n",
    "+ **适用范围**：应该是可以对任意alpha div 拟合混合线性模型，参考文献也用于Firmicutes/Bacteroidetes\n",
    "+ **注**：本notebook的代码是简化版的，仅以Shannon为例，方便说明每一步是做什么的。在Notebook:beegfs/projects/20190707-HP-eradication/analyses/illumina-meta-analysis/all-data-meta-analysis/alpha-diversity-foldchange/with-hp-final.ipynb.有写好的function对多个值同时计算的代码，可能不好理解，如有需要可参考"
   ]
  },
  {
   "cell_type": "code",
   "execution_count": 2,
   "id": "d0ad58e4-ad56-41ad-b1a5-40875011c7ee",
   "metadata": {},
   "outputs": [],
   "source": [
    "library(ggplot2)  \n",
    "library(tidyverse) # for data  reshape\n",
    "#library(readxl)\n",
    "#library(MicrobeR)\n",
    "#library(vegan)"
   ]
  },
  {
   "cell_type": "markdown",
   "id": "ba5adc0f-b8d4-492e-aee5-e2157312e93d",
   "metadata": {},
   "source": [
    "## read data"
   ]
  },
  {
   "cell_type": "markdown",
   "id": "e7ad3927-9bc3-48ae-8c3e-ff8fef081e38",
   "metadata": {},
   "source": [
    "读取示例数据"
   ]
  },
  {
   "cell_type": "code",
   "execution_count": 3,
   "id": "c27db052-5cc0-406d-8a7f-a3407b08493a",
   "metadata": {},
   "outputs": [
    {
     "data": {
      "text/html": [
       "<table>\n",
       "<caption>A data.frame: 6 × 4</caption>\n",
       "<thead>\n",
       "\t<tr><th></th><th scope=col>SampleID</th><th scope=col>Study</th><th scope=col>Group</th><th scope=col>Shannon</th></tr>\n",
       "\t<tr><th></th><th scope=col>&lt;chr&gt;</th><th scope=col>&lt;chr&gt;</th><th scope=col>&lt;chr&gt;</th><th scope=col>&lt;dbl&gt;</th></tr>\n",
       "</thead>\n",
       "<tbody>\n",
       "\t<tr><th scope=row>ERR1995049</th><td>ERR1995049</td><td>Study1</td><td>case   </td><td>3.13783234</td></tr>\n",
       "\t<tr><th scope=row>ERR1995038</th><td>ERR1995038</td><td>Study1</td><td>case   </td><td>4.04552986</td></tr>\n",
       "\t<tr><th scope=row>ERR1994996</th><td>ERR1994996</td><td>Study1</td><td>control</td><td>0.03592160</td></tr>\n",
       "\t<tr><th scope=row>ERR1994997</th><td>ERR1994997</td><td>Study1</td><td>control</td><td>0.02694246</td></tr>\n",
       "\t<tr><th scope=row>ERR1994992</th><td>ERR1994992</td><td>Study1</td><td>control</td><td>0.68194599</td></tr>\n",
       "\t<tr><th scope=row>ERR1994989</th><td>ERR1994989</td><td>Study1</td><td>control</td><td>0.07928267</td></tr>\n",
       "</tbody>\n",
       "</table>\n"
      ],
      "text/latex": [
       "A data.frame: 6 × 4\n",
       "\\begin{tabular}{r|llll}\n",
       "  & SampleID & Study & Group & Shannon\\\\\n",
       "  & <chr> & <chr> & <chr> & <dbl>\\\\\n",
       "\\hline\n",
       "\tERR1995049 & ERR1995049 & Study1 & case    & 3.13783234\\\\\n",
       "\tERR1995038 & ERR1995038 & Study1 & case    & 4.04552986\\\\\n",
       "\tERR1994996 & ERR1994996 & Study1 & control & 0.03592160\\\\\n",
       "\tERR1994997 & ERR1994997 & Study1 & control & 0.02694246\\\\\n",
       "\tERR1994992 & ERR1994992 & Study1 & control & 0.68194599\\\\\n",
       "\tERR1994989 & ERR1994989 & Study1 & control & 0.07928267\\\\\n",
       "\\end{tabular}\n"
      ],
      "text/markdown": [
       "\n",
       "A data.frame: 6 × 4\n",
       "\n",
       "| <!--/--> | SampleID &lt;chr&gt; | Study &lt;chr&gt; | Group &lt;chr&gt; | Shannon &lt;dbl&gt; |\n",
       "|---|---|---|---|---|\n",
       "| ERR1995049 | ERR1995049 | Study1 | case    | 3.13783234 |\n",
       "| ERR1995038 | ERR1995038 | Study1 | case    | 4.04552986 |\n",
       "| ERR1994996 | ERR1994996 | Study1 | control | 0.03592160 |\n",
       "| ERR1994997 | ERR1994997 | Study1 | control | 0.02694246 |\n",
       "| ERR1994992 | ERR1994992 | Study1 | control | 0.68194599 |\n",
       "| ERR1994989 | ERR1994989 | Study1 | control | 0.07928267 |\n",
       "\n"
      ],
      "text/plain": [
       "           SampleID   Study  Group   Shannon   \n",
       "ERR1995049 ERR1995049 Study1 case    3.13783234\n",
       "ERR1995038 ERR1995038 Study1 case    4.04552986\n",
       "ERR1994996 ERR1994996 Study1 control 0.03592160\n",
       "ERR1994997 ERR1994997 Study1 control 0.02694246\n",
       "ERR1994992 ERR1994992 Study1 control 0.68194599\n",
       "ERR1994989 ERR1994989 Study1 control 0.07928267"
      ]
     },
     "metadata": {},
     "output_type": "display_data"
    }
   ],
   "source": [
    "data <- read.csv('data.csv',row.names=1) %>% rownames_to_column(\"SampleID\") \n",
    "row.names(data) <- data$SampleID\n",
    "head(data)"
   ]
  },
  {
   "cell_type": "code",
   "execution_count": 4,
   "id": "b2243751-aa2a-45e9-b68f-2b9c516781f0",
   "metadata": {},
   "outputs": [
    {
     "data": {
      "text/html": [
       "<style>\n",
       ".list-inline {list-style: none; margin:0; padding: 0}\n",
       ".list-inline>li {display: inline-block}\n",
       ".list-inline>li:not(:last-child)::after {content: \"\\00b7\"; padding: 0 .5ex}\n",
       "</style>\n",
       "<ol class=list-inline><li>547</li><li>4</li></ol>\n"
      ],
      "text/latex": [
       "\\begin{enumerate*}\n",
       "\\item 547\n",
       "\\item 4\n",
       "\\end{enumerate*}\n"
      ],
      "text/markdown": [
       "1. 547\n",
       "2. 4\n",
       "\n",
       "\n"
      ],
      "text/plain": [
       "[1] 547   4"
      ]
     },
     "metadata": {},
     "output_type": "display_data"
    }
   ],
   "source": [
    "dim(data)"
   ]
  },
  {
   "cell_type": "code",
   "execution_count": 5,
   "id": "3b35f5fd-cf3c-413b-a78a-ea7da25137a9",
   "metadata": {},
   "outputs": [
    {
     "name": "stderr",
     "output_type": "stream",
     "text": [
      "\u001b[1m\u001b[22m`summarise()` has grouped output by 'Study'. You can override using the\n",
      "`.groups` argument.\n"
     ]
    },
    {
     "data": {
      "text/html": [
       "<table>\n",
       "<caption>A grouped_df: 10 × 3</caption>\n",
       "<thead>\n",
       "\t<tr><th scope=col>Study</th><th scope=col>Group</th><th scope=col>count</th></tr>\n",
       "\t<tr><th scope=col>&lt;chr&gt;</th><th scope=col>&lt;chr&gt;</th><th scope=col>&lt;int&gt;</th></tr>\n",
       "</thead>\n",
       "<tbody>\n",
       "\t<tr><td>Study1</td><td>case   </td><td>  9</td></tr>\n",
       "\t<tr><td>Study1</td><td>control</td><td> 21</td></tr>\n",
       "\t<tr><td>Study2</td><td>case   </td><td> 84</td></tr>\n",
       "\t<tr><td>Study2</td><td>control</td><td> 41</td></tr>\n",
       "\t<tr><td>Study3</td><td>case   </td><td> 36</td></tr>\n",
       "\t<tr><td>Study3</td><td>control</td><td> 56</td></tr>\n",
       "\t<tr><td>Study4</td><td>case   </td><td> 40</td></tr>\n",
       "\t<tr><td>Study4</td><td>control</td><td> 54</td></tr>\n",
       "\t<tr><td>Study5</td><td>case   </td><td>110</td></tr>\n",
       "\t<tr><td>Study5</td><td>control</td><td> 96</td></tr>\n",
       "</tbody>\n",
       "</table>\n"
      ],
      "text/latex": [
       "A grouped\\_df: 10 × 3\n",
       "\\begin{tabular}{lll}\n",
       " Study & Group & count\\\\\n",
       " <chr> & <chr> & <int>\\\\\n",
       "\\hline\n",
       "\t Study1 & case    &   9\\\\\n",
       "\t Study1 & control &  21\\\\\n",
       "\t Study2 & case    &  84\\\\\n",
       "\t Study2 & control &  41\\\\\n",
       "\t Study3 & case    &  36\\\\\n",
       "\t Study3 & control &  56\\\\\n",
       "\t Study4 & case    &  40\\\\\n",
       "\t Study4 & control &  54\\\\\n",
       "\t Study5 & case    & 110\\\\\n",
       "\t Study5 & control &  96\\\\\n",
       "\\end{tabular}\n"
      ],
      "text/markdown": [
       "\n",
       "A grouped_df: 10 × 3\n",
       "\n",
       "| Study &lt;chr&gt; | Group &lt;chr&gt; | count &lt;int&gt; |\n",
       "|---|---|---|\n",
       "| Study1 | case    |   9 |\n",
       "| Study1 | control |  21 |\n",
       "| Study2 | case    |  84 |\n",
       "| Study2 | control |  41 |\n",
       "| Study3 | case    |  36 |\n",
       "| Study3 | control |  56 |\n",
       "| Study4 | case    |  40 |\n",
       "| Study4 | control |  54 |\n",
       "| Study5 | case    | 110 |\n",
       "| Study5 | control |  96 |\n",
       "\n"
      ],
      "text/plain": [
       "   Study  Group   count\n",
       "1  Study1 case      9  \n",
       "2  Study1 control  21  \n",
       "3  Study2 case     84  \n",
       "4  Study2 control  41  \n",
       "5  Study3 case     36  \n",
       "6  Study3 control  56  \n",
       "7  Study4 case     40  \n",
       "8  Study4 control  54  \n",
       "9  Study5 case    110  \n",
       "10 Study5 control  96  "
      ]
     },
     "metadata": {},
     "output_type": "display_data"
    }
   ],
   "source": [
    "# over view the data\n",
    "data %>%group_by(Study, Group) %>% summarize(count=n())"
   ]
  },
  {
   "cell_type": "markdown",
   "id": "364964aa-bd4a-4783-a241-ab16bb4266a4",
   "metadata": {},
   "source": [
    "共5个数据集，每个数据集都有control和case和两个组，"
   ]
  },
  {
   "cell_type": "markdown",
   "id": "16a82581-4a24-4a26-8edc-0c0309849fcb",
   "metadata": {},
   "source": [
    "## analysis"
   ]
  },
  {
   "cell_type": "code",
   "execution_count": 6,
   "id": "6e367525-a058-48fc-8dc8-7136b1ae82f1",
   "metadata": {},
   "outputs": [
    {
     "name": "stderr",
     "output_type": "stream",
     "text": [
      "\u001b[1m\u001b[22m`summarise()` has grouped output by 'Study'. You can override using the\n",
      "`.groups` argument.\n",
      "\u001b[1m\u001b[22mJoining, by = \"Study\"\n"
     ]
    }
   ],
   "source": [
    "data <- data %>% left_join(data %>% group_by(Study,Group) %>% \n",
    "                           summarize(mean=mean(log2(Shannon)))%>%  # 每个数据集内每个组算平均值\n",
    "                       spread(key=Group,value=mean) %>% \n",
    "                       rename(mean_log2case=case, mean_log2control=control)) %>%\n",
    "                       mutate(log2FC=log2(Shannon)-mean_log2control)  # 以对照组的平均值为标准对数据进行标准化"
   ]
  },
  {
   "cell_type": "code",
   "execution_count": 7,
   "id": "a295facc-446b-4759-8aca-68d6d86255cb",
   "metadata": {},
   "outputs": [
    {
     "data": {
      "text/html": [
       "<table>\n",
       "<caption>A data.frame: 6 × 7</caption>\n",
       "<thead>\n",
       "\t<tr><th></th><th scope=col>SampleID</th><th scope=col>Study</th><th scope=col>Group</th><th scope=col>Shannon</th><th scope=col>mean_log2case</th><th scope=col>mean_log2control</th><th scope=col>log2FC</th></tr>\n",
       "\t<tr><th></th><th scope=col>&lt;chr&gt;</th><th scope=col>&lt;chr&gt;</th><th scope=col>&lt;chr&gt;</th><th scope=col>&lt;dbl&gt;</th><th scope=col>&lt;dbl&gt;</th><th scope=col>&lt;dbl&gt;</th><th scope=col>&lt;dbl&gt;</th></tr>\n",
       "</thead>\n",
       "<tbody>\n",
       "\t<tr><th scope=row>1</th><td>ERR1995049</td><td>Study1</td><td>case   </td><td>3.13783234</td><td>-1.185529</td><td>-3.367568</td><td> 5.0173360</td></tr>\n",
       "\t<tr><th scope=row>2</th><td>ERR1995038</td><td>Study1</td><td>case   </td><td>4.04552986</td><td>-1.185529</td><td>-3.367568</td><td> 5.3838964</td></tr>\n",
       "\t<tr><th scope=row>3</th><td>ERR1994996</td><td>Study1</td><td>control</td><td>0.03592160</td><td>-1.185529</td><td>-3.367568</td><td>-1.4314368</td></tr>\n",
       "\t<tr><th scope=row>4</th><td>ERR1994997</td><td>Study1</td><td>control</td><td>0.02694246</td><td>-1.185529</td><td>-3.367568</td><td>-1.8464070</td></tr>\n",
       "\t<tr><th scope=row>5</th><td>ERR1994992</td><td>Study1</td><td>control</td><td>0.68194599</td><td>-1.185529</td><td>-3.367568</td><td> 2.8152971</td></tr>\n",
       "\t<tr><th scope=row>6</th><td>ERR1994989</td><td>Study1</td><td>control</td><td>0.07928267</td><td>-1.185529</td><td>-3.367568</td><td>-0.2892829</td></tr>\n",
       "</tbody>\n",
       "</table>\n"
      ],
      "text/latex": [
       "A data.frame: 6 × 7\n",
       "\\begin{tabular}{r|lllllll}\n",
       "  & SampleID & Study & Group & Shannon & mean\\_log2case & mean\\_log2control & log2FC\\\\\n",
       "  & <chr> & <chr> & <chr> & <dbl> & <dbl> & <dbl> & <dbl>\\\\\n",
       "\\hline\n",
       "\t1 & ERR1995049 & Study1 & case    & 3.13783234 & -1.185529 & -3.367568 &  5.0173360\\\\\n",
       "\t2 & ERR1995038 & Study1 & case    & 4.04552986 & -1.185529 & -3.367568 &  5.3838964\\\\\n",
       "\t3 & ERR1994996 & Study1 & control & 0.03592160 & -1.185529 & -3.367568 & -1.4314368\\\\\n",
       "\t4 & ERR1994997 & Study1 & control & 0.02694246 & -1.185529 & -3.367568 & -1.8464070\\\\\n",
       "\t5 & ERR1994992 & Study1 & control & 0.68194599 & -1.185529 & -3.367568 &  2.8152971\\\\\n",
       "\t6 & ERR1994989 & Study1 & control & 0.07928267 & -1.185529 & -3.367568 & -0.2892829\\\\\n",
       "\\end{tabular}\n"
      ],
      "text/markdown": [
       "\n",
       "A data.frame: 6 × 7\n",
       "\n",
       "| <!--/--> | SampleID &lt;chr&gt; | Study &lt;chr&gt; | Group &lt;chr&gt; | Shannon &lt;dbl&gt; | mean_log2case &lt;dbl&gt; | mean_log2control &lt;dbl&gt; | log2FC &lt;dbl&gt; |\n",
       "|---|---|---|---|---|---|---|---|\n",
       "| 1 | ERR1995049 | Study1 | case    | 3.13783234 | -1.185529 | -3.367568 |  5.0173360 |\n",
       "| 2 | ERR1995038 | Study1 | case    | 4.04552986 | -1.185529 | -3.367568 |  5.3838964 |\n",
       "| 3 | ERR1994996 | Study1 | control | 0.03592160 | -1.185529 | -3.367568 | -1.4314368 |\n",
       "| 4 | ERR1994997 | Study1 | control | 0.02694246 | -1.185529 | -3.367568 | -1.8464070 |\n",
       "| 5 | ERR1994992 | Study1 | control | 0.68194599 | -1.185529 | -3.367568 |  2.8152971 |\n",
       "| 6 | ERR1994989 | Study1 | control | 0.07928267 | -1.185529 | -3.367568 | -0.2892829 |\n",
       "\n"
      ],
      "text/plain": [
       "  SampleID   Study  Group   Shannon    mean_log2case mean_log2control\n",
       "1 ERR1995049 Study1 case    3.13783234 -1.185529     -3.367568       \n",
       "2 ERR1995038 Study1 case    4.04552986 -1.185529     -3.367568       \n",
       "3 ERR1994996 Study1 control 0.03592160 -1.185529     -3.367568       \n",
       "4 ERR1994997 Study1 control 0.02694246 -1.185529     -3.367568       \n",
       "5 ERR1994992 Study1 control 0.68194599 -1.185529     -3.367568       \n",
       "6 ERR1994989 Study1 control 0.07928267 -1.185529     -3.367568       \n",
       "  log2FC    \n",
       "1  5.0173360\n",
       "2  5.3838964\n",
       "3 -1.4314368\n",
       "4 -1.8464070\n",
       "5  2.8152971\n",
       "6 -0.2892829"
      ]
     },
     "metadata": {},
     "output_type": "display_data"
    }
   ],
   "source": [
    "head(data)\n",
    "# 得到了每个数据集每个组的平均值"
   ]
  },
  {
   "cell_type": "code",
   "execution_count": 8,
   "id": "66853e6c-1302-460a-84cd-7d991fa9e812",
   "metadata": {
    "tags": []
   },
   "outputs": [],
   "source": [
    "#t.test(log2FC~Group, data=data, conf.int=TRUE, conf.level=0.95)"
   ]
  },
  {
   "cell_type": "code",
   "execution_count": 9,
   "id": "d7a13208-b312-492d-b4c5-b7ff8333e758",
   "metadata": {},
   "outputs": [
    {
     "data": {
      "text/html": [
       "<table>\n",
       "<caption>A grouped_df: 5 × 5</caption>\n",
       "<thead>\n",
       "\t<tr><th scope=col>Study</th><th scope=col>log2FC</th><th scope=col>Pvalue</th><th scope=col>CI_low</th><th scope=col>CI_high</th></tr>\n",
       "\t<tr><th scope=col>&lt;chr&gt;</th><th scope=col>&lt;dbl&gt;</th><th scope=col>&lt;dbl&gt;</th><th scope=col>&lt;dbl&gt;</th><th scope=col>&lt;dbl&gt;</th></tr>\n",
       "</thead>\n",
       "<tbody>\n",
       "\t<tr><td>Study1</td><td> 2.182038854</td><td>1.764055e-01</td><td>-1.1592242</td><td> 5.5233019</td></tr>\n",
       "\t<tr><td>Study2</td><td>-0.803845747</td><td>3.349214e-07</td><td>-1.0980695</td><td>-0.5096220</td></tr>\n",
       "\t<tr><td>Study3</td><td> 0.009311609</td><td>9.233430e-01</td><td>-0.1830829</td><td> 0.2017061</td></tr>\n",
       "\t<tr><td>Study4</td><td> 0.028929426</td><td>6.733176e-01</td><td>-0.1069321</td><td> 0.1647909</td></tr>\n",
       "\t<tr><td>Study5</td><td> 0.781684184</td><td>1.421266e-02</td><td> 0.1586050</td><td> 1.4047634</td></tr>\n",
       "</tbody>\n",
       "</table>\n"
      ],
      "text/latex": [
       "A grouped\\_df: 5 × 5\n",
       "\\begin{tabular}{lllll}\n",
       " Study & log2FC & Pvalue & CI\\_low & CI\\_high\\\\\n",
       " <chr> & <dbl> & <dbl> & <dbl> & <dbl>\\\\\n",
       "\\hline\n",
       "\t Study1 &  2.182038854 & 1.764055e-01 & -1.1592242 &  5.5233019\\\\\n",
       "\t Study2 & -0.803845747 & 3.349214e-07 & -1.0980695 & -0.5096220\\\\\n",
       "\t Study3 &  0.009311609 & 9.233430e-01 & -0.1830829 &  0.2017061\\\\\n",
       "\t Study4 &  0.028929426 & 6.733176e-01 & -0.1069321 &  0.1647909\\\\\n",
       "\t Study5 &  0.781684184 & 1.421266e-02 &  0.1586050 &  1.4047634\\\\\n",
       "\\end{tabular}\n"
      ],
      "text/markdown": [
       "\n",
       "A grouped_df: 5 × 5\n",
       "\n",
       "| Study &lt;chr&gt; | log2FC &lt;dbl&gt; | Pvalue &lt;dbl&gt; | CI_low &lt;dbl&gt; | CI_high &lt;dbl&gt; |\n",
       "|---|---|---|---|---|\n",
       "| Study1 |  2.182038854 | 1.764055e-01 | -1.1592242 |  5.5233019 |\n",
       "| Study2 | -0.803845747 | 3.349214e-07 | -1.0980695 | -0.5096220 |\n",
       "| Study3 |  0.009311609 | 9.233430e-01 | -0.1830829 |  0.2017061 |\n",
       "| Study4 |  0.028929426 | 6.733176e-01 | -0.1069321 |  0.1647909 |\n",
       "| Study5 |  0.781684184 | 1.421266e-02 |  0.1586050 |  1.4047634 |\n",
       "\n"
      ],
      "text/plain": [
       "  Study  log2FC       Pvalue       CI_low     CI_high   \n",
       "1 Study1  2.182038854 1.764055e-01 -1.1592242  5.5233019\n",
       "2 Study2 -0.803845747 3.349214e-07 -1.0980695 -0.5096220\n",
       "3 Study3  0.009311609 9.233430e-01 -0.1830829  0.2017061\n",
       "4 Study4  0.028929426 6.733176e-01 -0.1069321  0.1647909\n",
       "5 Study5  0.781684184 1.421266e-02  0.1586050  1.4047634"
      ]
     },
     "metadata": {},
     "output_type": "display_data"
    }
   ],
   "source": [
    "stat <- data %>% group_by(Study) %>%\n",
    "do(broom::tidy(t.test(log2FC~Group, data=., conf.int=TRUE, conf.level=0.95)))%>%  # 每个数据集内部control组和case组做t检验\n",
    "select(Study,\n",
    "       log2FC=estimate, \n",
    "       Pvalue=p.value, \n",
    "       CI_low=conf.low, \n",
    "       CI_high=conf.high) #\n",
    "\n",
    "stat "
   ]
  },
  {
   "cell_type": "code",
   "execution_count": 10,
   "id": "f76e6c4d-f533-4829-9aa4-78edfa628d32",
   "metadata": {},
   "outputs": [],
   "source": [
    "data$Group <- factor(data$Group,levels=(c('control','case')))\n",
    "# 把group列变为factor，对照组在前，不然算出来的值不知道是那个组比那个组，\n",
    "# 按照这个写法，后面算的foldchange是case基于control，当foldchang大于0，表示case组高于control组"
   ]
  },
  {
   "cell_type": "code",
   "execution_count": 11,
   "id": "423f0add-3d70-43ed-8fc0-9d950d86920a",
   "metadata": {},
   "outputs": [
    {
     "data": {
      "text/html": [
       "<table>\n",
       "<caption>A tibble: 0 × 5</caption>\n",
       "<thead>\n",
       "\t<tr><th scope=col>Study</th><th scope=col>log2FC</th><th scope=col>Pvalue</th><th scope=col>CI_low</th><th scope=col>CI_high</th></tr>\n",
       "\t<tr><th scope=col>&lt;chr&gt;</th><th scope=col>&lt;dbl&gt;</th><th scope=col>&lt;dbl&gt;</th><th scope=col>&lt;dbl&gt;</th><th scope=col>&lt;dbl&gt;</th></tr>\n",
       "</thead>\n",
       "<tbody>\n",
       "</tbody>\n",
       "</table>\n"
      ],
      "text/latex": [
       "A tibble: 0 × 5\n",
       "\\begin{tabular}{lllll}\n",
       " Study & log2FC & Pvalue & CI\\_low & CI\\_high\\\\\n",
       " <chr> & <dbl> & <dbl> & <dbl> & <dbl>\\\\\n",
       "\\hline\n",
       "\\end{tabular}\n"
      ],
      "text/markdown": [
       "\n",
       "A tibble: 0 × 5\n",
       "\n",
       "| Study &lt;chr&gt; | log2FC &lt;dbl&gt; | Pvalue &lt;dbl&gt; | CI_low &lt;dbl&gt; | CI_high &lt;dbl&gt; |\n",
       "|---|---|---|---|---|\n",
       "\n"
      ],
      "text/plain": [
       "     Study log2FC Pvalue CI_low CI_high"
      ]
     },
     "metadata": {},
     "output_type": "display_data"
    }
   ],
   "source": [
    "# 构建一个空的data.frame\n",
    "REM <- tibble(Study=character(0), \n",
    "                  log2FC=numeric(0), Pvalue=numeric(0), \n",
    "              CI_low=numeric(0), CI_high=numeric(0))\n",
    "REM"
   ]
  },
  {
   "cell_type": "code",
   "execution_count": 12,
   "id": "b5af0997-6b1f-4e8c-a5eb-36892aeff30e",
   "metadata": {},
   "outputs": [
    {
     "name": "stderr",
     "output_type": "stream",
     "text": [
      "Computing profile confidence intervals ...\n",
      "\n"
     ]
    }
   ],
   "source": [
    "fit <- lmerTest:::lmer(log2FC~Group+(1|Study), data)  #fit ramdom effect module\n",
    "cf <- confint(fit,level = 0.95) # calculate CI"
   ]
  },
  {
   "cell_type": "code",
   "execution_count": 13,
   "id": "d5d01a2c-a93a-4228-a8d0-e540865d24f9",
   "metadata": {},
   "outputs": [],
   "source": [
    "REM <- bind_rows(REM, tibble(\n",
    "Study=\"Meta\", \n",
    "log2FC=summary(fit)$coefficients[\"Groupcase\", \"Estimate\"], \n",
    "Pvalue=anova(fit)$`Pr(>F)`,  \n",
    "CI_low=cf[\"Groupcase\",1],  \n",
    "CI_high=cf[\"Groupcase\",2] \n",
    ")) # 从random effect model中提取结果，"
   ]
  },
  {
   "cell_type": "code",
   "execution_count": 14,
   "id": "c09ee2e0-ef62-491f-b244-bb1fa0e50dea",
   "metadata": {},
   "outputs": [
    {
     "data": {
      "text/html": [
       "<table>\n",
       "<caption>A tibble: 1 × 5</caption>\n",
       "<thead>\n",
       "\t<tr><th scope=col>Study</th><th scope=col>log2FC</th><th scope=col>Pvalue</th><th scope=col>CI_low</th><th scope=col>CI_high</th></tr>\n",
       "\t<tr><th scope=col>&lt;chr&gt;</th><th scope=col>&lt;dbl&gt;</th><th scope=col>&lt;dbl&gt;</th><th scope=col>&lt;dbl&gt;</th><th scope=col>&lt;dbl&gt;</th></tr>\n",
       "</thead>\n",
       "<tbody>\n",
       "\t<tr><td>Meta</td><td>0.2312372</td><td>0.1125347</td><td>-0.05989925</td><td>0.5129764</td></tr>\n",
       "</tbody>\n",
       "</table>\n"
      ],
      "text/latex": [
       "A tibble: 1 × 5\n",
       "\\begin{tabular}{lllll}\n",
       " Study & log2FC & Pvalue & CI\\_low & CI\\_high\\\\\n",
       " <chr> & <dbl> & <dbl> & <dbl> & <dbl>\\\\\n",
       "\\hline\n",
       "\t Meta & 0.2312372 & 0.1125347 & -0.05989925 & 0.5129764\\\\\n",
       "\\end{tabular}\n"
      ],
      "text/markdown": [
       "\n",
       "A tibble: 1 × 5\n",
       "\n",
       "| Study &lt;chr&gt; | log2FC &lt;dbl&gt; | Pvalue &lt;dbl&gt; | CI_low &lt;dbl&gt; | CI_high &lt;dbl&gt; |\n",
       "|---|---|---|---|---|\n",
       "| Meta | 0.2312372 | 0.1125347 | -0.05989925 | 0.5129764 |\n",
       "\n"
      ],
      "text/plain": [
       "  Study log2FC    Pvalue    CI_low      CI_high  \n",
       "1 Meta  0.2312372 0.1125347 -0.05989925 0.5129764"
      ]
     },
     "metadata": {},
     "output_type": "display_data"
    }
   ],
   "source": [
    "REM "
   ]
  },
  {
   "cell_type": "code",
   "execution_count": 15,
   "id": "7d15a080-eb50-4567-a3d8-fe8acc2f5eb8",
   "metadata": {
    "tags": []
   },
   "outputs": [],
   "source": [
    "res <- stat %>% bind_rows(REM) %>%\n",
    "mutate(Significance=case_when(\n",
    "Pvalue<0.05 & log2FC>0 ~ \"* higher in Case\" ,\n",
    "Pvalue<0.05 & log2FC<0 ~ \"* higher in Control\",\n",
    "TRUE~\"ns\")) # random effect module 结果和单个数据集的结果合并起来，"
   ]
  },
  {
   "cell_type": "code",
   "execution_count": 16,
   "id": "1323ca87-044d-4631-afc6-d9fb5a79e4cb",
   "metadata": {},
   "outputs": [
    {
     "data": {
      "text/html": [
       "<table>\n",
       "<caption>A grouped_df: 6 × 6</caption>\n",
       "<thead>\n",
       "\t<tr><th scope=col>Study</th><th scope=col>log2FC</th><th scope=col>Pvalue</th><th scope=col>CI_low</th><th scope=col>CI_high</th><th scope=col>Significance</th></tr>\n",
       "\t<tr><th scope=col>&lt;chr&gt;</th><th scope=col>&lt;dbl&gt;</th><th scope=col>&lt;dbl&gt;</th><th scope=col>&lt;dbl&gt;</th><th scope=col>&lt;dbl&gt;</th><th scope=col>&lt;chr&gt;</th></tr>\n",
       "</thead>\n",
       "<tbody>\n",
       "\t<tr><td>Study1</td><td> 2.182038854</td><td>1.764055e-01</td><td>-1.15922424</td><td> 5.5233019</td><td>ns                 </td></tr>\n",
       "\t<tr><td>Study2</td><td>-0.803845747</td><td>3.349214e-07</td><td>-1.09806949</td><td>-0.5096220</td><td>* higher in Control</td></tr>\n",
       "\t<tr><td>Study3</td><td> 0.009311609</td><td>9.233430e-01</td><td>-0.18308289</td><td> 0.2017061</td><td>ns                 </td></tr>\n",
       "\t<tr><td>Study4</td><td> 0.028929426</td><td>6.733176e-01</td><td>-0.10693205</td><td> 0.1647909</td><td>ns                 </td></tr>\n",
       "\t<tr><td>Study5</td><td> 0.781684184</td><td>1.421266e-02</td><td> 0.15860500</td><td> 1.4047634</td><td>* higher in Case   </td></tr>\n",
       "\t<tr><td>Meta  </td><td> 0.231237181</td><td>1.125347e-01</td><td>-0.05989925</td><td> 0.5129764</td><td>ns                 </td></tr>\n",
       "</tbody>\n",
       "</table>\n"
      ],
      "text/latex": [
       "A grouped\\_df: 6 × 6\n",
       "\\begin{tabular}{llllll}\n",
       " Study & log2FC & Pvalue & CI\\_low & CI\\_high & Significance\\\\\n",
       " <chr> & <dbl> & <dbl> & <dbl> & <dbl> & <chr>\\\\\n",
       "\\hline\n",
       "\t Study1 &  2.182038854 & 1.764055e-01 & -1.15922424 &  5.5233019 & ns                 \\\\\n",
       "\t Study2 & -0.803845747 & 3.349214e-07 & -1.09806949 & -0.5096220 & * higher in Control\\\\\n",
       "\t Study3 &  0.009311609 & 9.233430e-01 & -0.18308289 &  0.2017061 & ns                 \\\\\n",
       "\t Study4 &  0.028929426 & 6.733176e-01 & -0.10693205 &  0.1647909 & ns                 \\\\\n",
       "\t Study5 &  0.781684184 & 1.421266e-02 &  0.15860500 &  1.4047634 & * higher in Case   \\\\\n",
       "\t Meta   &  0.231237181 & 1.125347e-01 & -0.05989925 &  0.5129764 & ns                 \\\\\n",
       "\\end{tabular}\n"
      ],
      "text/markdown": [
       "\n",
       "A grouped_df: 6 × 6\n",
       "\n",
       "| Study &lt;chr&gt; | log2FC &lt;dbl&gt; | Pvalue &lt;dbl&gt; | CI_low &lt;dbl&gt; | CI_high &lt;dbl&gt; | Significance &lt;chr&gt; |\n",
       "|---|---|---|---|---|---|\n",
       "| Study1 |  2.182038854 | 1.764055e-01 | -1.15922424 |  5.5233019 | ns                  |\n",
       "| Study2 | -0.803845747 | 3.349214e-07 | -1.09806949 | -0.5096220 | * higher in Control |\n",
       "| Study3 |  0.009311609 | 9.233430e-01 | -0.18308289 |  0.2017061 | ns                  |\n",
       "| Study4 |  0.028929426 | 6.733176e-01 | -0.10693205 |  0.1647909 | ns                  |\n",
       "| Study5 |  0.781684184 | 1.421266e-02 |  0.15860500 |  1.4047634 | * higher in Case    |\n",
       "| Meta   |  0.231237181 | 1.125347e-01 | -0.05989925 |  0.5129764 | ns                  |\n",
       "\n"
      ],
      "text/plain": [
       "  Study  log2FC       Pvalue       CI_low      CI_high    Significance       \n",
       "1 Study1  2.182038854 1.764055e-01 -1.15922424  5.5233019 ns                 \n",
       "2 Study2 -0.803845747 3.349214e-07 -1.09806949 -0.5096220 * higher in Control\n",
       "3 Study3  0.009311609 9.233430e-01 -0.18308289  0.2017061 ns                 \n",
       "4 Study4  0.028929426 6.733176e-01 -0.10693205  0.1647909 ns                 \n",
       "5 Study5  0.781684184 1.421266e-02  0.15860500  1.4047634 * higher in Case   \n",
       "6 Meta    0.231237181 1.125347e-01 -0.05989925  0.5129764 ns                 "
      ]
     },
     "metadata": {},
     "output_type": "display_data"
    }
   ],
   "source": [
    "res"
   ]
  },
  {
   "cell_type": "markdown",
   "id": "284c97f9-e2c6-4296-93d7-d5ac356d2a05",
   "metadata": {},
   "source": [
    "## Visualize the results"
   ]
  },
  {
   "cell_type": "code",
   "execution_count": 17,
   "id": "d8802df5-220c-40a2-90cc-97f24dd919b3",
   "metadata": {},
   "outputs": [
    {
     "data": {
      "image/png": "[encoded data removed]",
      "text/plain": [
       "plot without title"
      ]
     },
     "metadata": {
      "image/png": {
       "height": 420,
       "width": 420
      }
     },
     "output_type": "display_data"
    }
   ],
   "source": [
    "size=9\n",
    "\n",
    "ggplot(res,aes(x=log2FC, y=Study, color=Significance)) +  \n",
    "geom_vline(xintercept = 0, linetype=\"dashed\", color=\"grey50\") +\n",
    "geom_errorbarh(aes(xmin=CI_low, xmax=CI_high), height=0 ) +\n",
    "geom_point(shape=18,size=3) +\n",
    "theme_bw() +\n",
    "scale_color_manual(values=c(\"#0072B2\", \"#E69F00\", \"black\"))  +\n",
    "theme(panel.border = element_blank(), axis.line = element_line(),\n",
    "      plot.title = element_text(hjust = 0.5)) + \n",
    "theme(axis.text.x=element_text(angle=45, hjust=1,size=size),\n",
    "      axis.text.y=element_text(size=size),\n",
    "      axis.text = element_text(size = size,colour = 'black'),\n",
    "      legend.title = element_text(size = size),\n",
    "      legend.text = element_text(size = size))+\n",
    "      xlab('log2(fold difference)')+\n",
    "      labs(y='Study')    "
   ]
  },
  {
   "cell_type": "markdown",
   "id": "e65f4a1b-b878-43df-9e0f-8b4e97f070b8",
   "metadata": {},
   "source": [
    "如图所示，在study1，study3，study4中，control组和case的Shannon无显著差异，在study2中control组显著高于case组，在study5中，case组Shannon显著高于control组，综合多个数据集看control组和case的Shannon无显著差异"
   ]
  },
  {
   "cell_type": "code",
   "execution_count": null,
   "id": "47219d08-44bc-4736-89e5-7da5f721fc04",
   "metadata": {},
   "outputs": [],
   "source": []
  },
  {
   "cell_type": "code",
   "execution_count": null,
   "id": "28a4d78e-152d-4a7f-b2e6-4a9239e11309",
   "metadata": {},
   "outputs": [],
   "source": []
  },
  {
   "cell_type": "code",
   "execution_count": null,
   "id": "f7b4ed62-78ba-43f2-9cb5-4ec56927a8b8",
   "metadata": {},
   "outputs": [],
   "source": []
  },
  {
   "cell_type": "markdown",
   "id": "53530c23-7902-46eb-b427-bbeafe4879bc",
   "metadata": {},
   "source": [
    "## function "
   ]
  },
  {
   "cell_type": "code",
   "execution_count": 18,
   "id": "b936ae1b-5fd2-4a11-98b2-53b2ced62860",
   "metadata": {},
   "outputs": [],
   "source": [
    "\n",
    "\n",
    "# metaca<- function(data,study='Study',group='Group',Control='control',Case='case',value='Value',ci=0.95){\n",
    "    \n",
    "    \n",
    "#     # prepare data\n",
    "#     names(data)[names(data)==study] <- 'Study'\n",
    "#     names(data)[names(data)==group] <- 'Group'\n",
    "#     names(data)[names(data)==value] <- 'Value'\n",
    "    \n",
    "#     data[which(data['Group']== Control),'Group'] <-'control'\n",
    "#     data[which(data['Group']== Case),'Group'] <-'case'\n",
    "    \n",
    "#     data <- data %>% select(Study, Group, Value)\n",
    "    \n",
    "#     # t test for each study bwt group\n",
    "#     data <- data %>% left_join(data %>% group_by(Study,Group) %>% summarize(mean=mean(log2(Value)))%>%\n",
    "#                            spread(key=Group,value=mean) %>% \n",
    "#                            rename(mean_log2case=case, mean_log2control=control)) %>%\n",
    "#                            mutate(log2FC=log2(Value)-mean_log2control)    \n",
    "    \n",
    "#     stat <- data %>% group_by(Study) %>%\n",
    "#     do(broom::tidy(t.test(log2FC~Group, data=., conf.int=TRUE, conf.level=0.95)))%>%\n",
    "#     select(Study,\n",
    "#            log2FC=estimate, \n",
    "#            Pvalue=p.value, \n",
    "#            CI_low=conf.low, \n",
    "#            CI_high=conf.high)\n",
    "    \n",
    "#     REM <- tibble(Study=character(0), \n",
    "#                       log2FC=numeric(0), Pvalue=numeric(0), \n",
    "#                   CI_low=numeric(0), CI_high=numeric(0))\n",
    "\n",
    "    \n",
    "#     data$Group <- factor(data$Group,levels=(c('control','case')))\n",
    "#     fit<-lmerTest:::lmer(log2FC~Group+(1|Study), data)  #fit module\n",
    "#     cf<-confint(fit,level = 0.95)\n",
    "\n",
    "#     REM<-bind_rows(REM, tibble(\n",
    "#     Study=\"Meta\", \n",
    "\n",
    "#     log2FC=summary(fit)$coefficients[\"Groupcase\", \"Estimate\"], \n",
    "#     Pvalue=anova(fit)$`Pr(>F)`,  \n",
    "#     CI_low=cf[\"Groupcase\",1],  \n",
    "#     CI_high=cf[\"Groupcase\",2] \n",
    "#     ))\n",
    "\n",
    "#     res <- stat %>% bind_rows(REM) %>%\n",
    "#     mutate(Significance=case_when(\n",
    "#     Pvalue<0.05 & log2FC>0 ~ sprintf(\"* higher in %s\",Case),\n",
    "#     Pvalue<0.05 & log2FC<0 ~ sprintf(\"* higher in %s\",Control),\n",
    "#     TRUE~\"ns\"\n",
    "#     )) \n",
    "\n",
    "#     return(res)\n",
    "# }\n"
   ]
  }
 ],
 "metadata": {
  "kernelspec": {
   "display_name": "R",
   "language": "R",
   "name": "ir"
  },
  "language_info": {
   "codemirror_mode": "r",
   "file_extension": ".r",
   "mimetype": "text/x-r-source",
   "name": "R",
   "pygments_lexer": "r",
   "version": "4.0.0"
  },
  "toc-autonumbering": true
 },
 "nbformat": 4,
 "nbformat_minor": 5
}
