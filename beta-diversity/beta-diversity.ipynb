{
 "cells": [
  {
   "cell_type": "markdown",
   "id": "4eb2ce62-c003-4fff-a42e-3af4438c0174",
   "metadata": {},
   "source": [
    "# Adonis analysis"
   ]
  },
  {
   "cell_type": "markdown",
   "id": "147769dc-65ed-40c5-8182-207067fd0359",
   "metadata": {},
   "source": [
    "+ **目的**：用adnonis统计分析每个数据集两个组之间beta多样性的差异并统计这两组在数据集中的差异总效应值\n",
    "+ **方法参考**：Meta-analysis reveals reproducible gut microbiome alterations in response to a high-fat diet. 您可以点击[这里](https://www.ncbi.nlm.nih.gov/pmc/articles/PMC6708278/)获取原文。 "
   ]
  },
  {
   "cell_type": "code",
   "execution_count": 2,
   "id": "bbc3822b-f94a-4d86-884a-0437918dafd2",
   "metadata": {
    "tags": []
   },
   "outputs": [],
   "source": [
    "library(vegan) #for adonis analysis\n",
    "library(ggplot2)\n",
    "library(tidyverse)\n",
    "#library(MicrobeR)"
   ]
  },
  {
   "cell_type": "code",
   "execution_count": 4,
   "id": "5d2eec55-8019-4540-8453-975512076f6e",
   "metadata": {},
   "outputs": [],
   "source": [
    "#colors for plotting\n",
    "col <- c(\"#E69F00\",\n",
    "         \"#0072B2\",\n",
    "         \"#D6604D\",\n",
    "         \"#7570B3\")"
   ]
  },
  {
   "cell_type": "markdown",
   "id": "07d72d4f-3b51-435b-bfd3-b7467d1cd944",
   "metadata": {},
   "source": [
    "## read distance"
   ]
  },
  {
   "cell_type": "code",
   "execution_count": 5,
   "id": "10acbd04-5912-4ed6-9b95-34ae712d9396",
   "metadata": {},
   "outputs": [],
   "source": [
    "bc=read.csv('distance/Bray-Curtis-distance.tsv',sep='\\t',row.names=1)\n",
    "jaccard=read.csv('distance/Jaccard-distance.tsv',sep='\\t',row.names=1)\n",
    "unweightUF=read.csv('distance/unweighted_unifrac_distance-distance.tsv',sep='\\t',row.names=1)\n",
    "weightUF=read.csv('distance/weighted_unifrac_distance-distance.tsv',sep='\\t',row.names=1)"
   ]
  },
  {
   "cell_type": "code",
   "execution_count": 6,
   "id": "f3d491c7-3e15-4c0f-8431-ee7ceff66208",
   "metadata": {},
   "outputs": [],
   "source": [
    "distance_metric <- list(bc,jaccard,weightUF,unweightUF)\n",
    "distance_str <- c('Bray Curtis','Jaccard','Weighted UniFrac','Unweighted UniFrac')"
   ]
  },
  {
   "cell_type": "code",
   "execution_count": 7,
   "id": "9db17a15-c67e-4084-baa7-07f574084b17",
   "metadata": {},
   "outputs": [
    {
     "data": {
      "text/html": [
       "<table>\n",
       "<caption>A data.frame: 2 × 2154</caption>\n",
       "<thead>\n",
       "\t<tr><th></th><th scope=col>ERR1995049</th><th scope=col>ERR1995038</th><th scope=col>ERR1995100</th><th scope=col>ERR1995099</th><th scope=col>ERR1995073</th><th scope=col>ERR1994996</th><th scope=col>ERR1995111</th><th scope=col>ERR1994997</th><th scope=col>ERR1995023</th><th scope=col>ERR1995109</th><th scope=col>⋯</th><th scope=col>SRR8031281</th><th scope=col>SRR8031243</th><th scope=col>SRR8031248</th><th scope=col>SRR8031257</th><th scope=col>SRR8031263</th><th scope=col>SRR8031285</th><th scope=col>SRR8031235</th><th scope=col>SRR8031264</th><th scope=col>SRR8031256</th><th scope=col>SRR8031271</th></tr>\n",
       "\t<tr><th></th><th scope=col>&lt;dbl&gt;</th><th scope=col>&lt;dbl&gt;</th><th scope=col>&lt;dbl&gt;</th><th scope=col>&lt;dbl&gt;</th><th scope=col>&lt;dbl&gt;</th><th scope=col>&lt;dbl&gt;</th><th scope=col>&lt;dbl&gt;</th><th scope=col>&lt;dbl&gt;</th><th scope=col>&lt;dbl&gt;</th><th scope=col>&lt;dbl&gt;</th><th scope=col>⋯</th><th scope=col>&lt;dbl&gt;</th><th scope=col>&lt;dbl&gt;</th><th scope=col>&lt;dbl&gt;</th><th scope=col>&lt;dbl&gt;</th><th scope=col>&lt;dbl&gt;</th><th scope=col>&lt;dbl&gt;</th><th scope=col>&lt;dbl&gt;</th><th scope=col>&lt;dbl&gt;</th><th scope=col>&lt;dbl&gt;</th><th scope=col>&lt;dbl&gt;</th></tr>\n",
       "</thead>\n",
       "<tbody>\n",
       "\t<tr><th scope=row>ERR1995049</th><td>0.000</td><td>0.768</td><td>0.906</td><td>0.929</td><td>0.915</td><td>0.720</td><td>0.923</td><td>0.479</td><td>0.477</td><td>0.864</td><td>⋯</td><td>0.999</td><td>1</td><td>0.998</td><td>0.999</td><td>0.997</td><td>1</td><td>1</td><td>0.999</td><td>0.997</td><td>0.996</td></tr>\n",
       "\t<tr><th scope=row>ERR1995038</th><td>0.768</td><td>0.000</td><td>0.794</td><td>0.881</td><td>0.807</td><td>0.999</td><td>0.891</td><td>0.846</td><td>0.847</td><td>0.812</td><td>⋯</td><td>1.000</td><td>1</td><td>0.999</td><td>0.999</td><td>0.998</td><td>1</td><td>1</td><td>0.999</td><td>0.997</td><td>0.999</td></tr>\n",
       "</tbody>\n",
       "</table>\n"
      ],
      "text/latex": [
       "A data.frame: 2 × 2154\n",
       "\\begin{tabular}{r|lllllllllllllllllllll}\n",
       "  & ERR1995049 & ERR1995038 & ERR1995100 & ERR1995099 & ERR1995073 & ERR1994996 & ERR1995111 & ERR1994997 & ERR1995023 & ERR1995109 & ⋯ & SRR8031281 & SRR8031243 & SRR8031248 & SRR8031257 & SRR8031263 & SRR8031285 & SRR8031235 & SRR8031264 & SRR8031256 & SRR8031271\\\\\n",
       "  & <dbl> & <dbl> & <dbl> & <dbl> & <dbl> & <dbl> & <dbl> & <dbl> & <dbl> & <dbl> & ⋯ & <dbl> & <dbl> & <dbl> & <dbl> & <dbl> & <dbl> & <dbl> & <dbl> & <dbl> & <dbl>\\\\\n",
       "\\hline\n",
       "\tERR1995049 & 0.000 & 0.768 & 0.906 & 0.929 & 0.915 & 0.720 & 0.923 & 0.479 & 0.477 & 0.864 & ⋯ & 0.999 & 1 & 0.998 & 0.999 & 0.997 & 1 & 1 & 0.999 & 0.997 & 0.996\\\\\n",
       "\tERR1995038 & 0.768 & 0.000 & 0.794 & 0.881 & 0.807 & 0.999 & 0.891 & 0.846 & 0.847 & 0.812 & ⋯ & 1.000 & 1 & 0.999 & 0.999 & 0.998 & 1 & 1 & 0.999 & 0.997 & 0.999\\\\\n",
       "\\end{tabular}\n"
      ],
      "text/markdown": [
       "\n",
       "A data.frame: 2 × 2154\n",
       "\n",
       "| <!--/--> | ERR1995049 &lt;dbl&gt; | ERR1995038 &lt;dbl&gt; | ERR1995100 &lt;dbl&gt; | ERR1995099 &lt;dbl&gt; | ERR1995073 &lt;dbl&gt; | ERR1994996 &lt;dbl&gt; | ERR1995111 &lt;dbl&gt; | ERR1994997 &lt;dbl&gt; | ERR1995023 &lt;dbl&gt; | ERR1995109 &lt;dbl&gt; | ⋯ ⋯ | SRR8031281 &lt;dbl&gt; | SRR8031243 &lt;dbl&gt; | SRR8031248 &lt;dbl&gt; | SRR8031257 &lt;dbl&gt; | SRR8031263 &lt;dbl&gt; | SRR8031285 &lt;dbl&gt; | SRR8031235 &lt;dbl&gt; | SRR8031264 &lt;dbl&gt; | SRR8031256 &lt;dbl&gt; | SRR8031271 &lt;dbl&gt; |\n",
       "|---|---|---|---|---|---|---|---|---|---|---|---|---|---|---|---|---|---|---|---|---|---|\n",
       "| ERR1995049 | 0.000 | 0.768 | 0.906 | 0.929 | 0.915 | 0.720 | 0.923 | 0.479 | 0.477 | 0.864 | ⋯ | 0.999 | 1 | 0.998 | 0.999 | 0.997 | 1 | 1 | 0.999 | 0.997 | 0.996 |\n",
       "| ERR1995038 | 0.768 | 0.000 | 0.794 | 0.881 | 0.807 | 0.999 | 0.891 | 0.846 | 0.847 | 0.812 | ⋯ | 1.000 | 1 | 0.999 | 0.999 | 0.998 | 1 | 1 | 0.999 | 0.997 | 0.999 |\n",
       "\n"
      ],
      "text/plain": [
       "           ERR1995049 ERR1995038 ERR1995100 ERR1995099 ERR1995073 ERR1994996\n",
       "ERR1995049 0.000      0.768      0.906      0.929      0.915      0.720     \n",
       "ERR1995038 0.768      0.000      0.794      0.881      0.807      0.999     \n",
       "           ERR1995111 ERR1994997 ERR1995023 ERR1995109 ⋯ SRR8031281 SRR8031243\n",
       "ERR1995049 0.923      0.479      0.477      0.864      ⋯ 0.999      1         \n",
       "ERR1995038 0.891      0.846      0.847      0.812      ⋯ 1.000      1         \n",
       "           SRR8031248 SRR8031257 SRR8031263 SRR8031285 SRR8031235 SRR8031264\n",
       "ERR1995049 0.998      0.999      0.997      1          1          0.999     \n",
       "ERR1995038 0.999      0.999      0.998      1          1          0.999     \n",
       "           SRR8031256 SRR8031271\n",
       "ERR1995049 0.997      0.996     \n",
       "ERR1995038 0.997      0.999     "
      ]
     },
     "metadata": {},
     "output_type": "display_data"
    }
   ],
   "source": [
    "head(bc,2)"
   ]
  },
  {
   "cell_type": "markdown",
   "id": "55bffa97-7b77-4f12-bbd0-96d2e0bee773",
   "metadata": {},
   "source": [
    "## read metadata"
   ]
  },
  {
   "cell_type": "code",
   "execution_count": 8,
   "id": "b856e7e7-a277-4f0a-9b11-f3928c1704a8",
   "metadata": {
    "tags": []
   },
   "outputs": [
    {
     "data": {
      "text/html": [
       "<table>\n",
       "<caption>A data.frame: 2 × 50</caption>\n",
       "<thead>\n",
       "\t<tr><th></th><th scope=col>Age</th><th scope=col>BMI</th><th scope=col>BioProject</th><th scope=col>CagA</th><th scope=col>Center_Name</th><th scope=col>Collection_Date</th><th scope=col>Condition</th><th scope=col>Country</th><th scope=col>Diagnosis</th><th scope=col>Gender</th><th scope=col>⋯</th><th scope=col>gastrin</th><th scope=col>host_height</th><th scope=col>host_weight</th><th scope=col>hp</th><th scope=col>hp_relative_abundance</th><th scope=col>paried.sample</th><th scope=col>primer</th><th scope=col>sampleloc</th><th scope=col>sampling_method</th><th scope=col>smoker</th></tr>\n",
       "\t<tr><th></th><th scope=col>&lt;dbl&gt;</th><th scope=col>&lt;chr&gt;</th><th scope=col>&lt;chr&gt;</th><th scope=col>&lt;chr&gt;</th><th scope=col>&lt;chr&gt;</th><th scope=col>&lt;chr&gt;</th><th scope=col>&lt;chr&gt;</th><th scope=col>&lt;chr&gt;</th><th scope=col>&lt;chr&gt;</th><th scope=col>&lt;chr&gt;</th><th scope=col>⋯</th><th scope=col>&lt;chr&gt;</th><th scope=col>&lt;dbl&gt;</th><th scope=col>&lt;dbl&gt;</th><th scope=col>&lt;chr&gt;</th><th scope=col>&lt;dbl&gt;</th><th scope=col>&lt;chr&gt;</th><th scope=col>&lt;chr&gt;</th><th scope=col>&lt;chr&gt;</th><th scope=col>&lt;chr&gt;</th><th scope=col>&lt;chr&gt;</th></tr>\n",
       "</thead>\n",
       "<tbody>\n",
       "\t<tr><th scope=row>ERR1995049</th><td>NA</td><td></td><td>PRJEB21104</td><td></td><td>CGR</td><td></td><td>gastric cancer</td><td>United Kingdom</td><td>gastric cancer</td><td></td><td>⋯</td><td>M100</td><td>NA</td><td>NA</td><td>positive</td><td>78.20510</td><td></td><td>27F _388R</td><td></td><td>gastric mucosa biopsy</td><td></td></tr>\n",
       "\t<tr><th scope=row>ERR1995038</th><td>NA</td><td></td><td>PRJEB21104</td><td></td><td>CGR</td><td></td><td>gastric cancer</td><td>United Kingdom</td><td>gastric cancer</td><td></td><td>⋯</td><td>M100</td><td>NA</td><td>NA</td><td>positive</td><td>11.57239</td><td></td><td>27F _388R</td><td></td><td>gastric mucosa biopsy</td><td></td></tr>\n",
       "</tbody>\n",
       "</table>\n"
      ],
      "text/latex": [
       "A data.frame: 2 × 50\n",
       "\\begin{tabular}{r|lllllllllllllllllllll}\n",
       "  & Age & BMI & BioProject & CagA & Center\\_Name & Collection\\_Date & Condition & Country & Diagnosis & Gender & ⋯ & gastrin & host\\_height & host\\_weight & hp & hp\\_relative\\_abundance & paried.sample & primer & sampleloc & sampling\\_method & smoker\\\\\n",
       "  & <dbl> & <chr> & <chr> & <chr> & <chr> & <chr> & <chr> & <chr> & <chr> & <chr> & ⋯ & <chr> & <dbl> & <dbl> & <chr> & <dbl> & <chr> & <chr> & <chr> & <chr> & <chr>\\\\\n",
       "\\hline\n",
       "\tERR1995049 & NA &  & PRJEB21104 &  & CGR &  & gastric cancer & United Kingdom & gastric cancer &  & ⋯ & M100 & NA & NA & positive & 78.20510 &  & 27F \\_388R &  & gastric mucosa biopsy & \\\\\n",
       "\tERR1995038 & NA &  & PRJEB21104 &  & CGR &  & gastric cancer & United Kingdom & gastric cancer &  & ⋯ & M100 & NA & NA & positive & 11.57239 &  & 27F \\_388R &  & gastric mucosa biopsy & \\\\\n",
       "\\end{tabular}\n"
      ],
      "text/markdown": [
       "\n",
       "A data.frame: 2 × 50\n",
       "\n",
       "| <!--/--> | Age &lt;dbl&gt; | BMI &lt;chr&gt; | BioProject &lt;chr&gt; | CagA &lt;chr&gt; | Center_Name &lt;chr&gt; | Collection_Date &lt;chr&gt; | Condition &lt;chr&gt; | Country &lt;chr&gt; | Diagnosis &lt;chr&gt; | Gender &lt;chr&gt; | ⋯ ⋯ | gastrin &lt;chr&gt; | host_height &lt;dbl&gt; | host_weight &lt;dbl&gt; | hp &lt;chr&gt; | hp_relative_abundance &lt;dbl&gt; | paried.sample &lt;chr&gt; | primer &lt;chr&gt; | sampleloc &lt;chr&gt; | sampling_method &lt;chr&gt; | smoker &lt;chr&gt; |\n",
       "|---|---|---|---|---|---|---|---|---|---|---|---|---|---|---|---|---|---|---|---|---|---|\n",
       "| ERR1995049 | NA | <!----> | PRJEB21104 | <!----> | CGR | <!----> | gastric cancer | United Kingdom | gastric cancer | <!----> | ⋯ | M100 | NA | NA | positive | 78.20510 | <!----> | 27F _388R | <!----> | gastric mucosa biopsy | <!----> |\n",
       "| ERR1995038 | NA | <!----> | PRJEB21104 | <!----> | CGR | <!----> | gastric cancer | United Kingdom | gastric cancer | <!----> | ⋯ | M100 | NA | NA | positive | 11.57239 | <!----> | 27F _388R | <!----> | gastric mucosa biopsy | <!----> |\n",
       "\n"
      ],
      "text/plain": [
       "           Age BMI BioProject CagA Center_Name Collection_Date Condition     \n",
       "ERR1995049 NA      PRJEB21104      CGR                         gastric cancer\n",
       "ERR1995038 NA      PRJEB21104      CGR                         gastric cancer\n",
       "           Country        Diagnosis      Gender ⋯ gastrin host_height\n",
       "ERR1995049 United Kingdom gastric cancer        ⋯ M100    NA         \n",
       "ERR1995038 United Kingdom gastric cancer        ⋯ M100    NA         \n",
       "           host_weight hp       hp_relative_abundance paried.sample primer   \n",
       "ERR1995049 NA          positive 78.20510                            27F _388R\n",
       "ERR1995038 NA          positive 11.57239                            27F _388R\n",
       "           sampleloc sampling_method       smoker\n",
       "ERR1995049           gastric mucosa biopsy       \n",
       "ERR1995038           gastric mucosa biopsy       "
      ]
     },
     "metadata": {},
     "output_type": "display_data"
    }
   ],
   "source": [
    "\n",
    "md <- read.csv('metadata.tsv',row.names=1,sep='\\t') \n",
    "head(md,2)"
   ]
  },
  {
   "cell_type": "code",
   "execution_count": 9,
   "id": "d6491a5a-4690-4892-b5bd-1a653cc2c33d",
   "metadata": {},
   "outputs": [
    {
     "data": {
      "text/plain": [
       "\n",
       "                PRJEB21104                 PRJEB21497 \n",
       "                       128                         36 \n",
       "                PRJEB22107                 PRJEB26931 \n",
       "                        32                        310 \n",
       "         PRJNA310127_China         PRJNA310127_Mexico \n",
       "                       157                        134 \n",
       "               PRJNA313391 PRJNA375772_Inner_Mongolia \n",
       "                       120                        143 \n",
       "         PRJNA375772_Xi_an                PRJNA428883 \n",
       "                       201                        745 \n",
       "               PRJNA481413                PRJNA495436 \n",
       "                       417                         58 "
      ]
     },
     "metadata": {},
     "output_type": "display_data"
    }
   ],
   "source": [
    "table(md$Study)"
   ]
  },
  {
   "cell_type": "code",
   "execution_count": 10,
   "id": "6efd6d40-584f-4293-91e5-097c6370d23d",
   "metadata": {},
   "outputs": [
    {
     "data": {
      "text/html": [
       "<style>\n",
       ".list-inline {list-style: none; margin:0; padding: 0}\n",
       ".list-inline>li {display: inline-block}\n",
       ".list-inline>li:not(:last-child)::after {content: \"\\00b7\"; padding: 0 .5ex}\n",
       "</style>\n",
       "<ol class=list-inline><li>'PRJEB21104'</li><li>'PRJEB21497'</li><li>'PRJEB22107'</li><li>'PRJEB26931'</li><li>'PRJNA310127_China'</li><li>'PRJNA310127_Mexico'</li><li>'PRJNA313391'</li><li>'PRJNA375772_Inner_Mongolia'</li><li>'PRJNA375772_Xi_an'</li><li>'PRJNA495436'</li><li>'PRJNA428883'</li><li>'PRJNA481413'</li></ol>\n"
      ],
      "text/latex": [
       "\\begin{enumerate*}\n",
       "\\item 'PRJEB21104'\n",
       "\\item 'PRJEB21497'\n",
       "\\item 'PRJEB22107'\n",
       "\\item 'PRJEB26931'\n",
       "\\item 'PRJNA310127\\_China'\n",
       "\\item 'PRJNA310127\\_Mexico'\n",
       "\\item 'PRJNA313391'\n",
       "\\item 'PRJNA375772\\_Inner\\_Mongolia'\n",
       "\\item 'PRJNA375772\\_Xi\\_an'\n",
       "\\item 'PRJNA495436'\n",
       "\\item 'PRJNA428883'\n",
       "\\item 'PRJNA481413'\n",
       "\\end{enumerate*}\n"
      ],
      "text/markdown": [
       "1. 'PRJEB21104'\n",
       "2. 'PRJEB21497'\n",
       "3. 'PRJEB22107'\n",
       "4. 'PRJEB26931'\n",
       "5. 'PRJNA310127_China'\n",
       "6. 'PRJNA310127_Mexico'\n",
       "7. 'PRJNA313391'\n",
       "8. 'PRJNA375772_Inner_Mongolia'\n",
       "9. 'PRJNA375772_Xi_an'\n",
       "10. 'PRJNA495436'\n",
       "11. 'PRJNA428883'\n",
       "12. 'PRJNA481413'\n",
       "\n",
       "\n"
      ],
      "text/plain": [
       " [1] \"PRJEB21104\"                 \"PRJEB21497\"                \n",
       " [3] \"PRJEB22107\"                 \"PRJEB26931\"                \n",
       " [5] \"PRJNA310127_China\"          \"PRJNA310127_Mexico\"        \n",
       " [7] \"PRJNA313391\"                \"PRJNA375772_Inner_Mongolia\"\n",
       " [9] \"PRJNA375772_Xi_an\"          \"PRJNA495436\"               \n",
       "[11] \"PRJNA428883\"                \"PRJNA481413\"               "
      ]
     },
     "metadata": {},
     "output_type": "display_data"
    }
   ],
   "source": [
    "study=unique(md$Study)\n",
    "study"
   ]
  },
  {
   "cell_type": "markdown",
   "id": "dc21780d-44a4-48c9-b4c8-452e73039696",
   "metadata": {},
   "source": [
    "## Adonis analysis for each two disease stage"
   ]
  },
  {
   "cell_type": "code",
   "execution_count": 11,
   "id": "04723093-cb76-4ad9-8b24-0493fdb0400b",
   "metadata": {},
   "outputs": [],
   "source": [
    "# function gain each study each distance adonis results\n",
    "\n",
    "beta_stat <- function(p,dis,c1,c2){\n",
    "    \n",
    "    As <- list()\n",
    "    s_md <- subset(md,Study==p) %>% subset(Diagnosis==c1| Diagnosis==c2)\n",
    "    sample_ids=intersect(row.names(s_md),row.names(dis))\n",
    "    s_md <- s_md[sample_ids,]\n",
    "    distance <- dis[sample_ids,sample_ids]\n",
    "    \n",
    "    adnonis_res <- adonis(distance ~ Diagnosis, data = s_md)$aov.tab\n",
    "    return(adnonis_res)\n",
    "}"
   ]
  },
  {
   "cell_type": "markdown",
   "id": "cf09a125-65f5-4ea1-957e-b46aa511a87e",
   "metadata": {},
   "source": [
    "### healthy vs gastritis "
   ]
  },
  {
   "cell_type": "code",
   "execution_count": 12,
   "id": "4696df6f-e48d-4d8f-a924-9bf574b06c5e",
   "metadata": {},
   "outputs": [],
   "source": [
    "#排除不想分析的样本\n",
    "md <- subset(md,Condition!='atrophic gastritis') %>%subset(Condition!='H.pylori atrophic gastritis')"
   ]
  },
  {
   "cell_type": "code",
   "execution_count": 13,
   "id": "79741f51-277f-41f0-b5b3-bb454777f01f",
   "metadata": {},
   "outputs": [
    {
     "data": {
      "text/html": [
       "<style>\n",
       ".list-inline {list-style: none; margin:0; padding: 0}\n",
       ".list-inline>li {display: inline-block}\n",
       ".list-inline>li:not(:last-child)::after {content: \"\\00b7\"; padding: 0 .5ex}\n",
       "</style>\n",
       "<ol class=list-inline><li>2351</li><li>50</li></ol>\n"
      ],
      "text/latex": [
       "\\begin{enumerate*}\n",
       "\\item 2351\n",
       "\\item 50\n",
       "\\end{enumerate*}\n"
      ],
      "text/markdown": [
       "1. 2351\n",
       "2. 50\n",
       "\n",
       "\n"
      ],
      "text/plain": [
       "[1] 2351   50"
      ]
     },
     "metadata": {},
     "output_type": "display_data"
    }
   ],
   "source": [
    "dim(md)"
   ]
  },
  {
   "cell_type": "code",
   "execution_count": 14,
   "id": "40cab0c9-9914-4583-811b-da65d92ae38e",
   "metadata": {},
   "outputs": [],
   "source": [
    "#三个数据集中有健康和胃炎的样本，本示例以分析这三个数据集健康和胃炎样本的beta多样性差异为例\n",
    "Project=c('PRJEB21104','PRJEB22107','PRJEB26931')"
   ]
  },
  {
   "cell_type": "code",
   "execution_count": 15,
   "id": "6608fa96-c1dc-4ece-87cb-c486e640366b",
   "metadata": {},
   "outputs": [],
   "source": [
    "# 每个数据集分别健康和胃炎比较\n",
    "set.seed(1)\n",
    "PerStudy_beta<-list()\n",
    "for (i in 1:4){\n",
    "    dis <- distance_metric[[i]]\n",
    "    dis_str <- distance_str[i]\n",
    "    #message(dis_str)\n",
    "    for(p in Project){        \n",
    "        #message(p)\n",
    "        PerStudy_beta[[dis_str]][[p]]<-beta_stat(p,dis,'healthy','gastritis')\n",
    "   }\n",
    "}"
   ]
  },
  {
   "cell_type": "code",
   "execution_count": 16,
   "id": "73cf7c23-b19f-4af4-bc75-600b4755706a",
   "metadata": {},
   "outputs": [],
   "source": [
    "#把结果整理成data.frame\n",
    "data <- data.frame()\n",
    "\n",
    "for (dis_str in distance_str){\n",
    "   diag_res <- data.frame(row.names=Project) \n",
    "   for (p in Project){       \n",
    "       diag_res[p,1] <- PerStudy_beta[[dis_str]][[p]]['Diagnosis','R2']\n",
    "       diag_res[p,2] <- PerStudy_beta[[dis_str]][[p]]['Diagnosis','Pr(>F)'] \n",
    "   }   \n",
    "   names(diag_res) <- c('R2','pvalue')\n",
    "   diag_res['study']<-row.names(diag_res)\n",
    "   diag_res['metric'] <- dis_str\n",
    "   data <- rbind(data, diag_res)      #   \n",
    "}\n",
    "\n",
    "\n",
    "# combined:把三个数据集的distance和metadata都筛选出来，adonis分析多加一个参数strata\n",
    "mtd <- subset(md,Study == 'PRJEB21104' | Study == 'PRJEB22107' | Study == 'PRJEB26931') %>% \n",
    "subset(Diagnosis == 'healthy'| Diagnosis == 'gastritis')\n",
    "\n",
    "df <- data.frame()\n",
    "for (i in 1:4){\n",
    "    dis <- distance_metric[[i]]\n",
    "    dis_str <- distance_str[i]\n",
    "    \n",
    "    sample_ids = intersect(row.names(mtd),row.names(dis))\n",
    "    s_md <- mtd[sample_ids,]\n",
    "    distance <- dis[sample_ids,sample_ids]\n",
    "    adnonis_res <- adonis(distance ~ Diagnosis, strata=s_md$Study,data = s_md)$aov.tab ## strata设为study\n",
    "    R2 <- adnonis_res['Diagnosis','R2']\n",
    "    pvalue <- adnonis_res['Diagnosis','Pr(>F)']\n",
    "    l <- data.frame('R2'=R2,'pvalue'=pvalue,'study'='Combined','metric'=dis_str)\n",
    "    df <- rbind(df, l)\n",
    "    \n",
    "}\n",
    "\n",
    "hg <- rbind(data,df) %>% mutate(Compare='Healthy vs. Gastritis') %>% mutate(Pvalue=case_when(\n",
    "pvalue < 0.05 ~'P < 0.05',  \n",
    "TRUE~\"ns\"\n",
    "))"
   ]
  },
  {
   "cell_type": "code",
   "execution_count": 17,
   "id": "1307889e-3ac6-45c6-9fca-27910cfa40fc",
   "metadata": {
    "tags": []
   },
   "outputs": [
    {
     "data": {
      "text/html": [
       "<table>\n",
       "<caption>A data.frame: 16 × 6</caption>\n",
       "<thead>\n",
       "\t<tr><th></th><th scope=col>R2</th><th scope=col>pvalue</th><th scope=col>study</th><th scope=col>metric</th><th scope=col>Compare</th><th scope=col>Pvalue</th></tr>\n",
       "\t<tr><th></th><th scope=col>&lt;dbl&gt;</th><th scope=col>&lt;dbl&gt;</th><th scope=col>&lt;chr&gt;</th><th scope=col>&lt;chr&gt;</th><th scope=col>&lt;chr&gt;</th><th scope=col>&lt;chr&gt;</th></tr>\n",
       "</thead>\n",
       "<tbody>\n",
       "\t<tr><th scope=row>PRJEB21104</th><td>0.27329481</td><td>0.001</td><td>PRJEB21104</td><td><span style=white-space:pre-wrap>Bray Curtis       </span></td><td>Healthy vs. Gastritis</td><td>P &lt; 0.05</td></tr>\n",
       "\t<tr><th scope=row>PRJEB22107</th><td>0.09087176</td><td>0.049</td><td>PRJEB22107</td><td><span style=white-space:pre-wrap>Bray Curtis       </span></td><td>Healthy vs. Gastritis</td><td>P &lt; 0.05</td></tr>\n",
       "\t<tr><th scope=row>PRJEB26931</th><td>0.25617726</td><td>0.001</td><td>PRJEB26931</td><td><span style=white-space:pre-wrap>Bray Curtis       </span></td><td>Healthy vs. Gastritis</td><td>P &lt; 0.05</td></tr>\n",
       "\t<tr><th scope=row>PRJEB211041</th><td>0.11330168</td><td>0.001</td><td>PRJEB21104</td><td><span style=white-space:pre-wrap>Jaccard           </span></td><td>Healthy vs. Gastritis</td><td>P &lt; 0.05</td></tr>\n",
       "\t<tr><th scope=row>PRJEB221071</th><td>0.04613104</td><td>0.249</td><td>PRJEB22107</td><td>Jaccard           </td><td>Healthy vs. Gastritis</td><td>ns      </td></tr>\n",
       "\t<tr><th scope=row>PRJEB269311</th><td>0.14589424</td><td>0.001</td><td>PRJEB26931</td><td><span style=white-space:pre-wrap>Jaccard           </span></td><td>Healthy vs. Gastritis</td><td>P &lt; 0.05</td></tr>\n",
       "\t<tr><th scope=row>PRJEB211042</th><td>0.71211405</td><td>0.001</td><td>PRJEB21104</td><td><span style=white-space:pre-wrap>Weighted UniFrac  </span></td><td>Healthy vs. Gastritis</td><td>P &lt; 0.05</td></tr>\n",
       "\t<tr><th scope=row>PRJEB221072</th><td>0.04339932</td><td>0.356</td><td>PRJEB22107</td><td>Weighted UniFrac  </td><td>Healthy vs. Gastritis</td><td>ns      </td></tr>\n",
       "\t<tr><th scope=row>PRJEB269312</th><td>0.03633489</td><td>0.050</td><td>PRJEB26931</td><td>Weighted UniFrac  </td><td>Healthy vs. Gastritis</td><td>ns      </td></tr>\n",
       "\t<tr><th scope=row>PRJEB211043</th><td>0.43544712</td><td>0.001</td><td>PRJEB21104</td><td>Unweighted UniFrac</td><td>Healthy vs. Gastritis</td><td>P &lt; 0.05</td></tr>\n",
       "\t<tr><th scope=row>PRJEB221073</th><td>0.06716475</td><td>0.093</td><td>PRJEB22107</td><td>Unweighted UniFrac</td><td>Healthy vs. Gastritis</td><td>ns      </td></tr>\n",
       "\t<tr><th scope=row>PRJEB269313</th><td>0.14164922</td><td>0.001</td><td>PRJEB26931</td><td>Unweighted UniFrac</td><td>Healthy vs. Gastritis</td><td>P &lt; 0.05</td></tr>\n",
       "\t<tr><th scope=row>1</th><td>0.09477092</td><td>0.001</td><td><span style=white-space:pre-wrap>Combined  </span></td><td><span style=white-space:pre-wrap>Bray Curtis       </span></td><td>Healthy vs. Gastritis</td><td>P &lt; 0.05</td></tr>\n",
       "\t<tr><th scope=row>2</th><td>0.05778811</td><td>0.001</td><td><span style=white-space:pre-wrap>Combined  </span></td><td><span style=white-space:pre-wrap>Jaccard           </span></td><td>Healthy vs. Gastritis</td><td>P &lt; 0.05</td></tr>\n",
       "\t<tr><th scope=row>3</th><td>0.02148655</td><td>0.918</td><td>Combined  </td><td>Weighted UniFrac  </td><td>Healthy vs. Gastritis</td><td>ns      </td></tr>\n",
       "\t<tr><th scope=row>4</th><td>0.07257406</td><td>0.001</td><td><span style=white-space:pre-wrap>Combined  </span></td><td>Unweighted UniFrac</td><td>Healthy vs. Gastritis</td><td>P &lt; 0.05</td></tr>\n",
       "</tbody>\n",
       "</table>\n"
      ],
      "text/latex": [
       "A data.frame: 16 × 6\n",
       "\\begin{tabular}{r|llllll}\n",
       "  & R2 & pvalue & study & metric & Compare & Pvalue\\\\\n",
       "  & <dbl> & <dbl> & <chr> & <chr> & <chr> & <chr>\\\\\n",
       "\\hline\n",
       "\tPRJEB21104 & 0.27329481 & 0.001 & PRJEB21104 & Bray Curtis        & Healthy vs. Gastritis & P < 0.05\\\\\n",
       "\tPRJEB22107 & 0.09087176 & 0.049 & PRJEB22107 & Bray Curtis        & Healthy vs. Gastritis & P < 0.05\\\\\n",
       "\tPRJEB26931 & 0.25617726 & 0.001 & PRJEB26931 & Bray Curtis        & Healthy vs. Gastritis & P < 0.05\\\\\n",
       "\tPRJEB211041 & 0.11330168 & 0.001 & PRJEB21104 & Jaccard            & Healthy vs. Gastritis & P < 0.05\\\\\n",
       "\tPRJEB221071 & 0.04613104 & 0.249 & PRJEB22107 & Jaccard            & Healthy vs. Gastritis & ns      \\\\\n",
       "\tPRJEB269311 & 0.14589424 & 0.001 & PRJEB26931 & Jaccard            & Healthy vs. Gastritis & P < 0.05\\\\\n",
       "\tPRJEB211042 & 0.71211405 & 0.001 & PRJEB21104 & Weighted UniFrac   & Healthy vs. Gastritis & P < 0.05\\\\\n",
       "\tPRJEB221072 & 0.04339932 & 0.356 & PRJEB22107 & Weighted UniFrac   & Healthy vs. Gastritis & ns      \\\\\n",
       "\tPRJEB269312 & 0.03633489 & 0.050 & PRJEB26931 & Weighted UniFrac   & Healthy vs. Gastritis & ns      \\\\\n",
       "\tPRJEB211043 & 0.43544712 & 0.001 & PRJEB21104 & Unweighted UniFrac & Healthy vs. Gastritis & P < 0.05\\\\\n",
       "\tPRJEB221073 & 0.06716475 & 0.093 & PRJEB22107 & Unweighted UniFrac & Healthy vs. Gastritis & ns      \\\\\n",
       "\tPRJEB269313 & 0.14164922 & 0.001 & PRJEB26931 & Unweighted UniFrac & Healthy vs. Gastritis & P < 0.05\\\\\n",
       "\t1 & 0.09477092 & 0.001 & Combined   & Bray Curtis        & Healthy vs. Gastritis & P < 0.05\\\\\n",
       "\t2 & 0.05778811 & 0.001 & Combined   & Jaccard            & Healthy vs. Gastritis & P < 0.05\\\\\n",
       "\t3 & 0.02148655 & 0.918 & Combined   & Weighted UniFrac   & Healthy vs. Gastritis & ns      \\\\\n",
       "\t4 & 0.07257406 & 0.001 & Combined   & Unweighted UniFrac & Healthy vs. Gastritis & P < 0.05\\\\\n",
       "\\end{tabular}\n"
      ],
      "text/markdown": [
       "\n",
       "A data.frame: 16 × 6\n",
       "\n",
       "| <!--/--> | R2 &lt;dbl&gt; | pvalue &lt;dbl&gt; | study &lt;chr&gt; | metric &lt;chr&gt; | Compare &lt;chr&gt; | Pvalue &lt;chr&gt; |\n",
       "|---|---|---|---|---|---|---|\n",
       "| PRJEB21104 | 0.27329481 | 0.001 | PRJEB21104 | Bray Curtis        | Healthy vs. Gastritis | P &lt; 0.05 |\n",
       "| PRJEB22107 | 0.09087176 | 0.049 | PRJEB22107 | Bray Curtis        | Healthy vs. Gastritis | P &lt; 0.05 |\n",
       "| PRJEB26931 | 0.25617726 | 0.001 | PRJEB26931 | Bray Curtis        | Healthy vs. Gastritis | P &lt; 0.05 |\n",
       "| PRJEB211041 | 0.11330168 | 0.001 | PRJEB21104 | Jaccard            | Healthy vs. Gastritis | P &lt; 0.05 |\n",
       "| PRJEB221071 | 0.04613104 | 0.249 | PRJEB22107 | Jaccard            | Healthy vs. Gastritis | ns       |\n",
       "| PRJEB269311 | 0.14589424 | 0.001 | PRJEB26931 | Jaccard            | Healthy vs. Gastritis | P &lt; 0.05 |\n",
       "| PRJEB211042 | 0.71211405 | 0.001 | PRJEB21104 | Weighted UniFrac   | Healthy vs. Gastritis | P &lt; 0.05 |\n",
       "| PRJEB221072 | 0.04339932 | 0.356 | PRJEB22107 | Weighted UniFrac   | Healthy vs. Gastritis | ns       |\n",
       "| PRJEB269312 | 0.03633489 | 0.050 | PRJEB26931 | Weighted UniFrac   | Healthy vs. Gastritis | ns       |\n",
       "| PRJEB211043 | 0.43544712 | 0.001 | PRJEB21104 | Unweighted UniFrac | Healthy vs. Gastritis | P &lt; 0.05 |\n",
       "| PRJEB221073 | 0.06716475 | 0.093 | PRJEB22107 | Unweighted UniFrac | Healthy vs. Gastritis | ns       |\n",
       "| PRJEB269313 | 0.14164922 | 0.001 | PRJEB26931 | Unweighted UniFrac | Healthy vs. Gastritis | P &lt; 0.05 |\n",
       "| 1 | 0.09477092 | 0.001 | Combined   | Bray Curtis        | Healthy vs. Gastritis | P &lt; 0.05 |\n",
       "| 2 | 0.05778811 | 0.001 | Combined   | Jaccard            | Healthy vs. Gastritis | P &lt; 0.05 |\n",
       "| 3 | 0.02148655 | 0.918 | Combined   | Weighted UniFrac   | Healthy vs. Gastritis | ns       |\n",
       "| 4 | 0.07257406 | 0.001 | Combined   | Unweighted UniFrac | Healthy vs. Gastritis | P &lt; 0.05 |\n",
       "\n"
      ],
      "text/plain": [
       "            R2         pvalue study      metric            \n",
       "PRJEB21104  0.27329481 0.001  PRJEB21104 Bray Curtis       \n",
       "PRJEB22107  0.09087176 0.049  PRJEB22107 Bray Curtis       \n",
       "PRJEB26931  0.25617726 0.001  PRJEB26931 Bray Curtis       \n",
       "PRJEB211041 0.11330168 0.001  PRJEB21104 Jaccard           \n",
       "PRJEB221071 0.04613104 0.249  PRJEB22107 Jaccard           \n",
       "PRJEB269311 0.14589424 0.001  PRJEB26931 Jaccard           \n",
       "PRJEB211042 0.71211405 0.001  PRJEB21104 Weighted UniFrac  \n",
       "PRJEB221072 0.04339932 0.356  PRJEB22107 Weighted UniFrac  \n",
       "PRJEB269312 0.03633489 0.050  PRJEB26931 Weighted UniFrac  \n",
       "PRJEB211043 0.43544712 0.001  PRJEB21104 Unweighted UniFrac\n",
       "PRJEB221073 0.06716475 0.093  PRJEB22107 Unweighted UniFrac\n",
       "PRJEB269313 0.14164922 0.001  PRJEB26931 Unweighted UniFrac\n",
       "1           0.09477092 0.001  Combined   Bray Curtis       \n",
       "2           0.05778811 0.001  Combined   Jaccard           \n",
       "3           0.02148655 0.918  Combined   Weighted UniFrac  \n",
       "4           0.07257406 0.001  Combined   Unweighted UniFrac\n",
       "            Compare               Pvalue  \n",
       "PRJEB21104  Healthy vs. Gastritis P < 0.05\n",
       "PRJEB22107  Healthy vs. Gastritis P < 0.05\n",
       "PRJEB26931  Healthy vs. Gastritis P < 0.05\n",
       "PRJEB211041 Healthy vs. Gastritis P < 0.05\n",
       "PRJEB221071 Healthy vs. Gastritis ns      \n",
       "PRJEB269311 Healthy vs. Gastritis P < 0.05\n",
       "PRJEB211042 Healthy vs. Gastritis P < 0.05\n",
       "PRJEB221072 Healthy vs. Gastritis ns      \n",
       "PRJEB269312 Healthy vs. Gastritis ns      \n",
       "PRJEB211043 Healthy vs. Gastritis P < 0.05\n",
       "PRJEB221073 Healthy vs. Gastritis ns      \n",
       "PRJEB269313 Healthy vs. Gastritis P < 0.05\n",
       "1           Healthy vs. Gastritis P < 0.05\n",
       "2           Healthy vs. Gastritis P < 0.05\n",
       "3           Healthy vs. Gastritis ns      \n",
       "4           Healthy vs. Gastritis P < 0.05"
      ]
     },
     "metadata": {},
     "output_type": "display_data"
    }
   ],
   "source": [
    "hg"
   ]
  },
  {
   "cell_type": "code",
   "execution_count": null,
   "id": "ee313ddf-f3b3-4b8e-b162-b7e4a53c5570",
   "metadata": {},
   "outputs": [],
   "source": []
  },
  {
   "cell_type": "code",
   "execution_count": 18,
   "id": "6a4d4da7-82a8-41d4-b022-7f751550a1ab",
   "metadata": {},
   "outputs": [
    {
     "data": {
      "image/png": "[encoded data removed]",
      "text/plain": [
       "plot without title"
      ]
     },
     "metadata": {
      "image/png": {
       "height": 420,
       "width": 420
      }
     },
     "output_type": "display_data"
    }
   ],
   "source": [
    "ggplot(data = hg, aes(x = R2, y =study,color=metric))+ geom_point(aes(shape =Pvalue),size=2)+\n",
    "theme_bw() +\n",
    "theme(panel.border = element_blank(), axis.line = element_line())+ #上右方框去掉了\n",
    "theme(axis.text.x = element_text(angle = 0, hjust = 1), \n",
    "        panel.grid = element_blank(), \n",
    "        axis.text = element_text(size = 10,colour = 'black'), \n",
    "        axis.title = element_text(size = 10),\n",
    "        plot.title = element_text(size = 10,hjust = 0.5),\n",
    "      legend.title = element_text(size = 10),\n",
    "      legend.text = element_text(size = 8),\n",
    "     plot.margin=unit(rep(2,4),'lines'))+scale_color_manual(values=col)+\n",
    "labs(title = 'Healthy vs Gastritis',y='') #\n",
    "#ggsave(\"figures/healthy_vs_gastritis_adonis-no313391.pdf\", device=\"pdf\", height=3, width=5.2, useDingbats=F)"
   ]
  },
  {
   "cell_type": "markdown",
   "id": "740141d8-952c-41a6-a9ef-1c417255b87d",
   "metadata": {},
   "source": [
    "**-------------------end-------------------**   \n",
    "后面全是重复代码，请忽略"
   ]
  },
  {
   "cell_type": "code",
   "execution_count": null,
   "id": "bd04c339-9b8a-41ad-8cc5-f76d2bc5a99f",
   "metadata": {},
   "outputs": [],
   "source": []
  },
  {
   "cell_type": "code",
   "execution_count": null,
   "id": "2b2ea118-7221-4770-ad78-da978e2666e9",
   "metadata": {},
   "outputs": [],
   "source": []
  },
  {
   "cell_type": "code",
   "execution_count": null,
   "id": "e96f02ae-3376-4ab7-afe4-76f7ee56220b",
   "metadata": {},
   "outputs": [],
   "source": []
  },
  {
   "cell_type": "markdown",
   "id": "6f335a3c-1c02-40cf-9294-7eebc93fef10",
   "metadata": {},
   "source": [
    "### healthy vs GC"
   ]
  },
  {
   "cell_type": "code",
   "execution_count": 41,
   "id": "fa13e9a5-35be-414b-a3ad-63124a96c365",
   "metadata": {},
   "outputs": [],
   "source": [
    "Project=c('PRJEB21104','PRJEB21497','PRJEB26931')"
   ]
  },
  {
   "cell_type": "code",
   "execution_count": 42,
   "id": "0a54de41-4ff8-4373-bb41-e9663d682d86",
   "metadata": {},
   "outputs": [],
   "source": [
    "set.seed(1)\n",
    "PerStudy_beta<-list()\n",
    "for (i in 1:4){\n",
    "    dis <- distance_metric[[i]]\n",
    "    dis_str <- distance_str[i]\n",
    "    #message(dis_str)\n",
    "    for(p in Project){\n",
    "        \n",
    "        #message(p)\n",
    "        PerStudy_beta[[dis_str]][[p]]<-beta_stat(p,dis,'healthy','gastric cancer')\n",
    "   }\n",
    "}"
   ]
  },
  {
   "cell_type": "code",
   "execution_count": 43,
   "id": "3063c956-1d1a-4a36-9893-298b36a5d8ae",
   "metadata": {},
   "outputs": [],
   "source": [
    "data <- data.frame()\n",
    "\n",
    "for (dis_str in distance_str){\n",
    "   diag_res <- data.frame(row.names=Project) \n",
    "   for (p in Project){       \n",
    "       diag_res[p,1] <- PerStudy_beta[[dis_str]][[p]]['Diagnosis','R2']\n",
    "       diag_res[p,2] <- PerStudy_beta[[dis_str]][[p]]['Diagnosis','Pr(>F)'] \n",
    "   }   \n",
    "   names(diag_res) <- c('R2','pvalue')\n",
    "   diag_res['study']<-row.names(diag_res)\n",
    "   diag_res['metric'] <- dis_str\n",
    "   data <- rbind(data, diag_res)      #   \n",
    "}\n",
    "\n",
    "# combined \n",
    "mtd <- subset(md,Study == 'PRJEB21104' | Study == 'PRJEB21497' | Study == 'PRJEB26931') %>% \n",
    "subset(Diagnosis == 'healthy'| Diagnosis == 'gastric cancer')\n",
    "\n",
    "df <- data.frame()\n",
    "for (i in 1:4){\n",
    "    dis <- distance_metric[[i]]\n",
    "    dis_str <- distance_str[i]\n",
    "    \n",
    "    sample_ids = intersect(row.names(mtd),row.names(dis))\n",
    "    s_md <- mtd[sample_ids,]\n",
    "    distance <- dis[sample_ids,sample_ids]\n",
    "    adnonis_res <- adonis(distance ~ Diagnosis, strata=s_md$Study,data = s_md)$aov.tab\n",
    "    R2 <- adnonis_res['Diagnosis','R2']\n",
    "    pvalue <- adnonis_res['Diagnosis','Pr(>F)']\n",
    "    l <- data.frame('R2'=R2,'pvalue'=pvalue,'study'='Combined','metric'=dis_str)\n",
    "    df <- rbind(df, l)\n",
    "    \n",
    "}\n",
    "\n",
    "hgc <- rbind(data,df) %>% mutate(Compare='Healthy vs. GC') %>% #\n",
    "mutate(Pvalue=case_when(pvalue < 0.05 ~'P < 0.05', TRUE~\"ns\"))"
   ]
  },
  {
   "cell_type": "code",
   "execution_count": 44,
   "id": "8a183c20-31bd-42a7-a057-f9d7f5df5f5f",
   "metadata": {},
   "outputs": [
    {
     "data": {
      "text/html": [
       "<table>\n",
       "<caption>A data.frame: 16 × 6</caption>\n",
       "<thead>\n",
       "\t<tr><th></th><th scope=col>R2</th><th scope=col>pvalue</th><th scope=col>study</th><th scope=col>metric</th><th scope=col>Compare</th><th scope=col>Pvalue</th></tr>\n",
       "\t<tr><th></th><th scope=col>&lt;dbl&gt;</th><th scope=col>&lt;dbl&gt;</th><th scope=col>&lt;chr&gt;</th><th scope=col>&lt;chr&gt;</th><th scope=col>&lt;chr&gt;</th><th scope=col>&lt;chr&gt;</th></tr>\n",
       "</thead>\n",
       "<tbody>\n",
       "\t<tr><th scope=row>PRJEB21104</th><td>0.15140261</td><td>0.001</td><td>PRJEB21104</td><td><span style=white-space:pre-wrap>Bray Curtis       </span></td><td>Healthy vs. GC</td><td>P &lt; 0.05</td></tr>\n",
       "\t<tr><th scope=row>PRJEB21497</th><td>0.07576004</td><td>0.002</td><td>PRJEB21497</td><td><span style=white-space:pre-wrap>Bray Curtis       </span></td><td>Healthy vs. GC</td><td>P &lt; 0.05</td></tr>\n",
       "\t<tr><th scope=row>PRJEB26931</th><td>0.16024839</td><td>0.001</td><td>PRJEB26931</td><td><span style=white-space:pre-wrap>Bray Curtis       </span></td><td>Healthy vs. GC</td><td>P &lt; 0.05</td></tr>\n",
       "\t<tr><th scope=row>PRJEB211041</th><td>0.07002183</td><td>0.001</td><td>PRJEB21104</td><td><span style=white-space:pre-wrap>Jaccard           </span></td><td>Healthy vs. GC</td><td>P &lt; 0.05</td></tr>\n",
       "\t<tr><th scope=row>PRJEB214971</th><td>0.05157238</td><td>0.001</td><td>PRJEB21497</td><td><span style=white-space:pre-wrap>Jaccard           </span></td><td>Healthy vs. GC</td><td>P &lt; 0.05</td></tr>\n",
       "\t<tr><th scope=row>PRJEB269311</th><td>0.12527220</td><td>0.001</td><td>PRJEB26931</td><td><span style=white-space:pre-wrap>Jaccard           </span></td><td>Healthy vs. GC</td><td>P &lt; 0.05</td></tr>\n",
       "\t<tr><th scope=row>PRJEB211042</th><td>0.33773866</td><td>0.001</td><td>PRJEB21104</td><td><span style=white-space:pre-wrap>Weighted UniFrac  </span></td><td>Healthy vs. GC</td><td>P &lt; 0.05</td></tr>\n",
       "\t<tr><th scope=row>PRJEB214972</th><td>0.03956723</td><td>0.258</td><td>PRJEB21497</td><td>Weighted UniFrac  </td><td>Healthy vs. GC</td><td>ns      </td></tr>\n",
       "\t<tr><th scope=row>PRJEB269312</th><td>0.06605080</td><td>0.001</td><td>PRJEB26931</td><td><span style=white-space:pre-wrap>Weighted UniFrac  </span></td><td>Healthy vs. GC</td><td>P &lt; 0.05</td></tr>\n",
       "\t<tr><th scope=row>PRJEB211043</th><td>0.16943878</td><td>0.001</td><td>PRJEB21104</td><td>Unweighted UniFrac</td><td>Healthy vs. GC</td><td>P &lt; 0.05</td></tr>\n",
       "\t<tr><th scope=row>PRJEB214973</th><td>0.05220806</td><td>0.029</td><td>PRJEB21497</td><td>Unweighted UniFrac</td><td>Healthy vs. GC</td><td>P &lt; 0.05</td></tr>\n",
       "\t<tr><th scope=row>PRJEB269313</th><td>0.14861022</td><td>0.001</td><td>PRJEB26931</td><td>Unweighted UniFrac</td><td>Healthy vs. GC</td><td>P &lt; 0.05</td></tr>\n",
       "\t<tr><th scope=row>1</th><td>0.06525417</td><td>0.001</td><td><span style=white-space:pre-wrap>Combined  </span></td><td><span style=white-space:pre-wrap>Bray Curtis       </span></td><td>Healthy vs. GC</td><td>P &lt; 0.05</td></tr>\n",
       "\t<tr><th scope=row>2</th><td>0.05668411</td><td>0.001</td><td><span style=white-space:pre-wrap>Combined  </span></td><td><span style=white-space:pre-wrap>Jaccard           </span></td><td>Healthy vs. GC</td><td>P &lt; 0.05</td></tr>\n",
       "\t<tr><th scope=row>3</th><td>0.04276228</td><td>0.006</td><td><span style=white-space:pre-wrap>Combined  </span></td><td><span style=white-space:pre-wrap>Weighted UniFrac  </span></td><td>Healthy vs. GC</td><td>P &lt; 0.05</td></tr>\n",
       "\t<tr><th scope=row>4</th><td>0.05970944</td><td>0.001</td><td><span style=white-space:pre-wrap>Combined  </span></td><td>Unweighted UniFrac</td><td>Healthy vs. GC</td><td>P &lt; 0.05</td></tr>\n",
       "</tbody>\n",
       "</table>\n"
      ],
      "text/latex": [
       "A data.frame: 16 × 6\n",
       "\\begin{tabular}{r|llllll}\n",
       "  & R2 & pvalue & study & metric & Compare & Pvalue\\\\\n",
       "  & <dbl> & <dbl> & <chr> & <chr> & <chr> & <chr>\\\\\n",
       "\\hline\n",
       "\tPRJEB21104 & 0.15140261 & 0.001 & PRJEB21104 & Bray Curtis        & Healthy vs. GC & P < 0.05\\\\\n",
       "\tPRJEB21497 & 0.07576004 & 0.002 & PRJEB21497 & Bray Curtis        & Healthy vs. GC & P < 0.05\\\\\n",
       "\tPRJEB26931 & 0.16024839 & 0.001 & PRJEB26931 & Bray Curtis        & Healthy vs. GC & P < 0.05\\\\\n",
       "\tPRJEB211041 & 0.07002183 & 0.001 & PRJEB21104 & Jaccard            & Healthy vs. GC & P < 0.05\\\\\n",
       "\tPRJEB214971 & 0.05157238 & 0.001 & PRJEB21497 & Jaccard            & Healthy vs. GC & P < 0.05\\\\\n",
       "\tPRJEB269311 & 0.12527220 & 0.001 & PRJEB26931 & Jaccard            & Healthy vs. GC & P < 0.05\\\\\n",
       "\tPRJEB211042 & 0.33773866 & 0.001 & PRJEB21104 & Weighted UniFrac   & Healthy vs. GC & P < 0.05\\\\\n",
       "\tPRJEB214972 & 0.03956723 & 0.258 & PRJEB21497 & Weighted UniFrac   & Healthy vs. GC & ns      \\\\\n",
       "\tPRJEB269312 & 0.06605080 & 0.001 & PRJEB26931 & Weighted UniFrac   & Healthy vs. GC & P < 0.05\\\\\n",
       "\tPRJEB211043 & 0.16943878 & 0.001 & PRJEB21104 & Unweighted UniFrac & Healthy vs. GC & P < 0.05\\\\\n",
       "\tPRJEB214973 & 0.05220806 & 0.029 & PRJEB21497 & Unweighted UniFrac & Healthy vs. GC & P < 0.05\\\\\n",
       "\tPRJEB269313 & 0.14861022 & 0.001 & PRJEB26931 & Unweighted UniFrac & Healthy vs. GC & P < 0.05\\\\\n",
       "\t1 & 0.06525417 & 0.001 & Combined   & Bray Curtis        & Healthy vs. GC & P < 0.05\\\\\n",
       "\t2 & 0.05668411 & 0.001 & Combined   & Jaccard            & Healthy vs. GC & P < 0.05\\\\\n",
       "\t3 & 0.04276228 & 0.006 & Combined   & Weighted UniFrac   & Healthy vs. GC & P < 0.05\\\\\n",
       "\t4 & 0.05970944 & 0.001 & Combined   & Unweighted UniFrac & Healthy vs. GC & P < 0.05\\\\\n",
       "\\end{tabular}\n"
      ],
      "text/markdown": [
       "\n",
       "A data.frame: 16 × 6\n",
       "\n",
       "| <!--/--> | R2 &lt;dbl&gt; | pvalue &lt;dbl&gt; | study &lt;chr&gt; | metric &lt;chr&gt; | Compare &lt;chr&gt; | Pvalue &lt;chr&gt; |\n",
       "|---|---|---|---|---|---|---|\n",
       "| PRJEB21104 | 0.15140261 | 0.001 | PRJEB21104 | Bray Curtis        | Healthy vs. GC | P &lt; 0.05 |\n",
       "| PRJEB21497 | 0.07576004 | 0.002 | PRJEB21497 | Bray Curtis        | Healthy vs. GC | P &lt; 0.05 |\n",
       "| PRJEB26931 | 0.16024839 | 0.001 | PRJEB26931 | Bray Curtis        | Healthy vs. GC | P &lt; 0.05 |\n",
       "| PRJEB211041 | 0.07002183 | 0.001 | PRJEB21104 | Jaccard            | Healthy vs. GC | P &lt; 0.05 |\n",
       "| PRJEB214971 | 0.05157238 | 0.001 | PRJEB21497 | Jaccard            | Healthy vs. GC | P &lt; 0.05 |\n",
       "| PRJEB269311 | 0.12527220 | 0.001 | PRJEB26931 | Jaccard            | Healthy vs. GC | P &lt; 0.05 |\n",
       "| PRJEB211042 | 0.33773866 | 0.001 | PRJEB21104 | Weighted UniFrac   | Healthy vs. GC | P &lt; 0.05 |\n",
       "| PRJEB214972 | 0.03956723 | 0.258 | PRJEB21497 | Weighted UniFrac   | Healthy vs. GC | ns       |\n",
       "| PRJEB269312 | 0.06605080 | 0.001 | PRJEB26931 | Weighted UniFrac   | Healthy vs. GC | P &lt; 0.05 |\n",
       "| PRJEB211043 | 0.16943878 | 0.001 | PRJEB21104 | Unweighted UniFrac | Healthy vs. GC | P &lt; 0.05 |\n",
       "| PRJEB214973 | 0.05220806 | 0.029 | PRJEB21497 | Unweighted UniFrac | Healthy vs. GC | P &lt; 0.05 |\n",
       "| PRJEB269313 | 0.14861022 | 0.001 | PRJEB26931 | Unweighted UniFrac | Healthy vs. GC | P &lt; 0.05 |\n",
       "| 1 | 0.06525417 | 0.001 | Combined   | Bray Curtis        | Healthy vs. GC | P &lt; 0.05 |\n",
       "| 2 | 0.05668411 | 0.001 | Combined   | Jaccard            | Healthy vs. GC | P &lt; 0.05 |\n",
       "| 3 | 0.04276228 | 0.006 | Combined   | Weighted UniFrac   | Healthy vs. GC | P &lt; 0.05 |\n",
       "| 4 | 0.05970944 | 0.001 | Combined   | Unweighted UniFrac | Healthy vs. GC | P &lt; 0.05 |\n",
       "\n"
      ],
      "text/plain": [
       "            R2         pvalue study      metric             Compare       \n",
       "PRJEB21104  0.15140261 0.001  PRJEB21104 Bray Curtis        Healthy vs. GC\n",
       "PRJEB21497  0.07576004 0.002  PRJEB21497 Bray Curtis        Healthy vs. GC\n",
       "PRJEB26931  0.16024839 0.001  PRJEB26931 Bray Curtis        Healthy vs. GC\n",
       "PRJEB211041 0.07002183 0.001  PRJEB21104 Jaccard            Healthy vs. GC\n",
       "PRJEB214971 0.05157238 0.001  PRJEB21497 Jaccard            Healthy vs. GC\n",
       "PRJEB269311 0.12527220 0.001  PRJEB26931 Jaccard            Healthy vs. GC\n",
       "PRJEB211042 0.33773866 0.001  PRJEB21104 Weighted UniFrac   Healthy vs. GC\n",
       "PRJEB214972 0.03956723 0.258  PRJEB21497 Weighted UniFrac   Healthy vs. GC\n",
       "PRJEB269312 0.06605080 0.001  PRJEB26931 Weighted UniFrac   Healthy vs. GC\n",
       "PRJEB211043 0.16943878 0.001  PRJEB21104 Unweighted UniFrac Healthy vs. GC\n",
       "PRJEB214973 0.05220806 0.029  PRJEB21497 Unweighted UniFrac Healthy vs. GC\n",
       "PRJEB269313 0.14861022 0.001  PRJEB26931 Unweighted UniFrac Healthy vs. GC\n",
       "1           0.06525417 0.001  Combined   Bray Curtis        Healthy vs. GC\n",
       "2           0.05668411 0.001  Combined   Jaccard            Healthy vs. GC\n",
       "3           0.04276228 0.006  Combined   Weighted UniFrac   Healthy vs. GC\n",
       "4           0.05970944 0.001  Combined   Unweighted UniFrac Healthy vs. GC\n",
       "            Pvalue  \n",
       "PRJEB21104  P < 0.05\n",
       "PRJEB21497  P < 0.05\n",
       "PRJEB26931  P < 0.05\n",
       "PRJEB211041 P < 0.05\n",
       "PRJEB214971 P < 0.05\n",
       "PRJEB269311 P < 0.05\n",
       "PRJEB211042 P < 0.05\n",
       "PRJEB214972 ns      \n",
       "PRJEB269312 P < 0.05\n",
       "PRJEB211043 P < 0.05\n",
       "PRJEB214973 P < 0.05\n",
       "PRJEB269313 P < 0.05\n",
       "1           P < 0.05\n",
       "2           P < 0.05\n",
       "3           P < 0.05\n",
       "4           P < 0.05"
      ]
     },
     "metadata": {},
     "output_type": "display_data"
    }
   ],
   "source": [
    "hgc"
   ]
  },
  {
   "cell_type": "code",
   "execution_count": 45,
   "id": "17787b57-12d0-46f7-ae78-7d23db8ac488",
   "metadata": {},
   "outputs": [
    {
     "data": {
      "image/png": "[encoded data removed]",
      "text/plain": [
       "plot without title"
      ]
     },
     "metadata": {
      "image/png": {
       "height": 420,
       "width": 420
      }
     },
     "output_type": "display_data"
    }
   ],
   "source": [
    "ggplot(data = hgc, aes(x = R2, y =study,color=metric))+ geom_point(aes(shape =Pvalue),size=2)+\n",
    "theme_MicrobeR() +\n",
    "theme(panel.border = element_blank(), axis.line = element_line())+ #上右方框去掉了\n",
    "theme(axis.text.x = element_text(angle = 0, hjust = 1), \n",
    "        panel.grid = element_blank(), \n",
    "        axis.text = element_text(size = 10,colour = 'black'), \n",
    "        axis.title = element_text(size = 10),\n",
    "        plot.title = element_text(size = 10,hjust = 0.5),\n",
    "        legend.title = element_text(size = 10),\n",
    "      legend.text = element_text(size = 10),\n",
    "     plot.margin=unit(rep(2,4),'lines')\n",
    "     )+labs(title = 'healthy vs GC') +scale_color_manual(values=col)#\n",
    "ggsave(\"figures/healthy_vs_GC_adonis-no313391.pdf\", device=\"pdf\", height=3, width=6, useDingbats=F)"
   ]
  },
  {
   "cell_type": "markdown",
   "id": "eedab171-9b5b-4228-8652-5a717146aff9",
   "metadata": {},
   "source": [
    "### gastritis vs IM "
   ]
  },
  {
   "cell_type": "code",
   "execution_count": 46,
   "id": "e181d4c0-ea0a-41b1-9c13-85d8cb5cfce8",
   "metadata": {},
   "outputs": [
    {
     "data": {
      "text/html": [
       "<style>\n",
       ".list-inline {list-style: none; margin:0; padding: 0}\n",
       ".list-inline>li {display: inline-block}\n",
       ".list-inline>li:not(:last-child)::after {content: \"\\00b7\"; padding: 0 .5ex}\n",
       "</style>\n",
       "<ol class=list-inline><li>2092</li><li>50</li></ol>\n"
      ],
      "text/latex": [
       "\\begin{enumerate*}\n",
       "\\item 2092\n",
       "\\item 50\n",
       "\\end{enumerate*}\n"
      ],
      "text/markdown": [
       "1. 2092\n",
       "2. 50\n",
       "\n",
       "\n"
      ],
      "text/plain": [
       "[1] 2092   50"
      ]
     },
     "metadata": {},
     "output_type": "display_data"
    }
   ],
   "source": [
    "dim(md)"
   ]
  },
  {
   "cell_type": "code",
   "execution_count": 47,
   "id": "f878b771-3dc6-46aa-b45e-d500befb2e5e",
   "metadata": {},
   "outputs": [],
   "source": [
    "Project=c('PRJEB21104','PRJEB26931','PRJNA375772_Xi_an','PRJNA481413')"
   ]
  },
  {
   "cell_type": "code",
   "execution_count": 48,
   "id": "0e3894d5-a134-445a-937a-f7d7e1588f8f",
   "metadata": {},
   "outputs": [
    {
     "data": {
      "text/plain": [
       "\n",
       "       gastric cancer             gastritis               healthy \n",
       "                 1392                   370                   104 \n",
       "intestinal metaplasia \n",
       "                  226 "
      ]
     },
     "metadata": {},
     "output_type": "display_data"
    }
   ],
   "source": [
    "table(md$Diagnosis)"
   ]
  },
  {
   "cell_type": "code",
   "execution_count": 49,
   "id": "b5c18d39-de4c-4d54-851f-7dd53e5dba34",
   "metadata": {},
   "outputs": [],
   "source": [
    "set.seed(1)\n",
    "PerStudy_beta<-list()\n",
    "for (i in 1:4){\n",
    "    dis <- distance_metric[[i]]\n",
    "    dis_str <- distance_str[i]\n",
    "    #message(dis_str)\n",
    "    for(p in Project){\n",
    "        \n",
    "        #message(p)\n",
    "        PerStudy_beta[[dis_str]][[p]]<-beta_stat(p,dis,'gastritis','intestinal metaplasia')\n",
    "   }\n",
    "}"
   ]
  },
  {
   "cell_type": "code",
   "execution_count": 50,
   "id": "e0e646ab-c19c-49c3-8574-a755eddf9717",
   "metadata": {},
   "outputs": [],
   "source": [
    "data <- data.frame()\n",
    "\n",
    "for (dis_str in distance_str){\n",
    "   diag_res <- data.frame(row.names=Project) \n",
    "   for (p in Project){       \n",
    "       diag_res[p,1] <- PerStudy_beta[[dis_str]][[p]]['Diagnosis','R2']\n",
    "       diag_res[p,2] <- PerStudy_beta[[dis_str]][[p]]['Diagnosis','Pr(>F)'] \n",
    "   }   \n",
    "   names(diag_res) <- c('R2','pvalue')\n",
    "   diag_res['study']<-row.names(diag_res)\n",
    "   diag_res['metric'] <- dis_str\n",
    "   data <- rbind(data, diag_res)         \n",
    "}\n",
    "\n",
    "# combined \n",
    "mtd <- subset(md,Study == 'PRJEB21104' | Study == 'PRJEB26931' | Study == 'PRJNA375772_Xi_an' | Study == 'PRJNA481413') %>%\n",
    "subset(Diagnosis == 'gastritis'| Diagnosis == 'intestinal metaplasia')  #\n",
    "\n",
    "df <- data.frame()\n",
    "for (i in 1:4){\n",
    "    dis <- distance_metric[[i]]\n",
    "    dis_str <- distance_str[i]\n",
    "    \n",
    "    sample_ids = intersect(row.names(mtd),row.names(dis))\n",
    "    s_md <- mtd[sample_ids,]\n",
    "    distance <- dis[sample_ids,sample_ids]\n",
    "    adnonis_res <- adonis(distance ~ Diagnosis, strata=s_md$Study,data = s_md)$aov.tab\n",
    "    R2 <- adnonis_res['Diagnosis','R2']\n",
    "    pvalue <- adnonis_res['Diagnosis','Pr(>F)']\n",
    "    l <- data.frame('R2'=R2,'pvalue'=pvalue,'study'='Combined','metric'=dis_str)\n",
    "    df <- rbind(df, l)\n",
    "    \n",
    "}\n",
    "\n",
    "gIM <- rbind(data,df) %>% mutate(Compare='Gastritis vs. IM') %>%                                        #\n",
    "mutate(Pvalue=case_when(pvalue < 0.05 ~'P < 0.05', TRUE~\"ns\"))"
   ]
  },
  {
   "cell_type": "code",
   "execution_count": 51,
   "id": "cf8618bd-49e7-47ad-941d-910996cf15ce",
   "metadata": {},
   "outputs": [
    {
     "data": {
      "image/png": "[encoded data removed]",
      "text/plain": [
       "plot without title"
      ]
     },
     "metadata": {
      "image/png": {
       "height": 420,
       "width": 420
      }
     },
     "output_type": "display_data"
    }
   ],
   "source": [
    "ggplot(data =gIM , aes(x = R2, y =study,color=metric))+ geom_point(aes(shape =Pvalue),size=2)+\n",
    "theme_MicrobeR() +\n",
    "theme(panel.border = element_blank(), axis.line = element_line())+ #上右方框去掉了\n",
    "theme(axis.text.x = element_text(angle = 0, hjust = 1), \n",
    "        panel.grid = element_blank(), \n",
    "        axis.text = element_text(size = 10,colour = 'black'), \n",
    "        axis.title = element_text(size = 10),\n",
    "        plot.title = element_text(size = 10,hjust = 0.5),\n",
    "        legend.title = element_text(size = 10),\n",
    "      legend.text = element_text(size = 10),\n",
    "     plot.margin=unit(rep(2,4),'lines')\n",
    "     )+labs(title = 'Gastritis vs IM') +scale_color_manual(values=col)#\n",
    "ggsave(\"figures/gastritis_vs_IM_adonis-no313391.pdf\", device=\"pdf\", height=3, width=6, useDingbats=F)"
   ]
  },
  {
   "cell_type": "markdown",
   "id": "b9beefbe-8fd7-4e6f-9e4a-0de2038ab54c",
   "metadata": {},
   "source": [
    "### gastritis vs GC "
   ]
  },
  {
   "cell_type": "code",
   "execution_count": 52,
   "id": "068a26d0-2ee3-4793-a67e-ee3e3d2e07fb",
   "metadata": {},
   "outputs": [],
   "source": [
    "Project<-c('PRJEB21104','PRJEB26931','PRJNA375772_Inner_Mongolia','PRJNA375772_Xi_an',\n",
    "'PRJNA481413')"
   ]
  },
  {
   "cell_type": "code",
   "execution_count": 53,
   "id": "cf4f4bff-3a6f-46b2-b9d3-e54ac083d1a1",
   "metadata": {},
   "outputs": [],
   "source": [
    "set.seed(1)\n",
    "PerStudy_beta<-list()\n",
    "for (i in 1:4){\n",
    "    dis <- distance_metric[[i]]\n",
    "    dis_str <- distance_str[i]\n",
    "    #message(dis_str)\n",
    "    for(p in Project){\n",
    "        \n",
    "        #message(p)\n",
    "        PerStudy_beta[[dis_str]][[p]]<-beta_stat(p,dis,'gastritis','gastric cancer')  #\n",
    "   }\n",
    "}"
   ]
  },
  {
   "cell_type": "code",
   "execution_count": 54,
   "id": "9ea9cf3d-1c09-452c-986e-410f9e467d83",
   "metadata": {},
   "outputs": [],
   "source": [
    "data <- data.frame()\n",
    "\n",
    "for (dis_str in distance_str){\n",
    "   diag_res <- data.frame(row.names=Project) \n",
    "   for (p in Project){       \n",
    "       diag_res[p,1] <- PerStudy_beta[[dis_str]][[p]]['Diagnosis','R2']\n",
    "       diag_res[p,2] <- PerStudy_beta[[dis_str]][[p]]['Diagnosis','Pr(>F)'] \n",
    "   }   \n",
    "   names(diag_res) <- c('R2','pvalue')\n",
    "   diag_res['study']<-row.names(diag_res)\n",
    "   diag_res['metric'] <- dis_str\n",
    "   data <- rbind(data, diag_res)         \n",
    "}\n",
    "\n",
    "# combined \n",
    "mtd <- subset(md,Study == 'PRJEB21104' | Study == 'PRJEB26931' | Study == 'PRJNA375772_Inner_Mongolia'| Study == 'PRJNA375772_Xi_an' | Study == 'PRJNA481413') %>%\n",
    "subset(Diagnosis == 'gastritis'| Diagnosis == 'gastric cancer')  #\n",
    "\n",
    "df <- data.frame()\n",
    "for (i in 1:4){\n",
    "    dis <- distance_metric[[i]]\n",
    "    dis_str <- distance_str[i]\n",
    "    \n",
    "    sample_ids = intersect(row.names(mtd),row.names(dis))\n",
    "    s_md <- mtd[sample_ids,]\n",
    "    distance <- dis[sample_ids,sample_ids]\n",
    "    adnonis_res <- adonis(distance ~ Diagnosis,strata=s_md$Study, data = s_md)$aov.tab\n",
    "    R2 <- adnonis_res['Diagnosis','R2']\n",
    "    pvalue <- adnonis_res['Diagnosis','Pr(>F)']\n",
    "    l <- data.frame('R2'=R2,'pvalue'=pvalue,'study'='Combined','metric'=dis_str)\n",
    "    df <- rbind(df, l)\n",
    "    \n",
    "}\n",
    "\n",
    "ggc <- rbind(data,df) %>% mutate(Compare='Gastritis vs. GC') %>%                                        #\n",
    "mutate(Pvalue=case_when(pvalue < 0.05 ~'P < 0.05', TRUE~\"ns\"))"
   ]
  },
  {
   "cell_type": "code",
   "execution_count": 55,
   "id": "cbdcd6e2-571c-4cbb-8069-f25ad11b86d4",
   "metadata": {},
   "outputs": [
    {
     "data": {
      "image/png": "[encoded data removed]",
      "text/plain": [
       "plot without title"
      ]
     },
     "metadata": {
      "image/png": {
       "height": 420,
       "width": 420
      }
     },
     "output_type": "display_data"
    }
   ],
   "source": [
    "ggplot(data =ggc , aes(x = R2, y =study,color=metric))+ geom_point(aes(shape =Pvalue),size=2)+\n",
    "theme_MicrobeR() +\n",
    "theme(panel.border = element_blank(), axis.line = element_line())+ #上右方框去掉了\n",
    "theme(axis.text.x = element_text(angle = 0, hjust = 1), \n",
    "        panel.grid = element_blank(), \n",
    "        axis.text = element_text(size = 10,colour = 'black'), \n",
    "        axis.title = element_text(size = 10),\n",
    "        plot.title = element_text(size = 10,hjust = 0.5),\n",
    "        legend.title = element_text(size = 10),\n",
    "      legend.text = element_text(size = 10),\n",
    "     plot.margin=unit(rep(2,4),'lines')\n",
    "     )+labs(title = 'Gastritis vs GC') +scale_color_manual(values=col)\n",
    "ggsave(\"figures/gastritis_vs_GC_adonis-no313391.pdf\", device=\"pdf\", height=3.5, width=6.8, useDingbats=F)"
   ]
  },
  {
   "cell_type": "markdown",
   "id": "1d1b002b-480d-4f09-907e-96a556f2def2",
   "metadata": {},
   "source": [
    "### IM vs GC "
   ]
  },
  {
   "cell_type": "code",
   "execution_count": 56,
   "id": "2882e3bf-b596-452c-b26b-25c1e5e12364",
   "metadata": {},
   "outputs": [],
   "source": [
    "Project<-c('PRJEB21104','PRJEB26931','PRJNA375772_Xi_an',\n",
    "'PRJNA481413')"
   ]
  },
  {
   "cell_type": "code",
   "execution_count": 57,
   "id": "4f6978f1-2f06-4797-b86e-0f7ca5a501a4",
   "metadata": {},
   "outputs": [],
   "source": [
    "set.seed(1)\n",
    "PerStudy_beta<-list()\n",
    "for (i in 1:4){\n",
    "    dis <- distance_metric[[i]]\n",
    "    dis_str <- distance_str[i]\n",
    "    #message(dis_str)\n",
    "    for(p in Project){\n",
    "        \n",
    "        #message(p)\n",
    "        PerStudy_beta[[dis_str]][[p]]<-beta_stat(p,dis,'intestinal metaplasia','gastric cancer')\n",
    "   }\n",
    "}"
   ]
  },
  {
   "cell_type": "code",
   "execution_count": 58,
   "id": "099d0b3c-b8a8-4d73-944d-85ec55970a91",
   "metadata": {},
   "outputs": [],
   "source": [
    "data <- data.frame()\n",
    "\n",
    "for (dis_str in distance_str){\n",
    "   diag_res <- data.frame(row.names=Project) \n",
    "   for (p in Project){       \n",
    "       diag_res[p,1] <- PerStudy_beta[[dis_str]][[p]]['Diagnosis','R2']\n",
    "       diag_res[p,2] <- PerStudy_beta[[dis_str]][[p]]['Diagnosis','Pr(>F)'] \n",
    "   }   \n",
    "   names(diag_res) <- c('R2','pvalue')\n",
    "   diag_res['study']<-row.names(diag_res)\n",
    "   diag_res['metric'] <- dis_str\n",
    "   data <- rbind(data, diag_res)         \n",
    "}\n",
    "\n",
    "# combined \n",
    "mtd <- subset(md,Study == 'PRJEB21104' | Study == 'PRJEB26931' | Study == 'PRJNA375772_Xi_an' | Study == 'PRJNA481413') %>%\n",
    "subset(Diagnosis == 'intestinal metaplasia'| Diagnosis == 'gastric cancer')  #\n",
    "\n",
    "df <- data.frame()\n",
    "for (i in 1:4){\n",
    "    dis <- distance_metric[[i]]\n",
    "    dis_str <- distance_str[i]\n",
    "    \n",
    "    sample_ids = intersect(row.names(mtd),row.names(dis))\n",
    "    s_md <- mtd[sample_ids,]\n",
    "    distance <- dis[sample_ids,sample_ids]\n",
    "    adnonis_res <- adonis(distance ~ Diagnosis,strata=s_md$Study, data = s_md)$aov.tab\n",
    "    R2 <- adnonis_res['Diagnosis','R2']\n",
    "    pvalue <- adnonis_res['Diagnosis','Pr(>F)']\n",
    "    l <- data.frame('R2'=R2,'pvalue'=pvalue,'study'='Combined','metric'=dis_str)\n",
    "    df <- rbind(df, l)\n",
    "    \n",
    "}\n",
    "\n",
    "IMGC <- rbind(data,df) %>% mutate(Compare='IM vs. GC') %>%                                        #\n",
    "mutate(Pvalue=case_when(pvalue < 0.05 ~'P < 0.05', TRUE~\"ns\"))"
   ]
  },
  {
   "cell_type": "code",
   "execution_count": 59,
   "id": "d4f59bd2-a8ab-4368-a47b-1349c192db26",
   "metadata": {},
   "outputs": [
    {
     "data": {
      "image/png": "[encoded data removed]",
      "text/plain": [
       "plot without title"
      ]
     },
     "metadata": {
      "image/png": {
       "height": 420,
       "width": 420
      }
     },
     "output_type": "display_data"
    }
   ],
   "source": [
    "ggplot(data =IMGC , aes(x = R2, y =study,color=metric))+ geom_point(aes(shape =Pvalue),size=2)+\n",
    "theme_MicrobeR() +\n",
    "theme(panel.border = element_blank(), axis.line = element_line())+ #上右方框去掉了\n",
    "theme(axis.text.x = element_text(angle = 0, hjust = 1), \n",
    "        panel.grid = element_blank(), \n",
    "        axis.text = element_text(size = 10,colour = 'black'), \n",
    "        axis.title = element_text(size = 10),\n",
    "        plot.title = element_text(size = 10,hjust = 0.5),\n",
    "        legend.title = element_text(size = 10),\n",
    "      legend.text = element_text(size = 10),\n",
    "     plot.margin=unit(rep(2,4),'lines')\n",
    "     )+labs(title = 'IM vs GC')+scale_color_manual(values=col)+xlim(0,0.13)\n",
    "ggsave(\"figures/IM_vs_GC_adonis-no313391.pdf\", device=\"pdf\", height=3.5, width=6, useDingbats=F)"
   ]
  },
  {
   "cell_type": "code",
   "execution_count": null,
   "id": "a2224ce0-c6ab-453f-a5af-f2e53feca87b",
   "metadata": {},
   "outputs": [],
   "source": []
  },
  {
   "cell_type": "markdown",
   "id": "e55c705b-d69a-4e57-a7ed-b9ba240f63b6",
   "metadata": {},
   "source": [
    "### combined"
   ]
  },
  {
   "cell_type": "code",
   "execution_count": 60,
   "id": "759f8d2e-2e38-4972-8510-42c33ee03022",
   "metadata": {},
   "outputs": [],
   "source": [
    "cres <- list(hg,hgc,gIM,ggc,IMGC)"
   ]
  },
  {
   "cell_type": "code",
   "execution_count": 61,
   "id": "06638c74-0901-42a6-9d36-406ce056c4fa",
   "metadata": {},
   "outputs": [],
   "source": [
    "combined_res <- data.frame()\n",
    "\n",
    "for (type_res in cres ){\n",
    "    d <- subset(type_res, study == 'Combined')\n",
    "    combined_res <- rbind(combined_res,d)\n",
    "}\n",
    "\n",
    "combined_res$Compare <- factor(combined_res$Compare,level=c('IM vs. GC','Gastritis vs. GC','Gastritis vs. IM','Healthy vs. GC','Healthy vs. Gastritis'))"
   ]
  },
  {
   "cell_type": "code",
   "execution_count": 62,
   "id": "b1acf3d0-7afd-405d-ae8e-240cf9575318",
   "metadata": {},
   "outputs": [
    {
     "data": {
      "text/html": [
       "<style>\n",
       ".list-inline {list-style: none; margin:0; padding: 0}\n",
       ".list-inline>li {display: inline-block}\n",
       ".list-inline>li:not(:last-child)::after {content: \"\\00b7\"; padding: 0 .5ex}\n",
       "</style>\n",
       "<ol class=list-inline><li>Healthy vs. Gastritis</li><li>Healthy vs. Gastritis</li><li>Healthy vs. Gastritis</li><li>Healthy vs. Gastritis</li><li>Healthy vs. GC</li><li>Healthy vs. GC</li><li>Healthy vs. GC</li><li>Healthy vs. GC</li><li>Gastritis vs. IM</li><li>Gastritis vs. IM</li><li>Gastritis vs. IM</li><li>Gastritis vs. IM</li><li>Gastritis vs. GC</li><li>Gastritis vs. GC</li><li>Gastritis vs. GC</li><li>Gastritis vs. GC</li><li>IM vs. GC</li><li>IM vs. GC</li><li>IM vs. GC</li><li>IM vs. GC</li></ol>\n",
       "\n",
       "<details>\n",
       "\t<summary style=display:list-item;cursor:pointer>\n",
       "\t\t<strong>Levels</strong>:\n",
       "\t</summary>\n",
       "\t<style>\n",
       "\t.list-inline {list-style: none; margin:0; padding: 0}\n",
       "\t.list-inline>li {display: inline-block}\n",
       "\t.list-inline>li:not(:last-child)::after {content: \"\\00b7\"; padding: 0 .5ex}\n",
       "\t</style>\n",
       "\t<ol class=list-inline><li>'IM vs. GC'</li><li>'Gastritis vs. GC'</li><li>'Gastritis vs. IM'</li><li>'Healthy vs. GC'</li><li>'Healthy vs. Gastritis'</li></ol>\n",
       "</details>"
      ],
      "text/latex": [
       "\\begin{enumerate*}\n",
       "\\item Healthy vs. Gastritis\n",
       "\\item Healthy vs. Gastritis\n",
       "\\item Healthy vs. Gastritis\n",
       "\\item Healthy vs. Gastritis\n",
       "\\item Healthy vs. GC\n",
       "\\item Healthy vs. GC\n",
       "\\item Healthy vs. GC\n",
       "\\item Healthy vs. GC\n",
       "\\item Gastritis vs. IM\n",
       "\\item Gastritis vs. IM\n",
       "\\item Gastritis vs. IM\n",
       "\\item Gastritis vs. IM\n",
       "\\item Gastritis vs. GC\n",
       "\\item Gastritis vs. GC\n",
       "\\item Gastritis vs. GC\n",
       "\\item Gastritis vs. GC\n",
       "\\item IM vs. GC\n",
       "\\item IM vs. GC\n",
       "\\item IM vs. GC\n",
       "\\item IM vs. GC\n",
       "\\end{enumerate*}\n",
       "\n",
       "\\emph{Levels}: \\begin{enumerate*}\n",
       "\\item 'IM vs. GC'\n",
       "\\item 'Gastritis vs. GC'\n",
       "\\item 'Gastritis vs. IM'\n",
       "\\item 'Healthy vs. GC'\n",
       "\\item 'Healthy vs. Gastritis'\n",
       "\\end{enumerate*}\n"
      ],
      "text/markdown": [
       "1. Healthy vs. Gastritis\n",
       "2. Healthy vs. Gastritis\n",
       "3. Healthy vs. Gastritis\n",
       "4. Healthy vs. Gastritis\n",
       "5. Healthy vs. GC\n",
       "6. Healthy vs. GC\n",
       "7. Healthy vs. GC\n",
       "8. Healthy vs. GC\n",
       "9. Gastritis vs. IM\n",
       "10. Gastritis vs. IM\n",
       "11. Gastritis vs. IM\n",
       "12. Gastritis vs. IM\n",
       "13. Gastritis vs. GC\n",
       "14. Gastritis vs. GC\n",
       "15. Gastritis vs. GC\n",
       "16. Gastritis vs. GC\n",
       "17. IM vs. GC\n",
       "18. IM vs. GC\n",
       "19. IM vs. GC\n",
       "20. IM vs. GC\n",
       "\n",
       "\n",
       "\n",
       "**Levels**: 1. 'IM vs. GC'\n",
       "2. 'Gastritis vs. GC'\n",
       "3. 'Gastritis vs. IM'\n",
       "4. 'Healthy vs. GC'\n",
       "5. 'Healthy vs. Gastritis'\n",
       "\n",
       "\n"
      ],
      "text/plain": [
       " [1] Healthy vs. Gastritis Healthy vs. Gastritis Healthy vs. Gastritis\n",
       " [4] Healthy vs. Gastritis Healthy vs. GC        Healthy vs. GC       \n",
       " [7] Healthy vs. GC        Healthy vs. GC        Gastritis vs. IM     \n",
       "[10] Gastritis vs. IM      Gastritis vs. IM      Gastritis vs. IM     \n",
       "[13] Gastritis vs. GC      Gastritis vs. GC      Gastritis vs. GC     \n",
       "[16] Gastritis vs. GC      IM vs. GC             IM vs. GC            \n",
       "[19] IM vs. GC             IM vs. GC            \n",
       "5 Levels: IM vs. GC Gastritis vs. GC Gastritis vs. IM ... Healthy vs. Gastritis"
      ]
     },
     "metadata": {},
     "output_type": "display_data"
    }
   ],
   "source": [
    "combined_res$Compare"
   ]
  },
  {
   "cell_type": "code",
   "execution_count": 106,
   "id": "98c4c392-6a0a-462e-b147-5317d8dbd528",
   "metadata": {},
   "outputs": [
    {
     "data": {
      "image/png": "[encoded data removed]",
      "text/plain": [
       "plot without title"
      ]
     },
     "metadata": {
      "image/png": {
       "height": 420,
       "width": 420
      }
     },
     "output_type": "display_data"
    }
   ],
   "source": [
    "ggplot(data =combined_res , aes(x = R2, y =Compare,color=metric))+ geom_point(aes(shape =Pvalue),size=3)+\n",
    "theme_MicrobeR() +\n",
    "theme(panel.border = element_blank(), axis.line = element_line())+ #上右方框去掉了\n",
    "theme(axis.text.x = element_text(angle = 30, hjust = 1), \n",
    "        panel.grid = element_blank(), \n",
    "        axis.text = element_text(size = 10,colour = 'black'), \n",
    "        axis.title = element_text(size = 10),\n",
    "        plot.title = element_text(size = 10,hjust = 0.5),\n",
    "        legend.title = element_text(size = 10),\n",
    "      legend.text = element_text(size = 10),\n",
    "     plot.margin=unit(rep(2,4),'lines')\n",
    "     )+ylab('')+scale_color_manual(values=col)+labs(color='Distance metric') + xlim(0.003,0.1)+\n",
    "labs(title='With HP')+theme(plot.title = element_text(hjust = 0.5))#\n",
    "ggsave(\"figures/dignosis_combined_adonis-no313391.pdf\", device=\"pdf\", height=5, width=5.5, useDingbats=F)"
   ]
  },
  {
   "cell_type": "code",
   "execution_count": null,
   "id": "21a5aa25-0203-4423-81a2-ed855a1b29be",
   "metadata": {},
   "outputs": [],
   "source": []
  }
 ],
 "metadata": {
  "kernelspec": {
   "display_name": "R",
   "language": "R",
   "name": "ir"
  },
  "language_info": {
   "codemirror_mode": "r",
   "file_extension": ".r",
   "mimetype": "text/x-r-source",
   "name": "R",
   "pygments_lexer": "r",
   "version": "4.0.0"
  }
 },
 "nbformat": 4,
 "nbformat_minor": 5
}
