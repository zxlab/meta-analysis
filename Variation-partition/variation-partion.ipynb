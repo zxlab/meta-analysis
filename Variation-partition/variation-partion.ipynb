{
 "cells": [
  {
   "cell_type": "markdown",
   "metadata": {},
   "source": [
    "# variation partion"
   ]
  },
  {
   "cell_type": "markdown",
   "metadata": {},
   "source": [
    "+ **目的**：计算每个因素能解释多少菌群变化（variance explained），本notebook以计算宿主、天数、吃饭、刷牙等因素对口腔菌群变化的解释量为例\n",
    "+ **方法**：菌群的distance作为因变量，metadata中因素的距离矩阵作为自变量，拟合线性模型，然后再用relaimpo包计算每个因素的 %response variance\n",
    "+ **参考文献**：New Insights into the Intrinsic and Extrinsic Factors That Shape the Human Skin Microbiome. you can click [here](https://www.ncbi.nlm.nih.gov/pmc/articles/PMC6606800/) for the original text"
   ]
  },
  {
   "cell_type": "code",
   "execution_count": 2,
   "metadata": {
    "ExecuteTime": {
     "end_time": "2020-11-13T11:31:06.268994Z",
     "start_time": "2020-11-13T11:31:45.538Z"
    },
    "tags": []
   },
   "outputs": [],
   "source": [
    "library(relaimpo) # for variation partion\n",
    "library(cluster) # for calculatting distance of metadata\n",
    "library(ggplot2) # "
   ]
  },
  {
   "cell_type": "code",
   "execution_count": 3,
   "metadata": {
    "ExecuteTime": {
     "end_time": "2020-11-13T11:31:07.263808Z",
     "start_time": "2020-11-13T11:31:46.542Z"
    }
   },
   "outputs": [
    {
     "data": {
      "text/html": [
       "<style>\n",
       ".list-inline {list-style: none; margin:0; padding: 0}\n",
       ".list-inline>li {display: inline-block}\n",
       ".list-inline>li:not(:last-child)::after {content: \"\\00b7\"; padding: 0 .5ex}\n",
       "</style>\n",
       "<ol class=list-inline><li>866</li><li>39</li></ol>\n"
      ],
      "text/latex": [
       "\\begin{enumerate*}\n",
       "\\item 866\n",
       "\\item 39\n",
       "\\end{enumerate*}\n"
      ],
      "text/markdown": [
       "1. 866\n",
       "2. 39\n",
       "\n",
       "\n"
      ],
      "text/plain": [
       "[1] 866  39"
      ]
     },
     "metadata": {},
     "output_type": "display_data"
    }
   ],
   "source": [
    "# read metadata\n",
    "md<-read.csv('metadata.tsv',sep='\\t',row.names= 1)\n",
    "dim(md)"
   ]
  },
  {
   "cell_type": "code",
   "execution_count": 4,
   "metadata": {
    "ExecuteTime": {
     "end_time": "2020-11-13T11:31:08.039345Z",
     "start_time": "2020-11-13T11:31:47.270Z"
    }
   },
   "outputs": [
    {
     "data": {
      "text/html": [
       "<table>\n",
       "<caption>A data.frame: 6 × 7</caption>\n",
       "<thead>\n",
       "\t<tr><th></th><th scope=col>Host_ID</th><th scope=col>Day</th><th scope=col>events</th><th scope=col>Eat</th><th scope=col>Brush</th><th scope=col>Sleep</th><th scope=col>Exercise</th></tr>\n",
       "\t<tr><th></th><th scope=col>&lt;chr&gt;</th><th scope=col>&lt;int&gt;</th><th scope=col>&lt;chr&gt;</th><th scope=col>&lt;chr&gt;</th><th scope=col>&lt;chr&gt;</th><th scope=col>&lt;chr&gt;</th><th scope=col>&lt;chr&gt;</th></tr>\n",
       "</thead>\n",
       "<tbody>\n",
       "\t<tr><th scope=row>19122</th><td>MA</td><td>1</td><td>sleep</td><td>no</td><td>no</td><td>yes</td><td>no</td></tr>\n",
       "\t<tr><th scope=row>19123</th><td>MA</td><td>1</td><td>     </td><td>no</td><td>no</td><td>no </td><td>no</td></tr>\n",
       "\t<tr><th scope=row>19124</th><td>MA</td><td>1</td><td>sleep</td><td>no</td><td>no</td><td>yes</td><td>no</td></tr>\n",
       "\t<tr><th scope=row>19125</th><td>MA</td><td>1</td><td>     </td><td>no</td><td>no</td><td>no </td><td>no</td></tr>\n",
       "\t<tr><th scope=row>19126</th><td>MA</td><td>1</td><td>     </td><td>no</td><td>no</td><td>no </td><td>no</td></tr>\n",
       "\t<tr><th scope=row>19127</th><td>MA</td><td>1</td><td>     </td><td>no</td><td>no</td><td>no </td><td>no</td></tr>\n",
       "</tbody>\n",
       "</table>\n"
      ],
      "text/latex": [
       "A data.frame: 6 × 7\n",
       "\\begin{tabular}{r|lllllll}\n",
       "  & Host\\_ID & Day & events & Eat & Brush & Sleep & Exercise\\\\\n",
       "  & <chr> & <int> & <chr> & <chr> & <chr> & <chr> & <chr>\\\\\n",
       "\\hline\n",
       "\t19122 & MA & 1 & sleep & no & no & yes & no\\\\\n",
       "\t19123 & MA & 1 &       & no & no & no  & no\\\\\n",
       "\t19124 & MA & 1 & sleep & no & no & yes & no\\\\\n",
       "\t19125 & MA & 1 &       & no & no & no  & no\\\\\n",
       "\t19126 & MA & 1 &       & no & no & no  & no\\\\\n",
       "\t19127 & MA & 1 &       & no & no & no  & no\\\\\n",
       "\\end{tabular}\n"
      ],
      "text/markdown": [
       "\n",
       "A data.frame: 6 × 7\n",
       "\n",
       "| <!--/--> | Host_ID &lt;chr&gt; | Day &lt;int&gt; | events &lt;chr&gt; | Eat &lt;chr&gt; | Brush &lt;chr&gt; | Sleep &lt;chr&gt; | Exercise &lt;chr&gt; |\n",
       "|---|---|---|---|---|---|---|---|\n",
       "| 19122 | MA | 1 | sleep | no | no | yes | no |\n",
       "| 19123 | MA | 1 | <!----> | no | no | no  | no |\n",
       "| 19124 | MA | 1 | sleep | no | no | yes | no |\n",
       "| 19125 | MA | 1 | <!----> | no | no | no  | no |\n",
       "| 19126 | MA | 1 | <!----> | no | no | no  | no |\n",
       "| 19127 | MA | 1 | <!----> | no | no | no  | no |\n",
       "\n"
      ],
      "text/plain": [
       "      Host_ID Day events Eat Brush Sleep Exercise\n",
       "19122 MA      1   sleep  no  no    yes   no      \n",
       "19123 MA      1          no  no    no    no      \n",
       "19124 MA      1   sleep  no  no    yes   no      \n",
       "19125 MA      1          no  no    no    no      \n",
       "19126 MA      1          no  no    no    no      \n",
       "19127 MA      1          no  no    no    no      "
      ]
     },
     "metadata": {},
     "output_type": "display_data"
    }
   ],
   "source": [
    "head(md[,c('Host_ID','Day','events','Eat','Brush','Sleep','Exercise')])\n",
    "# 数据是不同天数、不同事件下三个宿主的口腔微生物"
   ]
  },
  {
   "cell_type": "code",
   "execution_count": 5,
   "metadata": {
    "ExecuteTime": {
     "end_time": "2020-11-13T11:31:12.868838Z",
     "start_time": "2020-11-13T11:31:52.161Z"
    }
   },
   "outputs": [],
   "source": [
    "md['Sleep'] <- as.factor(md[,'Sleep'])\n",
    "md['Eat'] <- as.factor(md[,'Eat'])\n",
    "md['Exercise'] <- as.factor(md[,'Exercise'])\n",
    "md['Brush'] <- as.factor(md[,'Brush'])\n",
    "md['Host_ID'] <- as.factor(md[,'Host_ID'])"
   ]
  },
  {
   "cell_type": "code",
   "execution_count": 6,
   "metadata": {
    "ExecuteTime": {
     "end_time": "2020-11-13T11:31:15.996258Z",
     "start_time": "2020-11-13T11:31:55.098Z"
    }
   },
   "outputs": [
    {
     "data": {
      "text/html": [
       "<style>\n",
       ".list-inline {list-style: none; margin:0; padding: 0}\n",
       ".list-inline>li {display: inline-block}\n",
       ".list-inline>li:not(:last-child)::after {content: \"\\00b7\"; padding: 0 .5ex}\n",
       "</style>\n",
       "<ol class=list-inline><li>599</li><li>599</li></ol>\n"
      ],
      "text/latex": [
       "\\begin{enumerate*}\n",
       "\\item 599\n",
       "\\item 599\n",
       "\\end{enumerate*}\n"
      ],
      "text/markdown": [
       "1. 599\n",
       "2. 599\n",
       "\n",
       "\n"
      ],
      "text/plain": [
       "[1] 599 599"
      ]
     },
     "metadata": {},
     "output_type": "display_data"
    }
   ],
   "source": [
    "# read braycurtis-distance-matrix file\n",
    "braycurtis_dis <- read.csv('braycurtis-distance-matrix.qza-unzip/data/distance-matrix.tsv',sep='\\t',row.names=1)\n",
    "colnames(braycurtis_dis) <- rownames(braycurtis_dis)\n",
    "dim(braycurtis_dis)"
   ]
  },
  {
   "cell_type": "code",
   "execution_count": 7,
   "metadata": {
    "ExecuteTime": {
     "end_time": "2020-11-13T11:31:16.712234Z",
     "start_time": "2020-11-13T11:31:55.951Z"
    }
   },
   "outputs": [
    {
     "data": {
      "text/html": [
       "<table>\n",
       "<caption>A data.frame: 6 × 599</caption>\n",
       "<thead>\n",
       "\t<tr><th></th><th scope=col>19336</th><th scope=col>19432</th><th scope=col>19499</th><th scope=col>19398</th><th scope=col>19394</th><th scope=col>19176</th><th scope=col>19356</th><th scope=col>19323</th><th scope=col>19181</th><th scope=col>19312</th><th scope=col>⋯</th><th scope=col>19927</th><th scope=col>19821</th><th scope=col>19985</th><th scope=col>20007</th><th scope=col>19868</th><th scope=col>19908</th><th scope=col>19260</th><th scope=col>19136</th><th scope=col>19814</th><th scope=col>19947</th></tr>\n",
       "\t<tr><th></th><th scope=col>&lt;dbl&gt;</th><th scope=col>&lt;dbl&gt;</th><th scope=col>&lt;dbl&gt;</th><th scope=col>&lt;dbl&gt;</th><th scope=col>&lt;dbl&gt;</th><th scope=col>&lt;dbl&gt;</th><th scope=col>&lt;dbl&gt;</th><th scope=col>&lt;dbl&gt;</th><th scope=col>&lt;dbl&gt;</th><th scope=col>&lt;dbl&gt;</th><th scope=col>⋯</th><th scope=col>&lt;dbl&gt;</th><th scope=col>&lt;dbl&gt;</th><th scope=col>&lt;dbl&gt;</th><th scope=col>&lt;dbl&gt;</th><th scope=col>&lt;dbl&gt;</th><th scope=col>&lt;dbl&gt;</th><th scope=col>&lt;dbl&gt;</th><th scope=col>&lt;dbl&gt;</th><th scope=col>&lt;dbl&gt;</th><th scope=col>&lt;dbl&gt;</th></tr>\n",
       "</thead>\n",
       "<tbody>\n",
       "\t<tr><th scope=row>19336</th><td>0.0000000</td><td>0.5538582</td><td>0.6976107</td><td>0.5393655</td><td>0.4786526</td><td>0.5417156</td><td>0.5934195</td><td>0.5910693</td><td>0.4563259</td><td>0.4810027</td><td>⋯</td><td>0.5115550</td><td>0.5660008</td><td>0.6263220</td><td>0.4923619</td><td>0.5491579</td><td>0.4414414</td><td>0.4586761</td><td>0.5851939</td><td>0.6799843</td><td>0.5205640</td></tr>\n",
       "\t<tr><th scope=row>19432</th><td>0.5538582</td><td>0.0000000</td><td>0.3975715</td><td>0.2906385</td><td>0.3309832</td><td>0.4766941</td><td>0.3063063</td><td>0.5174305</td><td>0.4422248</td><td>0.4911868</td><td>⋯</td><td>0.5182139</td><td>0.4567176</td><td>0.5252644</td><td>0.4363494</td><td>0.4038386</td><td>0.4508421</td><td>0.4943204</td><td>0.4296906</td><td>0.5001958</td><td>0.4770858</td></tr>\n",
       "\t<tr><th scope=row>19499</th><td>0.6976107</td><td>0.3975715</td><td>0.0000000</td><td>0.3490012</td><td>0.4010967</td><td>0.5327066</td><td>0.3556600</td><td>0.5667842</td><td>0.5522914</td><td>0.4759107</td><td>⋯</td><td>0.5746181</td><td>0.5189973</td><td>0.5311398</td><td>0.5280063</td><td>0.4853114</td><td>0.4786526</td><td>0.5726596</td><td>0.5150803</td><td>0.5127301</td><td>0.4907951</td></tr>\n",
       "\t<tr><th scope=row>19398</th><td>0.5393655</td><td>0.2906385</td><td>0.3490012</td><td>0.0000000</td><td>0.2667450</td><td>0.5056796</td><td>0.2781042</td><td>0.5558167</td><td>0.4719937</td><td>0.4857031</td><td>⋯</td><td>0.4727771</td><td>0.4516255</td><td>0.5084215</td><td>0.4300823</td><td>0.3893459</td><td>0.4191148</td><td>0.5111633</td><td>0.4853114</td><td>0.4998042</td><td>0.4226400</td></tr>\n",
       "\t<tr><th scope=row>19394</th><td>0.4786526</td><td>0.3309832</td><td>0.4010967</td><td>0.2667450</td><td>0.0000000</td><td>0.3482178</td><td>0.2612613</td><td>0.3960047</td><td>0.4406580</td><td>0.3415590</td><td>⋯</td><td>0.3846455</td><td>0.3642773</td><td>0.3713278</td><td>0.2624363</td><td>0.2953388</td><td>0.3153153</td><td>0.3145319</td><td>0.4473169</td><td>0.4394830</td><td>0.2871132</td></tr>\n",
       "\t<tr><th scope=row>19176</th><td>0.5417156</td><td>0.4766941</td><td>0.5327066</td><td>0.5056796</td><td>0.3482178</td><td>0.0000000</td><td>0.4089307</td><td>0.2902468</td><td>0.4296906</td><td>0.2784959</td><td>⋯</td><td>0.4696436</td><td>0.4277321</td><td>0.3936545</td><td>0.3313749</td><td>0.3748531</td><td>0.3807286</td><td>0.2800627</td><td>0.3352918</td><td>0.4363494</td><td>0.3180572</td></tr>\n",
       "</tbody>\n",
       "</table>\n"
      ],
      "text/latex": [
       "A data.frame: 6 × 599\n",
       "\\begin{tabular}{r|lllllllllllllllllllll}\n",
       "  & 19336 & 19432 & 19499 & 19398 & 19394 & 19176 & 19356 & 19323 & 19181 & 19312 & ⋯ & 19927 & 19821 & 19985 & 20007 & 19868 & 19908 & 19260 & 19136 & 19814 & 19947\\\\\n",
       "  & <dbl> & <dbl> & <dbl> & <dbl> & <dbl> & <dbl> & <dbl> & <dbl> & <dbl> & <dbl> & ⋯ & <dbl> & <dbl> & <dbl> & <dbl> & <dbl> & <dbl> & <dbl> & <dbl> & <dbl> & <dbl>\\\\\n",
       "\\hline\n",
       "\t19336 & 0.0000000 & 0.5538582 & 0.6976107 & 0.5393655 & 0.4786526 & 0.5417156 & 0.5934195 & 0.5910693 & 0.4563259 & 0.4810027 & ⋯ & 0.5115550 & 0.5660008 & 0.6263220 & 0.4923619 & 0.5491579 & 0.4414414 & 0.4586761 & 0.5851939 & 0.6799843 & 0.5205640\\\\\n",
       "\t19432 & 0.5538582 & 0.0000000 & 0.3975715 & 0.2906385 & 0.3309832 & 0.4766941 & 0.3063063 & 0.5174305 & 0.4422248 & 0.4911868 & ⋯ & 0.5182139 & 0.4567176 & 0.5252644 & 0.4363494 & 0.4038386 & 0.4508421 & 0.4943204 & 0.4296906 & 0.5001958 & 0.4770858\\\\\n",
       "\t19499 & 0.6976107 & 0.3975715 & 0.0000000 & 0.3490012 & 0.4010967 & 0.5327066 & 0.3556600 & 0.5667842 & 0.5522914 & 0.4759107 & ⋯ & 0.5746181 & 0.5189973 & 0.5311398 & 0.5280063 & 0.4853114 & 0.4786526 & 0.5726596 & 0.5150803 & 0.5127301 & 0.4907951\\\\\n",
       "\t19398 & 0.5393655 & 0.2906385 & 0.3490012 & 0.0000000 & 0.2667450 & 0.5056796 & 0.2781042 & 0.5558167 & 0.4719937 & 0.4857031 & ⋯ & 0.4727771 & 0.4516255 & 0.5084215 & 0.4300823 & 0.3893459 & 0.4191148 & 0.5111633 & 0.4853114 & 0.4998042 & 0.4226400\\\\\n",
       "\t19394 & 0.4786526 & 0.3309832 & 0.4010967 & 0.2667450 & 0.0000000 & 0.3482178 & 0.2612613 & 0.3960047 & 0.4406580 & 0.3415590 & ⋯ & 0.3846455 & 0.3642773 & 0.3713278 & 0.2624363 & 0.2953388 & 0.3153153 & 0.3145319 & 0.4473169 & 0.4394830 & 0.2871132\\\\\n",
       "\t19176 & 0.5417156 & 0.4766941 & 0.5327066 & 0.5056796 & 0.3482178 & 0.0000000 & 0.4089307 & 0.2902468 & 0.4296906 & 0.2784959 & ⋯ & 0.4696436 & 0.4277321 & 0.3936545 & 0.3313749 & 0.3748531 & 0.3807286 & 0.2800627 & 0.3352918 & 0.4363494 & 0.3180572\\\\\n",
       "\\end{tabular}\n"
      ],
      "text/markdown": [
       "\n",
       "A data.frame: 6 × 599\n",
       "\n",
       "| <!--/--> | 19336 &lt;dbl&gt; | 19432 &lt;dbl&gt; | 19499 &lt;dbl&gt; | 19398 &lt;dbl&gt; | 19394 &lt;dbl&gt; | 19176 &lt;dbl&gt; | 19356 &lt;dbl&gt; | 19323 &lt;dbl&gt; | 19181 &lt;dbl&gt; | 19312 &lt;dbl&gt; | ⋯ ⋯ | 19927 &lt;dbl&gt; | 19821 &lt;dbl&gt; | 19985 &lt;dbl&gt; | 20007 &lt;dbl&gt; | 19868 &lt;dbl&gt; | 19908 &lt;dbl&gt; | 19260 &lt;dbl&gt; | 19136 &lt;dbl&gt; | 19814 &lt;dbl&gt; | 19947 &lt;dbl&gt; |\n",
       "|---|---|---|---|---|---|---|---|---|---|---|---|---|---|---|---|---|---|---|---|---|---|\n",
       "| 19336 | 0.0000000 | 0.5538582 | 0.6976107 | 0.5393655 | 0.4786526 | 0.5417156 | 0.5934195 | 0.5910693 | 0.4563259 | 0.4810027 | ⋯ | 0.5115550 | 0.5660008 | 0.6263220 | 0.4923619 | 0.5491579 | 0.4414414 | 0.4586761 | 0.5851939 | 0.6799843 | 0.5205640 |\n",
       "| 19432 | 0.5538582 | 0.0000000 | 0.3975715 | 0.2906385 | 0.3309832 | 0.4766941 | 0.3063063 | 0.5174305 | 0.4422248 | 0.4911868 | ⋯ | 0.5182139 | 0.4567176 | 0.5252644 | 0.4363494 | 0.4038386 | 0.4508421 | 0.4943204 | 0.4296906 | 0.5001958 | 0.4770858 |\n",
       "| 19499 | 0.6976107 | 0.3975715 | 0.0000000 | 0.3490012 | 0.4010967 | 0.5327066 | 0.3556600 | 0.5667842 | 0.5522914 | 0.4759107 | ⋯ | 0.5746181 | 0.5189973 | 0.5311398 | 0.5280063 | 0.4853114 | 0.4786526 | 0.5726596 | 0.5150803 | 0.5127301 | 0.4907951 |\n",
       "| 19398 | 0.5393655 | 0.2906385 | 0.3490012 | 0.0000000 | 0.2667450 | 0.5056796 | 0.2781042 | 0.5558167 | 0.4719937 | 0.4857031 | ⋯ | 0.4727771 | 0.4516255 | 0.5084215 | 0.4300823 | 0.3893459 | 0.4191148 | 0.5111633 | 0.4853114 | 0.4998042 | 0.4226400 |\n",
       "| 19394 | 0.4786526 | 0.3309832 | 0.4010967 | 0.2667450 | 0.0000000 | 0.3482178 | 0.2612613 | 0.3960047 | 0.4406580 | 0.3415590 | ⋯ | 0.3846455 | 0.3642773 | 0.3713278 | 0.2624363 | 0.2953388 | 0.3153153 | 0.3145319 | 0.4473169 | 0.4394830 | 0.2871132 |\n",
       "| 19176 | 0.5417156 | 0.4766941 | 0.5327066 | 0.5056796 | 0.3482178 | 0.0000000 | 0.4089307 | 0.2902468 | 0.4296906 | 0.2784959 | ⋯ | 0.4696436 | 0.4277321 | 0.3936545 | 0.3313749 | 0.3748531 | 0.3807286 | 0.2800627 | 0.3352918 | 0.4363494 | 0.3180572 |\n",
       "\n"
      ],
      "text/plain": [
       "      19336     19432     19499     19398     19394     19176     19356    \n",
       "19336 0.0000000 0.5538582 0.6976107 0.5393655 0.4786526 0.5417156 0.5934195\n",
       "19432 0.5538582 0.0000000 0.3975715 0.2906385 0.3309832 0.4766941 0.3063063\n",
       "19499 0.6976107 0.3975715 0.0000000 0.3490012 0.4010967 0.5327066 0.3556600\n",
       "19398 0.5393655 0.2906385 0.3490012 0.0000000 0.2667450 0.5056796 0.2781042\n",
       "19394 0.4786526 0.3309832 0.4010967 0.2667450 0.0000000 0.3482178 0.2612613\n",
       "19176 0.5417156 0.4766941 0.5327066 0.5056796 0.3482178 0.0000000 0.4089307\n",
       "      19323     19181     19312     ⋯ 19927     19821     19985     20007    \n",
       "19336 0.5910693 0.4563259 0.4810027 ⋯ 0.5115550 0.5660008 0.6263220 0.4923619\n",
       "19432 0.5174305 0.4422248 0.4911868 ⋯ 0.5182139 0.4567176 0.5252644 0.4363494\n",
       "19499 0.5667842 0.5522914 0.4759107 ⋯ 0.5746181 0.5189973 0.5311398 0.5280063\n",
       "19398 0.5558167 0.4719937 0.4857031 ⋯ 0.4727771 0.4516255 0.5084215 0.4300823\n",
       "19394 0.3960047 0.4406580 0.3415590 ⋯ 0.3846455 0.3642773 0.3713278 0.2624363\n",
       "19176 0.2902468 0.4296906 0.2784959 ⋯ 0.4696436 0.4277321 0.3936545 0.3313749\n",
       "      19868     19908     19260     19136     19814     19947    \n",
       "19336 0.5491579 0.4414414 0.4586761 0.5851939 0.6799843 0.5205640\n",
       "19432 0.4038386 0.4508421 0.4943204 0.4296906 0.5001958 0.4770858\n",
       "19499 0.4853114 0.4786526 0.5726596 0.5150803 0.5127301 0.4907951\n",
       "19398 0.3893459 0.4191148 0.5111633 0.4853114 0.4998042 0.4226400\n",
       "19394 0.2953388 0.3153153 0.3145319 0.4473169 0.4394830 0.2871132\n",
       "19176 0.3748531 0.3807286 0.2800627 0.3352918 0.4363494 0.3180572"
      ]
     },
     "metadata": {},
     "output_type": "display_data"
    }
   ],
   "source": [
    "head(braycurtis_dis)"
   ]
  },
  {
   "cell_type": "code",
   "execution_count": 8,
   "metadata": {
    "ExecuteTime": {
     "end_time": "2020-11-13T11:31:18.569717Z",
     "start_time": "2020-11-13T11:31:57.486Z"
    }
   },
   "outputs": [
    {
     "data": {
      "text/html": [
       "<table>\n",
       "<caption>A data.frame: 6 × 599</caption>\n",
       "<thead>\n",
       "\t<tr><th></th><th scope=col>19336</th><th scope=col>19432</th><th scope=col>19499</th><th scope=col>19398</th><th scope=col>19394</th><th scope=col>19176</th><th scope=col>19356</th><th scope=col>19323</th><th scope=col>19181</th><th scope=col>19312</th><th scope=col>⋯</th><th scope=col>19927</th><th scope=col>19821</th><th scope=col>19985</th><th scope=col>20007</th><th scope=col>19868</th><th scope=col>19908</th><th scope=col>19260</th><th scope=col>19136</th><th scope=col>19814</th><th scope=col>19947</th></tr>\n",
       "\t<tr><th></th><th scope=col>&lt;dbl&gt;</th><th scope=col>&lt;dbl&gt;</th><th scope=col>&lt;dbl&gt;</th><th scope=col>&lt;dbl&gt;</th><th scope=col>&lt;dbl&gt;</th><th scope=col>&lt;dbl&gt;</th><th scope=col>&lt;dbl&gt;</th><th scope=col>&lt;dbl&gt;</th><th scope=col>&lt;dbl&gt;</th><th scope=col>&lt;dbl&gt;</th><th scope=col>⋯</th><th scope=col>&lt;dbl&gt;</th><th scope=col>&lt;dbl&gt;</th><th scope=col>&lt;dbl&gt;</th><th scope=col>&lt;dbl&gt;</th><th scope=col>&lt;dbl&gt;</th><th scope=col>&lt;dbl&gt;</th><th scope=col>&lt;dbl&gt;</th><th scope=col>&lt;dbl&gt;</th><th scope=col>&lt;dbl&gt;</th><th scope=col>&lt;dbl&gt;</th></tr>\n",
       "</thead>\n",
       "<tbody>\n",
       "\t<tr><th scope=row>19336</th><td>  0.00000</td><td>109.9464</td><td>124.7135</td><td>122.53124</td><td>107.09942</td><td> 92.75818</td><td>121.7982</td><td> 89.18228</td><td> 90.54437</td><td> 80.14831</td><td>⋯</td><td>145.0691</td><td>101.2884</td><td>100.1384</td><td>109.8166</td><td>110.8916</td><td>107.6890</td><td> 76.47990</td><td>109.24159</td><td>103.2956</td><td> 90.66771</td></tr>\n",
       "\t<tr><th scope=row>19432</th><td>109.94638</td><td>  0.0000</td><td>120.4986</td><td>116.72963</td><td>108.86965</td><td>122.50503</td><td>112.9581</td><td>127.92019</td><td>133.98530</td><td>121.76566</td><td>⋯</td><td>164.0839</td><td>131.0742</td><td>131.5997</td><td>139.8592</td><td>135.5408</td><td>140.9497</td><td>121.25923</td><td>125.21562</td><td>128.7007</td><td>124.48176</td></tr>\n",
       "\t<tr><th scope=row>19499</th><td>124.71352</td><td>120.4986</td><td>  0.0000</td><td>105.77223</td><td>101.38133</td><td>139.49486</td><td>100.2456</td><td>146.51363</td><td>140.25169</td><td>133.29387</td><td>⋯</td><td>173.8975</td><td>143.0789</td><td>140.8497</td><td>158.3759</td><td>153.2253</td><td>141.1362</td><td>134.06638</td><td>158.47321</td><td>144.4153</td><td>135.26582</td></tr>\n",
       "\t<tr><th scope=row>19398</th><td>122.53124</td><td>116.7296</td><td>105.7722</td><td>  0.00000</td><td> 92.72027</td><td>143.16624</td><td>108.3755</td><td>139.17204</td><td>140.32684</td><td>132.95512</td><td>⋯</td><td>163.8521</td><td>133.6279</td><td>133.9754</td><td>141.7553</td><td>146.3564</td><td>138.6005</td><td>132.12592</td><td>151.10240</td><td>125.4710</td><td>131.82034</td></tr>\n",
       "\t<tr><th scope=row>19394</th><td>107.09942</td><td>108.8696</td><td>101.3813</td><td> 92.72027</td><td>  0.00000</td><td>138.03403</td><td>104.1767</td><td>125.12195</td><td>127.69631</td><td>123.59887</td><td>⋯</td><td>162.6378</td><td>124.8350</td><td>128.8533</td><td>133.0897</td><td>136.8427</td><td>130.4530</td><td>122.02841</td><td>142.46039</td><td>122.9281</td><td>122.05542</td></tr>\n",
       "\t<tr><th scope=row>19176</th><td> 92.75818</td><td>122.5050</td><td>139.4949</td><td>143.16624</td><td>138.03403</td><td>  0.00000</td><td>135.7862</td><td> 86.61319</td><td>118.13184</td><td> 86.54682</td><td>⋯</td><td>157.6657</td><td>123.4370</td><td>117.6251</td><td>132.3621</td><td>135.0192</td><td>126.9663</td><td> 82.85877</td><td> 93.34749</td><td>122.1217</td><td>108.71984</td></tr>\n",
       "</tbody>\n",
       "</table>\n"
      ],
      "text/latex": [
       "A data.frame: 6 × 599\n",
       "\\begin{tabular}{r|lllllllllllllllllllll}\n",
       "  & 19336 & 19432 & 19499 & 19398 & 19394 & 19176 & 19356 & 19323 & 19181 & 19312 & ⋯ & 19927 & 19821 & 19985 & 20007 & 19868 & 19908 & 19260 & 19136 & 19814 & 19947\\\\\n",
       "  & <dbl> & <dbl> & <dbl> & <dbl> & <dbl> & <dbl> & <dbl> & <dbl> & <dbl> & <dbl> & ⋯ & <dbl> & <dbl> & <dbl> & <dbl> & <dbl> & <dbl> & <dbl> & <dbl> & <dbl> & <dbl>\\\\\n",
       "\\hline\n",
       "\t19336 &   0.00000 & 109.9464 & 124.7135 & 122.53124 & 107.09942 &  92.75818 & 121.7982 &  89.18228 &  90.54437 &  80.14831 & ⋯ & 145.0691 & 101.2884 & 100.1384 & 109.8166 & 110.8916 & 107.6890 &  76.47990 & 109.24159 & 103.2956 &  90.66771\\\\\n",
       "\t19432 & 109.94638 &   0.0000 & 120.4986 & 116.72963 & 108.86965 & 122.50503 & 112.9581 & 127.92019 & 133.98530 & 121.76566 & ⋯ & 164.0839 & 131.0742 & 131.5997 & 139.8592 & 135.5408 & 140.9497 & 121.25923 & 125.21562 & 128.7007 & 124.48176\\\\\n",
       "\t19499 & 124.71352 & 120.4986 &   0.0000 & 105.77223 & 101.38133 & 139.49486 & 100.2456 & 146.51363 & 140.25169 & 133.29387 & ⋯ & 173.8975 & 143.0789 & 140.8497 & 158.3759 & 153.2253 & 141.1362 & 134.06638 & 158.47321 & 144.4153 & 135.26582\\\\\n",
       "\t19398 & 122.53124 & 116.7296 & 105.7722 &   0.00000 &  92.72027 & 143.16624 & 108.3755 & 139.17204 & 140.32684 & 132.95512 & ⋯ & 163.8521 & 133.6279 & 133.9754 & 141.7553 & 146.3564 & 138.6005 & 132.12592 & 151.10240 & 125.4710 & 131.82034\\\\\n",
       "\t19394 & 107.09942 & 108.8696 & 101.3813 &  92.72027 &   0.00000 & 138.03403 & 104.1767 & 125.12195 & 127.69631 & 123.59887 & ⋯ & 162.6378 & 124.8350 & 128.8533 & 133.0897 & 136.8427 & 130.4530 & 122.02841 & 142.46039 & 122.9281 & 122.05542\\\\\n",
       "\t19176 &  92.75818 & 122.5050 & 139.4949 & 143.16624 & 138.03403 &   0.00000 & 135.7862 &  86.61319 & 118.13184 &  86.54682 & ⋯ & 157.6657 & 123.4370 & 117.6251 & 132.3621 & 135.0192 & 126.9663 &  82.85877 &  93.34749 & 122.1217 & 108.71984\\\\\n",
       "\\end{tabular}\n"
      ],
      "text/markdown": [
       "\n",
       "A data.frame: 6 × 599\n",
       "\n",
       "| <!--/--> | 19336 &lt;dbl&gt; | 19432 &lt;dbl&gt; | 19499 &lt;dbl&gt; | 19398 &lt;dbl&gt; | 19394 &lt;dbl&gt; | 19176 &lt;dbl&gt; | 19356 &lt;dbl&gt; | 19323 &lt;dbl&gt; | 19181 &lt;dbl&gt; | 19312 &lt;dbl&gt; | ⋯ ⋯ | 19927 &lt;dbl&gt; | 19821 &lt;dbl&gt; | 19985 &lt;dbl&gt; | 20007 &lt;dbl&gt; | 19868 &lt;dbl&gt; | 19908 &lt;dbl&gt; | 19260 &lt;dbl&gt; | 19136 &lt;dbl&gt; | 19814 &lt;dbl&gt; | 19947 &lt;dbl&gt; |\n",
       "|---|---|---|---|---|---|---|---|---|---|---|---|---|---|---|---|---|---|---|---|---|---|\n",
       "| 19336 |   0.00000 | 109.9464 | 124.7135 | 122.53124 | 107.09942 |  92.75818 | 121.7982 |  89.18228 |  90.54437 |  80.14831 | ⋯ | 145.0691 | 101.2884 | 100.1384 | 109.8166 | 110.8916 | 107.6890 |  76.47990 | 109.24159 | 103.2956 |  90.66771 |\n",
       "| 19432 | 109.94638 |   0.0000 | 120.4986 | 116.72963 | 108.86965 | 122.50503 | 112.9581 | 127.92019 | 133.98530 | 121.76566 | ⋯ | 164.0839 | 131.0742 | 131.5997 | 139.8592 | 135.5408 | 140.9497 | 121.25923 | 125.21562 | 128.7007 | 124.48176 |\n",
       "| 19499 | 124.71352 | 120.4986 |   0.0000 | 105.77223 | 101.38133 | 139.49486 | 100.2456 | 146.51363 | 140.25169 | 133.29387 | ⋯ | 173.8975 | 143.0789 | 140.8497 | 158.3759 | 153.2253 | 141.1362 | 134.06638 | 158.47321 | 144.4153 | 135.26582 |\n",
       "| 19398 | 122.53124 | 116.7296 | 105.7722 |   0.00000 |  92.72027 | 143.16624 | 108.3755 | 139.17204 | 140.32684 | 132.95512 | ⋯ | 163.8521 | 133.6279 | 133.9754 | 141.7553 | 146.3564 | 138.6005 | 132.12592 | 151.10240 | 125.4710 | 131.82034 |\n",
       "| 19394 | 107.09942 | 108.8696 | 101.3813 |  92.72027 |   0.00000 | 138.03403 | 104.1767 | 125.12195 | 127.69631 | 123.59887 | ⋯ | 162.6378 | 124.8350 | 128.8533 | 133.0897 | 136.8427 | 130.4530 | 122.02841 | 142.46039 | 122.9281 | 122.05542 |\n",
       "| 19176 |  92.75818 | 122.5050 | 139.4949 | 143.16624 | 138.03403 |   0.00000 | 135.7862 |  86.61319 | 118.13184 |  86.54682 | ⋯ | 157.6657 | 123.4370 | 117.6251 | 132.3621 | 135.0192 | 126.9663 |  82.85877 |  93.34749 | 122.1217 | 108.71984 |\n",
       "\n"
      ],
      "text/plain": [
       "      19336     19432    19499    19398     19394     19176     19356   \n",
       "19336   0.00000 109.9464 124.7135 122.53124 107.09942  92.75818 121.7982\n",
       "19432 109.94638   0.0000 120.4986 116.72963 108.86965 122.50503 112.9581\n",
       "19499 124.71352 120.4986   0.0000 105.77223 101.38133 139.49486 100.2456\n",
       "19398 122.53124 116.7296 105.7722   0.00000  92.72027 143.16624 108.3755\n",
       "19394 107.09942 108.8696 101.3813  92.72027   0.00000 138.03403 104.1767\n",
       "19176  92.75818 122.5050 139.4949 143.16624 138.03403   0.00000 135.7862\n",
       "      19323     19181     19312     ⋯ 19927    19821    19985    20007   \n",
       "19336  89.18228  90.54437  80.14831 ⋯ 145.0691 101.2884 100.1384 109.8166\n",
       "19432 127.92019 133.98530 121.76566 ⋯ 164.0839 131.0742 131.5997 139.8592\n",
       "19499 146.51363 140.25169 133.29387 ⋯ 173.8975 143.0789 140.8497 158.3759\n",
       "19398 139.17204 140.32684 132.95512 ⋯ 163.8521 133.6279 133.9754 141.7553\n",
       "19394 125.12195 127.69631 123.59887 ⋯ 162.6378 124.8350 128.8533 133.0897\n",
       "19176  86.61319 118.13184  86.54682 ⋯ 157.6657 123.4370 117.6251 132.3621\n",
       "      19868    19908    19260     19136     19814    19947    \n",
       "19336 110.8916 107.6890  76.47990 109.24159 103.2956  90.66771\n",
       "19432 135.5408 140.9497 121.25923 125.21562 128.7007 124.48176\n",
       "19499 153.2253 141.1362 134.06638 158.47321 144.4153 135.26582\n",
       "19398 146.3564 138.6005 132.12592 151.10240 125.4710 131.82034\n",
       "19394 136.8427 130.4530 122.02841 142.46039 122.9281 122.05542\n",
       "19176 135.0192 126.9663  82.85877  93.34749 122.1217 108.71984"
      ]
     },
     "metadata": {},
     "output_type": "display_data"
    }
   ],
   "source": [
    "# read canberra distance-matrix file\n",
    "canberra_dis <- read.csv('canberra-distance-matrix.qza-unzip/data/distance-matrix.tsv',sep='\\t',row.names = 1)\n",
    "colnames(canberra_dis) <- row.names(canberra_dis)\n",
    "head(canberra_dis)"
   ]
  },
  {
   "cell_type": "code",
   "execution_count": 9,
   "metadata": {
    "ExecuteTime": {
     "end_time": "2020-11-13T11:31:26.299741Z",
     "start_time": "2020-11-13T11:32:05.598Z"
    }
   },
   "outputs": [],
   "source": [
    "#all(colnames(canberra_dis)==colnames(braycurtis_dis))"
   ]
  },
  {
   "cell_type": "code",
   "execution_count": 10,
   "metadata": {
    "ExecuteTime": {
     "end_time": "2020-11-13T11:31:30.976347Z",
     "start_time": "2020-11-13T11:32:10.261Z"
    }
   },
   "outputs": [
    {
     "data": {
      "text/html": [
       "<style>\n",
       ".list-inline {list-style: none; margin:0; padding: 0}\n",
       ".list-inline>li {display: inline-block}\n",
       ".list-inline>li:not(:last-child)::after {content: \"\\00b7\"; padding: 0 .5ex}\n",
       "</style>\n",
       "<ol class=list-inline><li>599</li><li>39</li></ol>\n"
      ],
      "text/latex": [
       "\\begin{enumerate*}\n",
       "\\item 599\n",
       "\\item 39\n",
       "\\end{enumerate*}\n"
      ],
      "text/markdown": [
       "1. 599\n",
       "2. 39\n",
       "\n",
       "\n"
      ],
      "text/plain": [
       "[1] 599  39"
      ]
     },
     "metadata": {},
     "output_type": "display_data"
    }
   ],
   "source": [
    "md <- md[row.names(braycurtis_dis),]\n",
    "dim(md)"
   ]
  },
  {
   "cell_type": "markdown",
   "metadata": {},
   "source": [
    "# all samples"
   ]
  },
  {
   "cell_type": "code",
   "execution_count": 11,
   "metadata": {
    "ExecuteTime": {
     "end_time": "2020-11-13T11:31:34.594022Z",
     "start_time": "2020-11-13T11:32:13.865Z"
    }
   },
   "outputs": [],
   "source": [
    "# log-transform Bray-Curtis dissimilarities\n",
    "bray_dis <- as.dist(braycurtis_dis)\n",
    "bray_dis <- log(bray_dis)"
   ]
  },
  {
   "cell_type": "code",
   "execution_count": 12,
   "metadata": {
    "ExecuteTime": {
     "end_time": "2020-11-13T11:31:35.746800Z",
     "start_time": "2020-11-13T11:32:14.626Z"
    }
   },
   "outputs": [],
   "source": [
    "# compute individual predictors's distances (Gower for nonnumeric and Euclidean for numeric)\n",
    "day_dis <- daisy(md['Day'],metric = \"euclidean\")\n",
    "brush_dis <- daisy(md['Brush'],metric = \"gower\")\n",
    "sleep_dis <- daisy(md['Sleep'],metric = \"gower\")\n",
    "eat_dis <- daisy(md['Eat'],metric = \"gower\")\n",
    "exercise_dis <- daisy(md['Exercise'],metric = \"gower\")\n",
    "host_dis <- daisy(md['Host_ID'],metric='gower')"
   ]
  },
  {
   "cell_type": "code",
   "execution_count": 13,
   "metadata": {
    "ExecuteTime": {
     "end_time": "2020-11-13T11:31:36.341165Z",
     "start_time": "2020-11-13T11:32:15.521Z"
    }
   },
   "outputs": [],
   "source": [
    "#multiple regression on log-transformed Bray-Curtis dissimilarities\n",
    "lm_fit <- lm(bray_dis ~ host_dis + day_dis + brush_dis + sleep_dis + eat_dis + exercise_dis)"
   ]
  },
  {
   "cell_type": "code",
   "execution_count": 14,
   "metadata": {
    "ExecuteTime": {
     "end_time": "2020-11-13T11:31:37.286861Z",
     "start_time": "2020-11-13T11:32:16.344Z"
    }
   },
   "outputs": [
    {
     "data": {
      "text/plain": [
       "\n",
       "Call:\n",
       "lm(formula = bray_dis ~ host_dis + day_dis + brush_dis + sleep_dis + \n",
       "    eat_dis + exercise_dis)\n",
       "\n",
       "Residuals:\n",
       "     Min       1Q   Median       3Q      Max \n",
       "-1.47503 -0.14272  0.00839  0.15395  0.88728 \n",
       "\n",
       "Coefficients:\n",
       "               Estimate Std. Error  t value Pr(>|t|)    \n",
       "(Intercept)  -1.1550601  0.0012670 -911.656   <2e-16 ***\n",
       "host_dis      0.2862573  0.0011657  245.574   <2e-16 ***\n",
       "day_dis       0.0166295  0.0004057   40.991   <2e-16 ***\n",
       "brush_dis    -0.0460004  0.0031225  -14.732   <2e-16 ***\n",
       "sleep_dis     0.0432199  0.0016440   26.290   <2e-16 ***\n",
       "eat_dis       0.1225875  0.0013596   90.165   <2e-16 ***\n",
       "exercise_dis  0.0002275  0.0022971    0.099    0.921    \n",
       "---\n",
       "Signif. codes:  0 ‘***’ 0.001 ‘**’ 0.01 ‘*’ 0.05 ‘.’ 0.1 ‘ ’ 1\n",
       "\n",
       "Residual standard error: 0.2329 on 179094 degrees of freedom\n",
       "Multiple R-squared:  0.2854,\tAdjusted R-squared:  0.2853 \n",
       "F-statistic: 1.192e+04 on 6 and 179094 DF,  p-value: < 2.2e-16\n"
      ]
     },
     "metadata": {},
     "output_type": "display_data"
    }
   ],
   "source": [
    "summary(lm_fit)"
   ]
  },
  {
   "cell_type": "code",
   "execution_count": 15,
   "metadata": {
    "ExecuteTime": {
     "end_time": "2020-11-13T11:31:40.950960Z",
     "start_time": "2020-11-13T11:32:18.654Z"
    }
   },
   "outputs": [
    {
     "data": {
      "text/plain": [
       "Response variable: bray_dis \n",
       "Total response variance: 0.07590439 \n",
       "Analysis based on 179101 observations \n",
       "\n",
       "6 Regressors: \n",
       "host_dis day_dis brush_dis sleep_dis eat_dis exercise_dis \n",
       "Proportion of variance explained by model: 28.54%\n",
       "Metrics are not normalized (rela=FALSE). \n",
       "\n",
       "Relative importance metrics: \n",
       "\n",
       "                      lmg\n",
       "host_dis     2.423164e-01\n",
       "day_dis      6.644623e-03\n",
       "brush_dis    7.541151e-04\n",
       "sleep_dis    2.045350e-03\n",
       "eat_dis      3.354039e-02\n",
       "exercise_dis 6.943311e-05\n",
       "\n",
       "Average coefficients for different model sizes: \n",
       "\n",
       "                      1X         2Xs         3Xs          4Xs          5Xs\n",
       "host_dis      0.28814816  0.28779238  0.28742671  0.287049861  0.286660494\n",
       "day_dis       0.01648998  0.01650888  0.01653207  0.016559794  0.016592223\n",
       "brush_dis    -0.03961309 -0.04039352 -0.04142904 -0.042713434 -0.044239772\n",
       "sleep_dis     0.02942110  0.03226934  0.03507800  0.037842293  0.040557688\n",
       "eat_dis       0.12606390  0.12533566  0.12462619  0.123933236  0.123254478\n",
       "exercise_dis -0.01407067 -0.01131275 -0.00849417 -0.005624773 -0.002714318\n",
       "                     6Xs\n",
       "host_dis      0.28625725\n",
       "day_dis       0.01662947\n",
       "brush_dis    -0.04600043\n",
       "sleep_dis     0.04321995\n",
       "eat_dis       0.12258753\n",
       "exercise_dis  0.00022753"
      ]
     },
     "metadata": {},
     "output_type": "display_data"
    }
   ],
   "source": [
    "cr <- calc.relimp(lm_fit,type='lmg')\n",
    "cr"
   ]
  },
  {
   "cell_type": "code",
   "execution_count": 16,
   "metadata": {
    "ExecuteTime": {
     "end_time": "2020-11-13T11:31:41.095506Z",
     "start_time": "2020-11-13T11:32:19.545Z"
    }
   },
   "outputs": [
    {
     "data": {
      "image/png": "[encoded data removed]",
      "text/plain": [
       "Plot with title “Relative importances for bray_dis”"
      ]
     },
     "metadata": {
      "image/png": {
       "height": 420,
       "width": 420
      }
     },
     "output_type": "display_data"
    }
   ],
   "source": [
    "plot(cr)"
   ]
  },
  {
   "cell_type": "code",
   "execution_count": 17,
   "metadata": {},
   "outputs": [
    {
     "data": {
      "text/html": [
       "<table>\n",
       "<caption>A data.frame: 6 × 3</caption>\n",
       "<thead>\n",
       "\t<tr><th></th><th scope=col>effect_size</th><th scope=col>effectsize</th><th scope=col>events</th></tr>\n",
       "\t<tr><th></th><th scope=col>&lt;dbl&gt;</th><th scope=col>&lt;dbl&gt;</th><th scope=col>&lt;fct&gt;</th></tr>\n",
       "</thead>\n",
       "<tbody>\n",
       "\t<tr><th scope=row>host_dis</th><td>2.423164e-01</td><td>24.232</td><td>host_id </td></tr>\n",
       "\t<tr><th scope=row>day_dis</th><td>6.644623e-03</td><td> 0.664</td><td>day     </td></tr>\n",
       "\t<tr><th scope=row>brush_dis</th><td>7.541151e-04</td><td> 0.075</td><td>brush   </td></tr>\n",
       "\t<tr><th scope=row>sleep_dis</th><td>2.045350e-03</td><td> 0.205</td><td>sleep   </td></tr>\n",
       "\t<tr><th scope=row>eat_dis</th><td>3.354039e-02</td><td> 3.354</td><td>eat     </td></tr>\n",
       "\t<tr><th scope=row>exercise_dis</th><td>6.943311e-05</td><td> 0.007</td><td>exercise</td></tr>\n",
       "</tbody>\n",
       "</table>\n"
      ],
      "text/latex": [
       "A data.frame: 6 × 3\n",
       "\\begin{tabular}{r|lll}\n",
       "  & effect\\_size & effectsize & events\\\\\n",
       "  & <dbl> & <dbl> & <fct>\\\\\n",
       "\\hline\n",
       "\thost\\_dis & 2.423164e-01 & 24.232 & host\\_id \\\\\n",
       "\tday\\_dis & 6.644623e-03 &  0.664 & day     \\\\\n",
       "\tbrush\\_dis & 7.541151e-04 &  0.075 & brush   \\\\\n",
       "\tsleep\\_dis & 2.045350e-03 &  0.205 & sleep   \\\\\n",
       "\teat\\_dis & 3.354039e-02 &  3.354 & eat     \\\\\n",
       "\texercise\\_dis & 6.943311e-05 &  0.007 & exercise\\\\\n",
       "\\end{tabular}\n"
      ],
      "text/markdown": [
       "\n",
       "A data.frame: 6 × 3\n",
       "\n",
       "| <!--/--> | effect_size &lt;dbl&gt; | effectsize &lt;dbl&gt; | events &lt;fct&gt; |\n",
       "|---|---|---|---|\n",
       "| host_dis | 2.423164e-01 | 24.232 | host_id  |\n",
       "| day_dis | 6.644623e-03 |  0.664 | day      |\n",
       "| brush_dis | 7.541151e-04 |  0.075 | brush    |\n",
       "| sleep_dis | 2.045350e-03 |  0.205 | sleep    |\n",
       "| eat_dis | 3.354039e-02 |  3.354 | eat      |\n",
       "| exercise_dis | 6.943311e-05 |  0.007 | exercise |\n",
       "\n"
      ],
      "text/plain": [
       "             effect_size  effectsize events  \n",
       "host_dis     2.423164e-01 24.232     host_id \n",
       "day_dis      6.644623e-03  0.664     day     \n",
       "brush_dis    7.541151e-04  0.075     brush   \n",
       "sleep_dis    2.045350e-03  0.205     sleep   \n",
       "eat_dis      3.354039e-02  3.354     eat     \n",
       "exercise_dis 6.943311e-05  0.007     exercise"
      ]
     },
     "metadata": {},
     "output_type": "display_data"
    }
   ],
   "source": [
    "# for plotting\n",
    "res=as.data.frame(cr$lmg)\n",
    "names(res)='effect_size'\n",
    "res$effectsize<- round(res$effect_size,5)*100\n",
    "\n",
    "res$events=c('host_id','day','brush','sleep','eat','exercise')\n",
    "\n",
    "res$events=factor(res$events,levels=c('host_id','eat','brush','sleep','exercise','day')) # order for plot\n",
    "\n",
    "res"
   ]
  },
  {
   "cell_type": "code",
   "execution_count": 18,
   "metadata": {},
   "outputs": [
    {
     "name": "stderr",
     "output_type": "stream",
     "text": [
      "Warning message:\n",
      "“`guides(<scale> = FALSE)` is deprecated. Please use `guides(<scale> = \"none\")` instead.”\n"
     ]
    },
    {
     "data": {
      "image/png": "[encoded data removed]",
      "text/plain": [
       "plot without title"
      ]
     },
     "metadata": {
      "image/png": {
       "height": 420,
       "width": 420
      }
     },
     "output_type": "display_data"
    }
   ],
   "source": [
    "ggplot(data = res, aes(x = events, y =effectsize,fill='white')) + \n",
    "geom_bar(stat = \"identity\", position = 'dodge',colour = 'black')+ \n",
    "theme_bw()+\n",
    "geom_text(aes(label = effectsize), position = position_dodge(0.9),vjust =-1, size = 3)+\n",
    "labs(y = \"% of response variance\",title = \"Relative importances for canberra distance\")+\n",
    "theme(axis.text.x = element_text(angle = 0, hjust = 0.5), \n",
    "        panel.grid = element_blank(), \n",
    "        axis.text = element_text(size = 10,colour = 'black'), \n",
    "        axis.title = element_text(size = 10),\n",
    "        plot.title = element_text(size = 11,hjust = 0.5),\n",
    "     plot.margin=unit(rep(2,4),'lines'))+ \n",
    "ylim(0,25)+guides(fill=FALSE)+scale_fill_manual(values=\"white\")"
   ]
  },
  {
   "cell_type": "markdown",
   "metadata": {},
   "source": [
    "**------end------**"
   ]
  },
  {
   "cell_type": "markdown",
   "metadata": {},
   "source": [
    "后面的代码都是一样的,请忽略"
   ]
  },
  {
   "cell_type": "code",
   "execution_count": 20,
   "metadata": {},
   "outputs": [],
   "source": [
    "# based on canberra distance\n",
    "#换个distance做同样的计算"
   ]
  },
  {
   "cell_type": "code",
   "execution_count": 19,
   "metadata": {
    "ExecuteTime": {
     "end_time": "2020-11-13T11:31:46.903639Z",
     "start_time": "2020-11-13T11:32:26.193Z"
    }
   },
   "outputs": [],
   "source": [
    "# log-transform canberra dissimilarities\n",
    "canberra_dist<-as.dist(canberra_dis)\n",
    "canberra_dist<-log(canberra_dist)"
   ]
  },
  {
   "cell_type": "code",
   "execution_count": 20,
   "metadata": {
    "ExecuteTime": {
     "end_time": "2020-11-13T11:31:48.099950Z",
     "start_time": "2020-11-13T11:32:27.294Z"
    }
   },
   "outputs": [
    {
     "data": {
      "text/plain": [
       "\n",
       "Call:\n",
       "lm(formula = canberra_dist ~ host_dis + day_dis + brush_dis + \n",
       "    sleep_dis + eat_dis + exercise_dis)\n",
       "\n",
       "Coefficients:\n",
       " (Intercept)      host_dis       day_dis     brush_dis     sleep_dis  \n",
       "    4.494387      0.285935      0.004748      0.032304     -0.008451  \n",
       "     eat_dis  exercise_dis  \n",
       "    0.134343      0.015065  \n"
      ]
     },
     "metadata": {},
     "output_type": "display_data"
    }
   ],
   "source": [
    "lm_fit <- lm(canberra_dist ~ host_dis+day_dis+ brush_dis + sleep_dis + eat_dis + exercise_dis)\n",
    "lm_fit"
   ]
  },
  {
   "cell_type": "code",
   "execution_count": 21,
   "metadata": {
    "ExecuteTime": {
     "end_time": "2020-11-13T11:31:52.640138Z",
     "start_time": "2020-11-13T11:32:31.714Z"
    }
   },
   "outputs": [
    {
     "data": {
      "text/plain": [
       "\n",
       "Call:\n",
       "lm(formula = canberra_dist ~ host_dis + day_dis + brush_dis + \n",
       "    sleep_dis + eat_dis + exercise_dis)\n",
       "\n",
       "Residuals:\n",
       "     Min       1Q   Median       3Q      Max \n",
       "-0.93237 -0.10780  0.00687  0.11481  0.60940 \n",
       "\n",
       "Coefficients:\n",
       "               Estimate Std. Error  t value Pr(>|t|)    \n",
       "(Intercept)   4.4943873  0.0008886 5058.015  < 2e-16 ***\n",
       "host_dis      0.2859348  0.0008175  349.765  < 2e-16 ***\n",
       "day_dis       0.0047479  0.0002845   16.688  < 2e-16 ***\n",
       "brush_dis     0.0323042  0.0021899   14.751  < 2e-16 ***\n",
       "sleep_dis    -0.0084512  0.0011530   -7.330 2.31e-13 ***\n",
       "eat_dis       0.1343426  0.0009535  140.893  < 2e-16 ***\n",
       "exercise_dis  0.0150649  0.0016110    9.351  < 2e-16 ***\n",
       "---\n",
       "Signif. codes:  0 ‘***’ 0.001 ‘**’ 0.01 ‘*’ 0.05 ‘.’ 0.1 ‘ ’ 1\n",
       "\n",
       "Residual standard error: 0.1633 on 179094 degrees of freedom\n",
       "Multiple R-squared:  0.4469,\tAdjusted R-squared:  0.4469 \n",
       "F-statistic: 2.412e+04 on 6 and 179094 DF,  p-value: < 2.2e-16\n"
      ]
     },
     "metadata": {},
     "output_type": "display_data"
    }
   ],
   "source": [
    "summary(lm_fit)"
   ]
  },
  {
   "cell_type": "code",
   "execution_count": 22,
   "metadata": {
    "ExecuteTime": {
     "end_time": "2020-11-13T11:32:00.319323Z",
     "start_time": "2020-11-13T11:32:38.237Z"
    }
   },
   "outputs": [
    {
     "data": {
      "text/plain": [
       "Response variable: canberra_dist \n",
       "Total response variance: 0.04823474 \n",
       "Analysis based on 179101 observations \n",
       "\n",
       "6 Regressors: \n",
       "host_dis day_dis brush_dis sleep_dis eat_dis exercise_dis \n",
       "Proportion of variance explained by model: 44.69%\n",
       "Metrics are not normalized (rela=FALSE). \n",
       "\n",
       "Relative importance metrics: \n",
       "\n",
       "                      lmg\n",
       "host_dis     0.3804415134\n",
       "day_dis      0.0008304438\n",
       "brush_dis    0.0005246182\n",
       "sleep_dis    0.0004880501\n",
       "eat_dis      0.0644471408\n",
       "exercise_dis 0.0001456812\n",
       "\n",
       "Average coefficients for different model sizes: \n",
       "\n",
       "                       1X          2Xs          3Xs          4Xs          5Xs\n",
       "host_dis      0.287837478  0.287462171  0.287085011  0.286705239  0.286322092\n",
       "day_dis       0.004589426  0.004612209  0.004639272  0.004670837  0.004707043\n",
       "brush_dis     0.022972300  0.025455179  0.027626140  0.029488392  0.031046064\n",
       "sleep_dis    -0.017631838 -0.015718354 -0.013838896 -0.011998247 -0.010200926\n",
       "eat_dis       0.140260096  0.139133386  0.137981667  0.136801568  0.135589695\n",
       "exercise_dis  0.002933100  0.005328134  0.007752714  0.010192931  0.012634931\n",
       "                      6Xs\n",
       "host_dis      0.285934798\n",
       "day_dis       0.004747945\n",
       "brush_dis     0.032304169\n",
       "sleep_dis    -0.008451180\n",
       "eat_dis       0.134342617\n",
       "exercise_dis  0.015064921"
      ]
     },
     "metadata": {},
     "output_type": "display_data"
    }
   ],
   "source": [
    "cr <- calc.relimp(lm_fit,type='lmg')\n",
    "cr"
   ]
  },
  {
   "cell_type": "code",
   "execution_count": 23,
   "metadata": {
    "ExecuteTime": {
     "end_time": "2020-11-13T11:32:00.392033Z",
     "start_time": "2020-11-13T11:32:39.350Z"
    }
   },
   "outputs": [
    {
     "data": {
      "image/png": "[encoded data removed]",
      "text/plain": [
       "Plot with title “Relative importances for canberra_dist”"
      ]
     },
     "metadata": {
      "image/png": {
       "height": 420,
       "width": 420
      }
     },
     "output_type": "display_data"
    }
   ],
   "source": [
    "plot(cr)"
   ]
  },
  {
   "cell_type": "code",
   "execution_count": 24,
   "metadata": {
    "ExecuteTime": {
     "end_time": "2020-11-13T11:32:02.822060Z",
     "start_time": "2020-11-13T11:32:42.123Z"
    }
   },
   "outputs": [
    {
     "data": {
      "text/html": [
       "<style>\n",
       ".list-inline {list-style: none; margin:0; padding: 0}\n",
       ".list-inline>li {display: inline-block}\n",
       ".list-inline>li:not(:last-child)::after {content: \"\\00b7\"; padding: 0 .5ex}\n",
       "</style>\n",
       "<ol class=list-inline><li>MA</li><li>MO</li><li>ME</li></ol>\n",
       "\n",
       "<details>\n",
       "\t<summary style=display:list-item;cursor:pointer>\n",
       "\t\t<strong>Levels</strong>:\n",
       "\t</summary>\n",
       "\t<style>\n",
       "\t.list-inline {list-style: none; margin:0; padding: 0}\n",
       "\t.list-inline>li {display: inline-block}\n",
       "\t.list-inline>li:not(:last-child)::after {content: \"\\00b7\"; padding: 0 .5ex}\n",
       "\t</style>\n",
       "\t<ol class=list-inline><li>'MA'</li><li>'ME'</li><li>'MO'</li><li>'MS'</li></ol>\n",
       "</details>"
      ],
      "text/latex": [
       "\\begin{enumerate*}\n",
       "\\item MA\n",
       "\\item MO\n",
       "\\item ME\n",
       "\\end{enumerate*}\n",
       "\n",
       "\\emph{Levels}: \\begin{enumerate*}\n",
       "\\item 'MA'\n",
       "\\item 'ME'\n",
       "\\item 'MO'\n",
       "\\item 'MS'\n",
       "\\end{enumerate*}\n"
      ],
      "text/markdown": [
       "1. MA\n",
       "2. MO\n",
       "3. ME\n",
       "\n",
       "\n",
       "\n",
       "**Levels**: 1. 'MA'\n",
       "2. 'ME'\n",
       "3. 'MO'\n",
       "4. 'MS'\n",
       "\n",
       "\n"
      ],
      "text/plain": [
       "[1] MA MO ME\n",
       "Levels: MA ME MO MS"
      ]
     },
     "metadata": {},
     "output_type": "display_data"
    }
   ],
   "source": [
    "unique(md$Host_ID)"
   ]
  },
  {
   "cell_type": "markdown",
   "metadata": {},
   "source": [
    "# MA"
   ]
  },
  {
   "cell_type": "markdown",
   "metadata": {},
   "source": [
    "计算每个事间对每个宿主微生物变化的variance explained。"
   ]
  },
  {
   "cell_type": "code",
   "execution_count": 23,
   "metadata": {
    "ExecuteTime": {
     "end_time": "2020-11-13T11:32:05.283135Z",
     "start_time": "2020-11-13T11:32:44.582Z"
    }
   },
   "outputs": [
    {
     "data": {
      "text/html": [
       "<style>\n",
       ".list-inline {list-style: none; margin:0; padding: 0}\n",
       ".list-inline>li {display: inline-block}\n",
       ".list-inline>li:not(:last-child)::after {content: \"\\00b7\"; padding: 0 .5ex}\n",
       "</style>\n",
       "<ol class=list-inline><li>207</li><li>39</li></ol>\n"
      ],
      "text/latex": [
       "\\begin{enumerate*}\n",
       "\\item 207\n",
       "\\item 39\n",
       "\\end{enumerate*}\n"
      ],
      "text/markdown": [
       "1. 207\n",
       "2. 39\n",
       "\n",
       "\n"
      ],
      "text/plain": [
       "[1] 207  39"
      ]
     },
     "metadata": {},
     "output_type": "display_data"
    }
   ],
   "source": [
    "# filter metadata\n",
    "MA_md<-md[which(md$Host_ID=='MA'),]\n",
    "dim(MA_md)"
   ]
  },
  {
   "cell_type": "code",
   "execution_count": 24,
   "metadata": {
    "ExecuteTime": {
     "end_time": "2020-11-13T11:32:06.366160Z",
     "start_time": "2020-11-13T11:32:45.662Z"
    }
   },
   "outputs": [],
   "source": [
    "# filter braycurtis-distance\n",
    "bc_dis <- braycurtis_dis[rownames(MA_md),rownames(MA_md)]\n",
    "bc_dis <- as.dist(bc_dis)\n",
    "bc_dis <- log(bc_dis)"
   ]
  },
  {
   "cell_type": "code",
   "execution_count": 25,
   "metadata": {
    "ExecuteTime": {
     "end_time": "2020-11-13T11:32:07.450540Z",
     "start_time": "2020-11-13T11:32:46.746Z"
    }
   },
   "outputs": [],
   "source": [
    "# filter canberra-distance\n",
    "cbr_dis <- canberra_dis[rownames(MA_md),rownames(MA_md)] \n",
    "cbr_dis <- as.dist(cbr_dis)\n",
    "cbr_dis <- log(cbr_dis)"
   ]
  },
  {
   "cell_type": "code",
   "execution_count": 26,
   "metadata": {
    "ExecuteTime": {
     "end_time": "2020-11-13T11:32:08.740426Z",
     "start_time": "2020-11-13T11:32:48.015Z"
    }
   },
   "outputs": [],
   "source": [
    "# distance of predicters\n",
    "day_dis <- daisy(MA_md['Day'],metric = \"euclidean\")\n",
    "brush_dis <- daisy(MA_md['Brush'],metric = \"gower\")\n",
    "sleep_dis <- daisy(MA_md['Sleep'],metric = \"gower\")\n",
    "eat_dis <- daisy(MA_md['Eat'],metric = \"gower\")\n",
    "exercise_dis <- daisy(MA_md['Exercise'],metric = \"gower\")"
   ]
  },
  {
   "cell_type": "code",
   "execution_count": 27,
   "metadata": {
    "ExecuteTime": {
     "end_time": "2020-11-13T11:32:10.014957Z",
     "start_time": "2020-11-13T11:32:49.310Z"
    }
   },
   "outputs": [
    {
     "data": {
      "text/plain": [
       "\n",
       "Call:\n",
       "lm(formula = bc_dis ~ day_dis + brush_dis + sleep_dis + eat_dis + \n",
       "    exercise_dis)\n",
       "\n",
       "Coefficients:\n",
       " (Intercept)       day_dis     brush_dis     sleep_dis       eat_dis  \n",
       "    -1.14043       0.01581      -0.04111       0.05198       0.21136  \n",
       "exercise_dis  \n",
       "    -0.03366  \n"
      ]
     },
     "metadata": {},
     "output_type": "display_data"
    }
   ],
   "source": [
    "#multiple regression on log-transformed Bray-Curtis dissimilarities\n",
    "\n",
    "lm_fit <- lm(bc_dis~day_dis+brush_dis+sleep_dis+eat_dis+exercise_dis)\n",
    "lm_fit"
   ]
  },
  {
   "cell_type": "code",
   "execution_count": 28,
   "metadata": {
    "ExecuteTime": {
     "end_time": "2020-11-13T11:32:10.807155Z",
     "start_time": "2020-11-13T11:32:49.965Z"
    }
   },
   "outputs": [
    {
     "data": {
      "text/plain": [
       "Response variable: bc_dis \n",
       "Total response variance: 0.09540374 \n",
       "Analysis based on 21321 observations \n",
       "\n",
       "5 Regressors: \n",
       "day_dis brush_dis sleep_dis eat_dis exercise_dis \n",
       "Proportion of variance explained by model: 7.44%\n",
       "Metrics are not normalized (rela=FALSE). \n",
       "\n",
       "Relative importance metrics: \n",
       "\n",
       "                      lmg\n",
       "day_dis      0.0050714595\n",
       "brush_dis    0.0003739067\n",
       "sleep_dis    0.0028928835\n",
       "eat_dis      0.0642564520\n",
       "exercise_dis 0.0018527258\n",
       "\n",
       "Average coefficients for different model sizes: \n",
       "\n",
       "                      1X         2Xs         3Xs         4Xs         5Xs\n",
       "day_dis       0.01606061  0.01597975  0.01590777  0.01584879  0.01580643\n",
       "brush_dis    -0.03029060 -0.03162354 -0.03382477 -0.03696237 -0.04110700\n",
       "sleep_dis     0.03345195  0.03804146  0.04266411  0.04731200  0.05197738\n",
       "eat_dis       0.20916348  0.20971604  0.21026019  0.21080455  0.21135728\n",
       "exercise_dis -0.05564205 -0.05063974 -0.04527913 -0.03960604 -0.03366452"
      ]
     },
     "metadata": {},
     "output_type": "display_data"
    }
   ],
   "source": [
    "cr <- calc.relimp(lm_fit,type='lmg')\n",
    "cr"
   ]
  },
  {
   "cell_type": "code",
   "execution_count": 29,
   "metadata": {
    "ExecuteTime": {
     "end_time": "2020-11-13T11:32:11.483579Z",
     "start_time": "2020-11-13T11:32:50.738Z"
    }
   },
   "outputs": [
    {
     "data": {
      "image/png": "[encoded data removed]",
      "text/plain": [
       "Plot with title “Relative importances for bc_dis”"
      ]
     },
     "metadata": {
      "image/png": {
       "height": 420,
       "width": 420
      }
     },
     "output_type": "display_data"
    }
   ],
   "source": [
    "plot(cr)"
   ]
  },
  {
   "cell_type": "code",
   "execution_count": 30,
   "metadata": {
    "ExecuteTime": {
     "end_time": "2020-11-13T11:32:12.858606Z",
     "start_time": "2020-11-13T11:32:52.154Z"
    }
   },
   "outputs": [
    {
     "data": {
      "text/plain": [
       "\n",
       "Call:\n",
       "lm(formula = cbr_dis ~ day_dis + brush_dis + sleep_dis + eat_dis + \n",
       "    exercise_dis)\n",
       "\n",
       "Coefficients:\n",
       " (Intercept)       day_dis     brush_dis     sleep_dis       eat_dis  \n",
       "    4.422546      0.007077      0.105758      0.009741      0.237547  \n",
       "exercise_dis  \n",
       "    0.058631  \n"
      ]
     },
     "metadata": {},
     "output_type": "display_data"
    }
   ],
   "source": [
    "#multiple regression on log-transformed canberra dissimilarities\n",
    "\n",
    "lm_fit<-lm(cbr_dis~day_dis+brush_dis+sleep_dis+eat_dis+exercise_dis)\n",
    "lm_fit"
   ]
  },
  {
   "cell_type": "code",
   "execution_count": 31,
   "metadata": {
    "ExecuteTime": {
     "end_time": "2020-11-13T11:32:13.665114Z",
     "start_time": "2020-11-13T11:32:52.810Z"
    }
   },
   "outputs": [
    {
     "data": {
      "text/plain": [
       "Response variable: cbr_dis \n",
       "Total response variance: 0.03808703 \n",
       "Analysis based on 21321 observations \n",
       "\n",
       "5 Regressors: \n",
       "day_dis brush_dis sleep_dis eat_dis exercise_dis \n",
       "Proportion of variance explained by model: 21.62%\n",
       "Metrics are not normalized (rela=FALSE). \n",
       "\n",
       "Relative importance metrics: \n",
       "\n",
       "                      lmg\n",
       "day_dis      0.0024811782\n",
       "brush_dis    0.0071111588\n",
       "sleep_dis    0.0003744157\n",
       "eat_dis      0.2010967991\n",
       "exercise_dis 0.0051794001\n",
       "\n",
       "Average coefficients for different model sizes: \n",
       "\n",
       "                       1X          2Xs         3Xs         4Xs         5Xs\n",
       "day_dis       0.007013815 0.0070166034 0.007025470 0.007044506 0.007077207\n",
       "brush_dis     0.090059312 0.0961030936 0.100811379 0.104068424 0.105757564\n",
       "sleep_dis    -0.002704744 0.0003023282 0.003385738 0.006535143 0.009740520\n",
       "eat_dis       0.232354715 0.2337567109 0.235099983 0.236368707 0.237547090\n",
       "exercise_dis  0.036895723 0.0420039387 0.047373975 0.052938346 0.058631070"
      ]
     },
     "metadata": {},
     "output_type": "display_data"
    }
   ],
   "source": [
    "cr<-calc.relimp(lm_fit,type='lmg')\n",
    "cr"
   ]
  },
  {
   "cell_type": "code",
   "execution_count": 32,
   "metadata": {
    "ExecuteTime": {
     "end_time": "2020-11-13T11:32:14.247682Z",
     "start_time": "2020-11-13T11:32:53.501Z"
    }
   },
   "outputs": [
    {
     "data": {
      "image/png": "[encoded data removed]",
      "text/plain": [
       "Plot with title “Relative importances for cbr_dis”"
      ]
     },
     "metadata": {
      "image/png": {
       "height": 420,
       "width": 420
      }
     },
     "output_type": "display_data"
    }
   ],
   "source": [
    "plot(cr)"
   ]
  },
  {
   "cell_type": "markdown",
   "metadata": {},
   "source": [
    "# MO"
   ]
  },
  {
   "cell_type": "code",
   "execution_count": 33,
   "metadata": {
    "ExecuteTime": {
     "end_time": "2020-11-13T11:32:16.548527Z",
     "start_time": "2020-11-13T11:32:55.849Z"
    }
   },
   "outputs": [
    {
     "data": {
      "text/html": [
       "<style>\n",
       ".list-inline {list-style: none; margin:0; padding: 0}\n",
       ".list-inline>li {display: inline-block}\n",
       ".list-inline>li:not(:last-child)::after {content: \"\\00b7\"; padding: 0 .5ex}\n",
       "</style>\n",
       "<ol class=list-inline><li>172</li><li>39</li></ol>\n"
      ],
      "text/latex": [
       "\\begin{enumerate*}\n",
       "\\item 172\n",
       "\\item 39\n",
       "\\end{enumerate*}\n"
      ],
      "text/markdown": [
       "1. 172\n",
       "2. 39\n",
       "\n",
       "\n"
      ],
      "text/plain": [
       "[1] 172  39"
      ]
     },
     "metadata": {},
     "output_type": "display_data"
    }
   ],
   "source": [
    "# filter metadata\n",
    "MO_md<-md[which(md$Host_ID=='MO'),]\n",
    "dim(MO_md)"
   ]
  },
  {
   "cell_type": "code",
   "execution_count": 34,
   "metadata": {
    "ExecuteTime": {
     "end_time": "2020-11-13T11:32:17.341375Z",
     "start_time": "2020-11-13T11:32:56.642Z"
    }
   },
   "outputs": [],
   "source": [
    "# filter bc distance\n",
    "bc_dis <- braycurtis_dis[rownames(MO_md),rownames(MO_md)]  # filter distance matrix\n",
    "bc_dis <- as.dist(bc_dis)\n",
    "bc_dis <- log(bc_dis)"
   ]
  },
  {
   "cell_type": "code",
   "execution_count": 35,
   "metadata": {
    "ExecuteTime": {
     "end_time": "2020-11-13T11:32:17.894748Z",
     "start_time": "2020-11-13T11:32:57.194Z"
    }
   },
   "outputs": [],
   "source": [
    "# filter canberra-distance\n",
    "cbr_dis <- canberra_dis[rownames(MO_md),rownames(MO_md)] \n",
    "cbr_dis <- as.dist(cbr_dis)\n",
    "cbr_dis <- log(cbr_dis)"
   ]
  },
  {
   "cell_type": "code",
   "execution_count": 36,
   "metadata": {
    "ExecuteTime": {
     "end_time": "2020-11-13T11:32:18.436102Z",
     "start_time": "2020-11-13T11:32:57.729Z"
    }
   },
   "outputs": [],
   "source": [
    "# distance of predictors\n",
    "day_dis<-daisy(MO_md['Day'],metric = \"euclidean\")\n",
    "brush_dis<-daisy(MO_md['Brush'],metric = \"gower\")\n",
    "sleep_dis<-daisy(MO_md['Sleep'],metric = \"gower\")\n",
    "eat_dis<-daisy(MO_md['Eat'],metric = \"gower\")\n",
    "exercise_dis<-daisy(MO_md['Exercise'],metric = \"gower\")"
   ]
  },
  {
   "cell_type": "code",
   "execution_count": null,
   "metadata": {},
   "outputs": [],
   "source": []
  },
  {
   "cell_type": "code",
   "execution_count": 37,
   "metadata": {
    "ExecuteTime": {
     "end_time": "2020-11-13T11:32:19.836200Z",
     "start_time": "2020-11-13T11:32:59.109Z"
    }
   },
   "outputs": [
    {
     "data": {
      "text/plain": [
       "\n",
       "Call:\n",
       "lm(formula = bc_dis ~ day_dis + brush_dis + sleep_dis + eat_dis + \n",
       "    exercise_dis)\n",
       "\n",
       "Coefficients:\n",
       " (Intercept)       day_dis     brush_dis     sleep_dis       eat_dis  \n",
       "    -1.08442       0.01989      -0.03206       0.13482       0.06900  \n",
       "exercise_dis  \n",
       "    -0.04444  \n"
      ]
     },
     "metadata": {},
     "output_type": "display_data"
    }
   ],
   "source": [
    "#multiple regression on log-transformed Bray-Curtis dissimilarities\n",
    "\n",
    "lm_fit <- lm(bc_dis~day_dis+brush_dis+sleep_dis+eat_dis+exercise_dis)\n",
    "lm_fit"
   ]
  },
  {
   "cell_type": "code",
   "execution_count": 38,
   "metadata": {
    "ExecuteTime": {
     "end_time": "2020-11-13T11:32:20.577849Z",
     "start_time": "2020-11-13T11:32:59.773Z"
    }
   },
   "outputs": [
    {
     "data": {
      "text/plain": [
       "Response variable: bc_dis \n",
       "Total response variance: 0.06125465 \n",
       "Analysis based on 14706 observations \n",
       "\n",
       "5 Regressors: \n",
       "day_dis brush_dis sleep_dis eat_dis exercise_dis \n",
       "Proportion of variance explained by model: 6.01%\n",
       "Metrics are not normalized (rela=FALSE). \n",
       "\n",
       "Relative importance metrics: \n",
       "\n",
       "                      lmg\n",
       "day_dis      0.0115159892\n",
       "brush_dis    0.0005881668\n",
       "sleep_dis    0.0301689046\n",
       "eat_dis      0.0152763940\n",
       "exercise_dis 0.0025885569\n",
       "\n",
       "Average coefficients for different model sizes: \n",
       "\n",
       "                      1X         2Xs         3Xs          4Xs         5Xs\n",
       "day_dis       0.02072583  0.02051906  0.02030891  0.020097171  0.01988530\n",
       "brush_dis     0.07054732  0.04596870  0.02066460 -0.005349201 -0.03205902\n",
       "sleep_dis     0.12535205  0.12775628  0.13013460  0.132488176  0.13481805\n",
       "eat_dis       0.06317749  0.06470625  0.06618606  0.067616079  0.06899510\n",
       "exercise_dis -0.06325495 -0.05878218 -0.05413295 -0.049340717 -0.04443755"
      ]
     },
     "metadata": {},
     "output_type": "display_data"
    }
   ],
   "source": [
    "cr<-calc.relimp(lm_fit,type='lmg')\n",
    "cr"
   ]
  },
  {
   "cell_type": "code",
   "execution_count": 39,
   "metadata": {
    "ExecuteTime": {
     "end_time": "2020-11-13T11:32:21.266508Z",
     "start_time": "2020-11-13T11:33:00.518Z"
    }
   },
   "outputs": [
    {
     "data": {
      "image/png": "[encoded data removed]",
      "text/plain": [
       "Plot with title “Relative importances for bc_dis”"
      ]
     },
     "metadata": {
      "image/png": {
       "height": 420,
       "width": 420
      }
     },
     "output_type": "display_data"
    }
   ],
   "source": [
    "plot(cr)"
   ]
  },
  {
   "cell_type": "code",
   "execution_count": 40,
   "metadata": {
    "ExecuteTime": {
     "end_time": "2020-11-13T11:32:22.718220Z",
     "start_time": "2020-11-13T11:33:02.018Z"
    }
   },
   "outputs": [
    {
     "data": {
      "text/html": [
       "<style>\n",
       ".dl-inline {width: auto; margin:0; padding: 0}\n",
       ".dl-inline>dt, .dl-inline>dd {float: none; width: auto; display: inline-block}\n",
       ".dl-inline>dt::after {content: \":\\0020\"; padding-right: .5ex}\n",
       ".dl-inline>dt:not(:first-of-type) {padding-left: .5ex}\n",
       "</style><dl class=dl-inline><dt>day_dis</dt><dd>0.011515989181733</dd><dt>brush_dis</dt><dd>0.000588166841327109</dd><dt>sleep_dis</dt><dd>0.0301689046068962</dd><dt>eat_dis</dt><dd>0.0152763940491253</dd><dt>exercise_dis</dt><dd>0.00258855690341526</dd></dl>\n"
      ],
      "text/latex": [
       "\\begin{description*}\n",
       "\\item[day\\textbackslash{}\\_dis] 0.011515989181733\n",
       "\\item[brush\\textbackslash{}\\_dis] 0.000588166841327109\n",
       "\\item[sleep\\textbackslash{}\\_dis] 0.0301689046068962\n",
       "\\item[eat\\textbackslash{}\\_dis] 0.0152763940491253\n",
       "\\item[exercise\\textbackslash{}\\_dis] 0.00258855690341526\n",
       "\\end{description*}\n"
      ],
      "text/markdown": [
       "day_dis\n",
       ":   0.011515989181733brush_dis\n",
       ":   0.000588166841327109sleep_dis\n",
       ":   0.0301689046068962eat_dis\n",
       ":   0.0152763940491253exercise_dis\n",
       ":   0.00258855690341526\n",
       "\n"
      ],
      "text/plain": [
       "     day_dis    brush_dis    sleep_dis      eat_dis exercise_dis \n",
       "0.0115159892 0.0005881668 0.0301689046 0.0152763940 0.0025885569 "
      ]
     },
     "metadata": {},
     "output_type": "display_data"
    }
   ],
   "source": [
    "MO_BC <- cr$lmg\n",
    "MO_BC"
   ]
  },
  {
   "cell_type": "code",
   "execution_count": 41,
   "metadata": {
    "ExecuteTime": {
     "end_time": "2020-11-13T11:32:42.383340Z",
     "start_time": "2020-11-13T11:33:21.678Z"
    }
   },
   "outputs": [
    {
     "data": {
      "text/plain": [
       "\n",
       "Call:\n",
       "lm(formula = cbr_dis ~ day_dis + brush_dis + sleep_dis + eat_dis + \n",
       "    exercise_dis)\n",
       "\n",
       "Coefficients:\n",
       " (Intercept)       day_dis     brush_dis     sleep_dis       eat_dis  \n",
       "    4.618553      0.008810      0.007791      0.019703      0.059538  \n",
       "exercise_dis  \n",
       "   -0.005808  \n"
      ]
     },
     "metadata": {},
     "output_type": "display_data"
    }
   ],
   "source": [
    "#multiple regression on log-transformed canberra dissimilarities\n",
    "\n",
    "lm_fit<-lm(cbr_dis~day_dis+brush_dis+sleep_dis+eat_dis+exercise_dis)\n",
    "lm_fit"
   ]
  },
  {
   "cell_type": "code",
   "execution_count": 42,
   "metadata": {
    "ExecuteTime": {
     "end_time": "2020-11-13T11:32:43.445107Z",
     "start_time": "2020-11-13T11:33:22.645Z"
    }
   },
   "outputs": [
    {
     "data": {
      "text/plain": [
       "Response variable: cbr_dis \n",
       "Total response variance: 0.02072786 \n",
       "Analysis based on 14706 observations \n",
       "\n",
       "5 Regressors: \n",
       "day_dis brush_dis sleep_dis eat_dis exercise_dis \n",
       "Proportion of variance explained by model: 4.49%\n",
       "Metrics are not normalized (rela=FALSE). \n",
       "\n",
       "Relative importance metrics: \n",
       "\n",
       "                      lmg\n",
       "day_dis      0.0067918578\n",
       "brush_dis    0.0001174682\n",
       "sleep_dis    0.0014989751\n",
       "eat_dis      0.0361500572\n",
       "exercise_dis 0.0003345229\n",
       "\n",
       "Average coefficients for different model sizes: \n",
       "\n",
       "                       1X         2Xs          3Xs          4Xs          5Xs\n",
       "day_dis       0.009334834  0.00920002  0.009067224  0.008937118  0.008810180\n",
       "brush_dis     0.016771110  0.01583936  0.014051636  0.011378500  0.007790733\n",
       "sleep_dis     0.013394366  0.01496041  0.016533936  0.018114755  0.019702602\n",
       "eat_dis       0.058972018  0.05913717  0.059286828  0.059420632  0.059538071\n",
       "exercise_dis -0.015296028 -0.01302716 -0.010678239 -0.008266299 -0.005807854"
      ]
     },
     "metadata": {},
     "output_type": "display_data"
    }
   ],
   "source": [
    "# relative importance\n",
    "cr<-calc.relimp(lm_fit,type='lmg')\n",
    "cr"
   ]
  },
  {
   "cell_type": "code",
   "execution_count": 43,
   "metadata": {
    "ExecuteTime": {
     "end_time": "2020-11-13T11:32:45.084240Z",
     "start_time": "2020-11-13T11:33:24.337Z"
    }
   },
   "outputs": [
    {
     "data": {
      "image/png": "[encoded data removed]",
      "text/plain": [
       "Plot with title “Relative importances for cbr_dis”"
      ]
     },
     "metadata": {
      "image/png": {
       "height": 420,
       "width": 420
      }
     },
     "output_type": "display_data"
    }
   ],
   "source": [
    "plot(cr)"
   ]
  },
  {
   "cell_type": "markdown",
   "metadata": {},
   "source": [
    "# ME"
   ]
  },
  {
   "cell_type": "code",
   "execution_count": 44,
   "metadata": {
    "ExecuteTime": {
     "end_time": "2020-11-13T11:32:46.751513Z",
     "start_time": "2020-11-13T11:33:26.054Z"
    }
   },
   "outputs": [
    {
     "data": {
      "text/html": [
       "<style>\n",
       ".list-inline {list-style: none; margin:0; padding: 0}\n",
       ".list-inline>li {display: inline-block}\n",
       ".list-inline>li:not(:last-child)::after {content: \"\\00b7\"; padding: 0 .5ex}\n",
       "</style>\n",
       "<ol class=list-inline><li>220</li><li>39</li></ol>\n"
      ],
      "text/latex": [
       "\\begin{enumerate*}\n",
       "\\item 220\n",
       "\\item 39\n",
       "\\end{enumerate*}\n"
      ],
      "text/markdown": [
       "1. 220\n",
       "2. 39\n",
       "\n",
       "\n"
      ],
      "text/plain": [
       "[1] 220  39"
      ]
     },
     "metadata": {},
     "output_type": "display_data"
    }
   ],
   "source": [
    "ME_md<-md[which(md$Host_ID=='ME'),]\n",
    "dim(ME_md)"
   ]
  },
  {
   "cell_type": "code",
   "execution_count": 45,
   "metadata": {
    "ExecuteTime": {
     "end_time": "2020-11-13T11:32:47.429876Z",
     "start_time": "2020-11-13T11:33:26.726Z"
    }
   },
   "outputs": [],
   "source": [
    "# filter bc distance\n",
    "bc_dis <- braycurtis_dis[rownames(ME_md),rownames(ME_md)]  \n",
    "bc_dis <- as.dist(bc_dis)\n",
    "bc_dis <- log(bc_dis)"
   ]
  },
  {
   "cell_type": "code",
   "execution_count": 46,
   "metadata": {
    "ExecuteTime": {
     "end_time": "2020-11-13T11:32:48.014106Z",
     "start_time": "2020-11-13T11:33:27.310Z"
    }
   },
   "outputs": [],
   "source": [
    "# filter canberra-distance\n",
    "cbr_dis <- canberra_dis[rownames(ME_md),rownames(ME_md)] \n",
    "cbr_dis <- as.dist(cbr_dis)\n",
    "cbr_dis <- log(cbr_dis)"
   ]
  },
  {
   "cell_type": "code",
   "execution_count": 47,
   "metadata": {
    "ExecuteTime": {
     "end_time": "2020-11-13T11:32:48.588864Z",
     "start_time": "2020-11-13T11:33:27.879Z"
    }
   },
   "outputs": [],
   "source": [
    "day_dis<-daisy(ME_md['Day'],metric = \"euclidean\")\n",
    "brush_dis<-daisy(ME_md['Brush'],metric = \"gower\")\n",
    "sleep_dis<-daisy(ME_md['Sleep'],metric = \"gower\")\n",
    "eat_dis<-daisy(ME_md['Eat'],metric = \"gower\")\n",
    "exercise_dis<-daisy(ME_md['Exercise'],metric = \"gower\")\n"
   ]
  },
  {
   "cell_type": "code",
   "execution_count": 48,
   "metadata": {
    "ExecuteTime": {
     "end_time": "2020-11-13T11:32:49.191384Z",
     "start_time": "2020-11-13T11:33:28.474Z"
    }
   },
   "outputs": [
    {
     "data": {
      "text/plain": [
       "\n",
       "Call:\n",
       "lm(formula = bc_dis ~ day_dis + brush_dis + sleep_dis + eat_dis + \n",
       "    exercise_dis)\n",
       "\n",
       "Coefficients:\n",
       " (Intercept)       day_dis     brush_dis     sleep_dis       eat_dis  \n",
       "  -1.2947001     0.0568373    -0.0544550     0.0006732     0.1311576  \n",
       "exercise_dis  \n",
       "   0.1039419  \n"
      ]
     },
     "metadata": {},
     "output_type": "display_data"
    }
   ],
   "source": [
    "#multiple regression on log-transformed Bray-Curtis dissimilarities\n",
    "\n",
    "lm_fit <- lm(bc_dis~day_dis+brush_dis+sleep_dis+eat_dis+exercise_dis)\n",
    "lm_fit"
   ]
  },
  {
   "cell_type": "code",
   "execution_count": 49,
   "metadata": {
    "ExecuteTime": {
     "end_time": "2020-11-13T11:32:50.026218Z",
     "start_time": "2020-11-13T11:33:29.146Z"
    }
   },
   "outputs": [
    {
     "data": {
      "text/plain": [
       "Response variable: bc_dis \n",
       "Total response variance: 0.08798594 \n",
       "Analysis based on 24090 observations \n",
       "\n",
       "5 Regressors: \n",
       "day_dis brush_dis sleep_dis eat_dis exercise_dis \n",
       "Proportion of variance explained by model: 9.89%\n",
       "Metrics are not normalized (rela=FALSE). \n",
       "\n",
       "Relative importance metrics: \n",
       "\n",
       "                      lmg\n",
       "day_dis      0.0683239442\n",
       "brush_dis    0.0015347378\n",
       "sleep_dis    0.0001336385\n",
       "eat_dis      0.0251730602\n",
       "exercise_dis 0.0037734141\n",
       "\n",
       "Average coefficients for different model sizes: \n",
       "\n",
       "                      1X         2Xs          3Xs          4Xs           5Xs\n",
       "day_dis       0.05666319  0.05669233  0.056730590  0.056778692  0.0568372949\n",
       "brush_dis    -0.04956848 -0.05033541 -0.051394445 -0.052761875 -0.0544550330\n",
       "sleep_dis    -0.01942546 -0.01466740 -0.009731137 -0.004617402  0.0006731762\n",
       "eat_dis       0.12711634  0.12802135  0.128993506  0.130037484  0.1311575921\n",
       "exercise_dis  0.09212421  0.09488704  0.097775251  0.100792354  0.1039419120"
      ]
     },
     "metadata": {},
     "output_type": "display_data"
    }
   ],
   "source": [
    "# relative importance\n",
    "cr<-calc.relimp(lm_fit,type='lmg')\n",
    "cr"
   ]
  },
  {
   "cell_type": "code",
   "execution_count": 50,
   "metadata": {
    "ExecuteTime": {
     "end_time": "2020-11-13T11:32:50.527116Z",
     "start_time": "2020-11-13T11:33:29.777Z"
    }
   },
   "outputs": [
    {
     "data": {
      "image/png": "[encoded data removed]",
      "text/plain": [
       "Plot with title “Relative importances for bc_dis”"
      ]
     },
     "metadata": {
      "image/png": {
       "height": 420,
       "width": 420
      }
     },
     "output_type": "display_data"
    }
   ],
   "source": [
    "plot(cr)"
   ]
  },
  {
   "cell_type": "code",
   "execution_count": 51,
   "metadata": {
    "ExecuteTime": {
     "end_time": "2020-11-13T11:32:51.445823Z",
     "start_time": "2020-11-13T11:33:30.737Z"
    }
   },
   "outputs": [
    {
     "data": {
      "text/plain": [
       "\n",
       "Call:\n",
       "lm(formula = cbr_dis ~ day_dis + brush_dis + sleep_dis + eat_dis + \n",
       "    exercise_dis)\n",
       "\n",
       "Coefficients:\n",
       " (Intercept)       day_dis     brush_dis     sleep_dis       eat_dis  \n",
       "    4.438726      0.018935      0.012955     -0.018143      0.142349  \n",
       "exercise_dis  \n",
       "   -0.002176  \n"
      ]
     },
     "metadata": {},
     "output_type": "display_data"
    }
   ],
   "source": [
    "#multiple regression on log-transformed canberra dissimilarities\n",
    "\n",
    "lm_fit<-lm(cbr_dis~day_dis+brush_dis+sleep_dis+eat_dis+exercise_dis)\n",
    "lm_fit"
   ]
  },
  {
   "cell_type": "code",
   "execution_count": 52,
   "metadata": {
    "ExecuteTime": {
     "end_time": "2020-11-13T11:32:52.596588Z",
     "start_time": "2020-11-13T11:33:31.735Z"
    }
   },
   "outputs": [
    {
     "data": {
      "text/plain": [
       "Response variable: cbr_dis \n",
       "Total response variance: 0.03087846 \n",
       "Analysis based on 24090 observations \n",
       "\n",
       "5 Regressors: \n",
       "day_dis brush_dis sleep_dis eat_dis exercise_dis \n",
       "Proportion of variance explained by model: 11.16%\n",
       "Metrics are not normalized (rela=FALSE). \n",
       "\n",
       "Relative importance metrics: \n",
       "\n",
       "                      lmg\n",
       "day_dis      0.0215919363\n",
       "brush_dis    0.0004859178\n",
       "sleep_dis    0.0015421800\n",
       "eat_dis      0.0878477920\n",
       "exercise_dis 0.0001014417\n",
       "\n",
       "Average coefficients for different model sizes: \n",
       "\n",
       "                      1X         2Xs          3Xs          4Xs          5Xs\n",
       "day_dis       0.01886967  0.01887706  0.018889962  0.018908961  0.018934549\n",
       "brush_dis     0.01985530  0.01843321  0.016812627  0.014988289  0.012954587\n",
       "sleep_dis    -0.02927591 -0.02673819 -0.024034181 -0.021167800 -0.018142955\n",
       "eat_dis       0.14331570  0.14308310  0.142843537  0.142598441  0.142349129\n",
       "exercise_dis -0.01337799 -0.01063875 -0.007857262 -0.005035591 -0.002175774"
      ]
     },
     "metadata": {},
     "output_type": "display_data"
    }
   ],
   "source": [
    "# relative importance\n",
    "cr<-calc.relimp(lm_fit,type='lmg')\n",
    "cr"
   ]
  },
  {
   "cell_type": "code",
   "execution_count": 53,
   "metadata": {
    "ExecuteTime": {
     "end_time": "2020-11-13T11:32:53.288329Z",
     "start_time": "2020-11-13T11:33:32.543Z"
    }
   },
   "outputs": [
    {
     "data": {
      "image/png": "[encoded data removed]",
      "text/plain": [
       "Plot with title “Relative importances for cbr_dis”"
      ]
     },
     "metadata": {
      "image/png": {
       "height": 420,
       "width": 420
      }
     },
     "output_type": "display_data"
    }
   ],
   "source": [
    "plot(cr)"
   ]
  },
  {
   "cell_type": "code",
   "execution_count": null,
   "metadata": {},
   "outputs": [],
   "source": []
  }
 ],
 "metadata": {
  "kernelspec": {
   "display_name": "R",
   "language": "R",
   "name": "ir"
  },
  "language_info": {
   "codemirror_mode": "r",
   "file_extension": ".r",
   "mimetype": "text/x-r-source",
   "name": "R",
   "pygments_lexer": "r",
   "version": "4.0.0"
  },
  "toc": {
   "base_numbering": 1,
   "nav_menu": {},
   "number_sections": true,
   "sideBar": true,
   "skip_h1_title": false,
   "title_cell": "Table of Contents",
   "title_sidebar": "Contents",
   "toc_cell": false,
   "toc_position": {
    "height": "calc(100% - 180px)",
    "left": "10px",
    "top": "150px",
    "width": "165px"
   },
   "toc_section_display": true,
   "toc_window_display": true
  }
 },
 "nbformat": 4,
 "nbformat_minor": 4
}
